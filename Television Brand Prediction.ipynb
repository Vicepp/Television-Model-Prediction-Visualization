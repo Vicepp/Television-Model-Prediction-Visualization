{
 "cells": [
  {
   "cell_type": "code",
   "execution_count": 1,
   "metadata": {},
   "outputs": [],
   "source": [
    "import pandas as pd\n",
    "import numpy as np\n",
    "import matplotlib.pyplot as plt\n",
    "import seaborn as sns\n",
    "sns.set()"
   ]
  },
  {
   "cell_type": "code",
   "execution_count": 2,
   "metadata": {},
   "outputs": [],
   "source": [
    "train = pd.read_csv(\"TV_Final.csv\")"
   ]
  },
  {
   "cell_type": "code",
   "execution_count": 3,
   "metadata": {},
   "outputs": [
    {
     "data": {
      "text/html": [
       "<div>\n",
       "<style scoped>\n",
       "    .dataframe tbody tr th:only-of-type {\n",
       "        vertical-align: middle;\n",
       "    }\n",
       "\n",
       "    .dataframe tbody tr th {\n",
       "        vertical-align: top;\n",
       "    }\n",
       "\n",
       "    .dataframe thead th {\n",
       "        text-align: right;\n",
       "    }\n",
       "</style>\n",
       "<table border=\"1\" class=\"dataframe\">\n",
       "  <thead>\n",
       "    <tr style=\"text-align: right;\">\n",
       "      <th></th>\n",
       "      <th>Brand</th>\n",
       "      <th>Resolution</th>\n",
       "      <th>Size</th>\n",
       "      <th>Selling Price</th>\n",
       "      <th>Original Price</th>\n",
       "      <th>Operating System</th>\n",
       "      <th>Rating</th>\n",
       "    </tr>\n",
       "  </thead>\n",
       "  <tbody>\n",
       "    <tr>\n",
       "      <th>0</th>\n",
       "      <td>TOSHIBA</td>\n",
       "      <td>Ultra HD LED</td>\n",
       "      <td>55</td>\n",
       "      <td>37999</td>\n",
       "      <td>54990</td>\n",
       "      <td>VIDAA</td>\n",
       "      <td>4.3</td>\n",
       "    </tr>\n",
       "    <tr>\n",
       "      <th>1</th>\n",
       "      <td>TCL</td>\n",
       "      <td>QLED Ultra HD</td>\n",
       "      <td>55</td>\n",
       "      <td>52999</td>\n",
       "      <td>129990</td>\n",
       "      <td>Android</td>\n",
       "      <td>4.4</td>\n",
       "    </tr>\n",
       "    <tr>\n",
       "      <th>2</th>\n",
       "      <td>realme</td>\n",
       "      <td>HD LED</td>\n",
       "      <td>32</td>\n",
       "      <td>13999</td>\n",
       "      <td>17999</td>\n",
       "      <td>Android</td>\n",
       "      <td>4.3</td>\n",
       "    </tr>\n",
       "    <tr>\n",
       "      <th>3</th>\n",
       "      <td>Mi</td>\n",
       "      <td>HD LED</td>\n",
       "      <td>32</td>\n",
       "      <td>14999</td>\n",
       "      <td>19999</td>\n",
       "      <td>Android</td>\n",
       "      <td>4.4</td>\n",
       "    </tr>\n",
       "    <tr>\n",
       "      <th>4</th>\n",
       "      <td>realme</td>\n",
       "      <td>HD LED</td>\n",
       "      <td>32</td>\n",
       "      <td>12999</td>\n",
       "      <td>21999</td>\n",
       "      <td>Android</td>\n",
       "      <td>4.3</td>\n",
       "    </tr>\n",
       "    <tr>\n",
       "      <th>...</th>\n",
       "      <td>...</td>\n",
       "      <td>...</td>\n",
       "      <td>...</td>\n",
       "      <td>...</td>\n",
       "      <td>...</td>\n",
       "      <td>...</td>\n",
       "      <td>...</td>\n",
       "    </tr>\n",
       "    <tr>\n",
       "      <th>907</th>\n",
       "      <td>SONY</td>\n",
       "      <td>Full HD LED</td>\n",
       "      <td>43</td>\n",
       "      <td>44999</td>\n",
       "      <td>57900</td>\n",
       "      <td>Linux</td>\n",
       "      <td>4.4</td>\n",
       "    </tr>\n",
       "    <tr>\n",
       "      <th>908</th>\n",
       "      <td>SONY</td>\n",
       "      <td>Full HD LED</td>\n",
       "      <td>40</td>\n",
       "      <td>41499</td>\n",
       "      <td>51900</td>\n",
       "      <td>Linux</td>\n",
       "      <td>4.6</td>\n",
       "    </tr>\n",
       "    <tr>\n",
       "      <th>909</th>\n",
       "      <td>SONY</td>\n",
       "      <td>Ultra HD LED</td>\n",
       "      <td>65</td>\n",
       "      <td>149990</td>\n",
       "      <td>184990</td>\n",
       "      <td>Linux</td>\n",
       "      <td>4.3</td>\n",
       "    </tr>\n",
       "    <tr>\n",
       "      <th>910</th>\n",
       "      <td>SONY</td>\n",
       "      <td>HD LED</td>\n",
       "      <td>32</td>\n",
       "      <td>32900</td>\n",
       "      <td>32900</td>\n",
       "      <td>Linux</td>\n",
       "      <td>4.4</td>\n",
       "    </tr>\n",
       "    <tr>\n",
       "      <th>911</th>\n",
       "      <td>SONY</td>\n",
       "      <td>Full HD LED</td>\n",
       "      <td>43</td>\n",
       "      <td>56900</td>\n",
       "      <td>56900</td>\n",
       "      <td>Linux</td>\n",
       "      <td>4.6</td>\n",
       "    </tr>\n",
       "  </tbody>\n",
       "</table>\n",
       "<p>912 rows × 7 columns</p>\n",
       "</div>"
      ],
      "text/plain": [
       "       Brand     Resolution  Size   Selling Price  Original Price  \\\n",
       "0    TOSHIBA   Ultra HD LED     55          37999           54990   \n",
       "1       TCL   QLED Ultra HD     55          52999          129990   \n",
       "2    realme          HD LED     32          13999           17999   \n",
       "3        Mi          HD LED     32          14999           19999   \n",
       "4    realme          HD LED     32          12999           21999   \n",
       "..       ...            ...    ...            ...             ...   \n",
       "907    SONY     Full HD LED     43          44999           57900   \n",
       "908    SONY     Full HD LED     40          41499           51900   \n",
       "909    SONY    Ultra HD LED     65         149990          184990   \n",
       "910    SONY          HD LED     32          32900           32900   \n",
       "911    SONY     Full HD LED     43          56900           56900   \n",
       "\n",
       "    Operating System  Rating  \n",
       "0              VIDAA     4.3  \n",
       "1            Android     4.4  \n",
       "2            Android     4.3  \n",
       "3            Android     4.4  \n",
       "4            Android     4.3  \n",
       "..               ...     ...  \n",
       "907            Linux     4.4  \n",
       "908            Linux     4.6  \n",
       "909            Linux     4.3  \n",
       "910            Linux     4.4  \n",
       "911            Linux     4.6  \n",
       "\n",
       "[912 rows x 7 columns]"
      ]
     },
     "execution_count": 3,
     "metadata": {},
     "output_type": "execute_result"
    }
   ],
   "source": [
    "train"
   ]
  },
  {
   "cell_type": "code",
   "execution_count": 4,
   "metadata": {},
   "outputs": [
    {
     "data": {
      "text/html": [
       "<div>\n",
       "<style scoped>\n",
       "    .dataframe tbody tr th:only-of-type {\n",
       "        vertical-align: middle;\n",
       "    }\n",
       "\n",
       "    .dataframe tbody tr th {\n",
       "        vertical-align: top;\n",
       "    }\n",
       "\n",
       "    .dataframe thead th {\n",
       "        text-align: right;\n",
       "    }\n",
       "</style>\n",
       "<table border=\"1\" class=\"dataframe\">\n",
       "  <thead>\n",
       "    <tr style=\"text-align: right;\">\n",
       "      <th></th>\n",
       "      <th>Size</th>\n",
       "      <th>Selling Price</th>\n",
       "      <th>Original Price</th>\n",
       "      <th>Rating</th>\n",
       "    </tr>\n",
       "  </thead>\n",
       "  <tbody>\n",
       "    <tr>\n",
       "      <th>count</th>\n",
       "      <td>912.000000</td>\n",
       "      <td>912.000000</td>\n",
       "      <td>912.000000</td>\n",
       "      <td>692.000000</td>\n",
       "    </tr>\n",
       "    <tr>\n",
       "      <th>mean</th>\n",
       "      <td>45.942982</td>\n",
       "      <td>59358.606360</td>\n",
       "      <td>81975.213816</td>\n",
       "      <td>4.234104</td>\n",
       "    </tr>\n",
       "    <tr>\n",
       "      <th>std</th>\n",
       "      <td>12.316492</td>\n",
       "      <td>65866.677856</td>\n",
       "      <td>84823.568826</td>\n",
       "      <td>0.366694</td>\n",
       "    </tr>\n",
       "    <tr>\n",
       "      <th>min</th>\n",
       "      <td>17.000000</td>\n",
       "      <td>4849.000000</td>\n",
       "      <td>6999.000000</td>\n",
       "      <td>2.000000</td>\n",
       "    </tr>\n",
       "    <tr>\n",
       "      <th>25%</th>\n",
       "      <td>32.000000</td>\n",
       "      <td>19797.500000</td>\n",
       "      <td>28990.000000</td>\n",
       "      <td>4.100000</td>\n",
       "    </tr>\n",
       "    <tr>\n",
       "      <th>50%</th>\n",
       "      <td>43.000000</td>\n",
       "      <td>36990.000000</td>\n",
       "      <td>52900.000000</td>\n",
       "      <td>4.300000</td>\n",
       "    </tr>\n",
       "    <tr>\n",
       "      <th>75%</th>\n",
       "      <td>55.000000</td>\n",
       "      <td>67064.250000</td>\n",
       "      <td>99900.000000</td>\n",
       "      <td>4.400000</td>\n",
       "    </tr>\n",
       "    <tr>\n",
       "      <th>max</th>\n",
       "      <td>85.000000</td>\n",
       "      <td>499990.000000</td>\n",
       "      <td>549990.000000</td>\n",
       "      <td>5.000000</td>\n",
       "    </tr>\n",
       "  </tbody>\n",
       "</table>\n",
       "</div>"
      ],
      "text/plain": [
       "            Size   Selling Price  Original Price      Rating\n",
       "count  912.000000     912.000000      912.000000  692.000000\n",
       "mean    45.942982   59358.606360    81975.213816    4.234104\n",
       "std     12.316492   65866.677856    84823.568826    0.366694\n",
       "min     17.000000    4849.000000     6999.000000    2.000000\n",
       "25%     32.000000   19797.500000    28990.000000    4.100000\n",
       "50%     43.000000   36990.000000    52900.000000    4.300000\n",
       "75%     55.000000   67064.250000    99900.000000    4.400000\n",
       "max     85.000000  499990.000000   549990.000000    5.000000"
      ]
     },
     "execution_count": 4,
     "metadata": {},
     "output_type": "execute_result"
    }
   ],
   "source": [
    "train.describe(\n",
    ")"
   ]
  },
  {
   "cell_type": "code",
   "execution_count": 5,
   "metadata": {},
   "outputs": [],
   "source": [
    "train[\"O-S Price\"]  = train[\"Original Price\"]- train[\"Selling Price\"]"
   ]
  },
  {
   "cell_type": "code",
   "execution_count": 6,
   "metadata": {},
   "outputs": [],
   "source": [
    "train.columns\n",
    "cols=['Brand', 'Resolution',\"Operating System\", 'Rating','Size ', 'Selling Price', 'Original Price','O-S Price']\n",
    "train=train[cols]"
   ]
  },
  {
   "cell_type": "code",
   "execution_count": 7,
   "metadata": {},
   "outputs": [
    {
     "data": {
      "text/html": [
       "<div>\n",
       "<style scoped>\n",
       "    .dataframe tbody tr th:only-of-type {\n",
       "        vertical-align: middle;\n",
       "    }\n",
       "\n",
       "    .dataframe tbody tr th {\n",
       "        vertical-align: top;\n",
       "    }\n",
       "\n",
       "    .dataframe thead th {\n",
       "        text-align: right;\n",
       "    }\n",
       "</style>\n",
       "<table border=\"1\" class=\"dataframe\">\n",
       "  <thead>\n",
       "    <tr style=\"text-align: right;\">\n",
       "      <th></th>\n",
       "      <th>Brand</th>\n",
       "      <th>Resolution</th>\n",
       "      <th>Operating System</th>\n",
       "      <th>Rating</th>\n",
       "      <th>Size</th>\n",
       "      <th>Selling Price</th>\n",
       "      <th>Original Price</th>\n",
       "      <th>O-S Price</th>\n",
       "    </tr>\n",
       "  </thead>\n",
       "  <tbody>\n",
       "    <tr>\n",
       "      <th>0</th>\n",
       "      <td>TOSHIBA</td>\n",
       "      <td>Ultra HD LED</td>\n",
       "      <td>VIDAA</td>\n",
       "      <td>4.3</td>\n",
       "      <td>55</td>\n",
       "      <td>37999</td>\n",
       "      <td>54990</td>\n",
       "      <td>16991</td>\n",
       "    </tr>\n",
       "    <tr>\n",
       "      <th>1</th>\n",
       "      <td>TCL</td>\n",
       "      <td>QLED Ultra HD</td>\n",
       "      <td>Android</td>\n",
       "      <td>4.4</td>\n",
       "      <td>55</td>\n",
       "      <td>52999</td>\n",
       "      <td>129990</td>\n",
       "      <td>76991</td>\n",
       "    </tr>\n",
       "    <tr>\n",
       "      <th>2</th>\n",
       "      <td>realme</td>\n",
       "      <td>HD LED</td>\n",
       "      <td>Android</td>\n",
       "      <td>4.3</td>\n",
       "      <td>32</td>\n",
       "      <td>13999</td>\n",
       "      <td>17999</td>\n",
       "      <td>4000</td>\n",
       "    </tr>\n",
       "    <tr>\n",
       "      <th>3</th>\n",
       "      <td>Mi</td>\n",
       "      <td>HD LED</td>\n",
       "      <td>Android</td>\n",
       "      <td>4.4</td>\n",
       "      <td>32</td>\n",
       "      <td>14999</td>\n",
       "      <td>19999</td>\n",
       "      <td>5000</td>\n",
       "    </tr>\n",
       "    <tr>\n",
       "      <th>4</th>\n",
       "      <td>realme</td>\n",
       "      <td>HD LED</td>\n",
       "      <td>Android</td>\n",
       "      <td>4.3</td>\n",
       "      <td>32</td>\n",
       "      <td>12999</td>\n",
       "      <td>21999</td>\n",
       "      <td>9000</td>\n",
       "    </tr>\n",
       "    <tr>\n",
       "      <th>...</th>\n",
       "      <td>...</td>\n",
       "      <td>...</td>\n",
       "      <td>...</td>\n",
       "      <td>...</td>\n",
       "      <td>...</td>\n",
       "      <td>...</td>\n",
       "      <td>...</td>\n",
       "      <td>...</td>\n",
       "    </tr>\n",
       "    <tr>\n",
       "      <th>907</th>\n",
       "      <td>SONY</td>\n",
       "      <td>Full HD LED</td>\n",
       "      <td>Linux</td>\n",
       "      <td>4.4</td>\n",
       "      <td>43</td>\n",
       "      <td>44999</td>\n",
       "      <td>57900</td>\n",
       "      <td>12901</td>\n",
       "    </tr>\n",
       "    <tr>\n",
       "      <th>908</th>\n",
       "      <td>SONY</td>\n",
       "      <td>Full HD LED</td>\n",
       "      <td>Linux</td>\n",
       "      <td>4.6</td>\n",
       "      <td>40</td>\n",
       "      <td>41499</td>\n",
       "      <td>51900</td>\n",
       "      <td>10401</td>\n",
       "    </tr>\n",
       "    <tr>\n",
       "      <th>909</th>\n",
       "      <td>SONY</td>\n",
       "      <td>Ultra HD LED</td>\n",
       "      <td>Linux</td>\n",
       "      <td>4.3</td>\n",
       "      <td>65</td>\n",
       "      <td>149990</td>\n",
       "      <td>184990</td>\n",
       "      <td>35000</td>\n",
       "    </tr>\n",
       "    <tr>\n",
       "      <th>910</th>\n",
       "      <td>SONY</td>\n",
       "      <td>HD LED</td>\n",
       "      <td>Linux</td>\n",
       "      <td>4.4</td>\n",
       "      <td>32</td>\n",
       "      <td>32900</td>\n",
       "      <td>32900</td>\n",
       "      <td>0</td>\n",
       "    </tr>\n",
       "    <tr>\n",
       "      <th>911</th>\n",
       "      <td>SONY</td>\n",
       "      <td>Full HD LED</td>\n",
       "      <td>Linux</td>\n",
       "      <td>4.6</td>\n",
       "      <td>43</td>\n",
       "      <td>56900</td>\n",
       "      <td>56900</td>\n",
       "      <td>0</td>\n",
       "    </tr>\n",
       "  </tbody>\n",
       "</table>\n",
       "<p>912 rows × 8 columns</p>\n",
       "</div>"
      ],
      "text/plain": [
       "       Brand     Resolution Operating System  Rating  Size   Selling Price  \\\n",
       "0    TOSHIBA   Ultra HD LED            VIDAA     4.3     55          37999   \n",
       "1       TCL   QLED Ultra HD          Android     4.4     55          52999   \n",
       "2    realme          HD LED          Android     4.3     32          13999   \n",
       "3        Mi          HD LED          Android     4.4     32          14999   \n",
       "4    realme          HD LED          Android     4.3     32          12999   \n",
       "..       ...            ...              ...     ...    ...            ...   \n",
       "907    SONY     Full HD LED            Linux     4.4     43          44999   \n",
       "908    SONY     Full HD LED            Linux     4.6     40          41499   \n",
       "909    SONY    Ultra HD LED            Linux     4.3     65         149990   \n",
       "910    SONY          HD LED            Linux     4.4     32          32900   \n",
       "911    SONY     Full HD LED            Linux     4.6     43          56900   \n",
       "\n",
       "     Original Price  O-S Price  \n",
       "0             54990      16991  \n",
       "1            129990      76991  \n",
       "2             17999       4000  \n",
       "3             19999       5000  \n",
       "4             21999       9000  \n",
       "..              ...        ...  \n",
       "907           57900      12901  \n",
       "908           51900      10401  \n",
       "909          184990      35000  \n",
       "910           32900          0  \n",
       "911           56900          0  \n",
       "\n",
       "[912 rows x 8 columns]"
      ]
     },
     "execution_count": 7,
     "metadata": {},
     "output_type": "execute_result"
    }
   ],
   "source": [
    "train"
   ]
  },
  {
   "cell_type": "markdown",
   "metadata": {},
   "source": [
    "### Visualizing The Data"
   ]
  },
  {
   "cell_type": "code",
   "execution_count": 8,
   "metadata": {},
   "outputs": [
    {
     "data": {
      "text/plain": [
       "<AxesSubplot:>"
      ]
     },
     "execution_count": 8,
     "metadata": {},
     "output_type": "execute_result"
    },
    {
     "data": {
      "image/png": "[encoded data removed]",
      "text/plain": [
       "<Figure size 720x360 with 1 Axes>"
      ]
     },
     "metadata": {},
     "output_type": "display_data"
    }
   ],
   "source": [
    "sns.set_style(\"whitegrid\")\n",
    "train[\"Brand\"].value_counts().plot(kind=\"bar\", figsize=(10,5))"
   ]
  },
  {
   "cell_type": "markdown",
   "metadata": {},
   "source": [
    "as we can see Samsung, LG, Sony, TCL, Panasonic are top most sold televison"
   ]
  },
  {
   "cell_type": "code",
   "execution_count": 9,
   "metadata": {},
   "outputs": [
    {
     "data": {
      "text/plain": [
       "SAMSUNG             140\n",
       "LG                  122\n",
       "SONY                 62\n",
       "TCL                  44\n",
       "Panasonic            30\n",
       "Micromax             25\n",
       "Vu                   23\n",
       "Lloyd                22\n",
       "Mi                   19\n",
       "iFFALCON by TCL      19\n",
       "Thomson              18\n",
       "Haier                18\n",
       "Sansui               18\n",
       "PHILIPS              17\n",
       "Blaupunkt            15\n",
       "KODAK                15\n",
       "MOTOROLA             15\n",
       "IMPEX                13\n",
       "TOSHIBA              13\n",
       "Croma                12\n",
       "Candes               12\n",
       "Onida                12\n",
       "Power Guard          11\n",
       "Nokia                11\n",
       "T-Series             11\n",
       "Hisense              10\n",
       "CloudWalker           9\n",
       "OnePlus               9\n",
       "RGL                   9\n",
       "Acer                  9\n",
       "Coocaa                9\n",
       "AISEN                 8\n",
       "MarQ by Flipkart      8\n",
       "Sharp                 8\n",
       "Onix                  8\n",
       "G-TEN                 8\n",
       "realme                7\n",
       "Adsun                 7\n",
       "Intex                 7\n",
       "Samsung               6\n",
       "Name: Brand, dtype: int64"
      ]
     },
     "execution_count": 9,
     "metadata": {},
     "output_type": "execute_result"
    }
   ],
   "source": [
    "train[\"Brand\"].value_counts().nlargest(40)"
   ]
  },
  {
   "cell_type": "code",
   "execution_count": 10,
   "metadata": {},
   "outputs": [
    {
     "data": {
      "text/plain": [
       "<AxesSubplot:ylabel='Resolution'>"
      ]
     },
     "execution_count": 10,
     "metadata": {},
     "output_type": "execute_result"
    },
    {
     "data": {
      "image/png": "[encoded data removed]",
      "text/plain": [
       "<Figure size 1440x720 with 1 Axes>"
      ]
     },
     "metadata": {},
     "output_type": "display_data"
    }
   ],
   "source": [
    "sns.set_style(\"whitegrid\")\n",
    "train[\"Resolution\"].value_counts().plot(kind=\"pie\", figsize=(20,10))"
   ]
  },
  {
   "cell_type": "code",
   "execution_count": 11,
   "metadata": {},
   "outputs": [
    {
     "data": {
      "text/plain": [
       "Ultra HD LED     399\n",
       "HD LED           229\n",
       "Full HD LED      220\n",
       "QLED Ultra HD     60\n",
       "HD Plasma          4\n",
       "Name: Resolution, dtype: int64"
      ]
     },
     "execution_count": 11,
     "metadata": {},
     "output_type": "execute_result"
    }
   ],
   "source": [
    "train[\"Resolution\"].value_counts()"
   ]
  },
  {
   "cell_type": "code",
   "execution_count": 12,
   "metadata": {},
   "outputs": [
    {
     "data": {
      "text/plain": [
       "<AxesSubplot:>"
      ]
     },
     "execution_count": 12,
     "metadata": {},
     "output_type": "execute_result"
    },
    {
     "data": {
      "image/png": "[encoded data removed]",
      "text/plain": [
       "<Figure size 720x360 with 1 Axes>"
      ]
     },
     "metadata": {},
     "output_type": "display_data"
    }
   ],
   "source": [
    "train[\"Operating System\"].value_counts().nlargest(10).plot(kind=\"bar\", figsize=(10,5))"
   ]
  },
  {
   "cell_type": "code",
   "execution_count": 13,
   "metadata": {},
   "outputs": [
    {
     "data": {
      "text/plain": [
       "Android      474\n",
       "Tizen        145\n",
       "Linux        127\n",
       "WebOS        109\n",
       "HomeOS        28\n",
       "VIDAA         13\n",
       "FireTV OS      5\n",
       "Name: Operating System, dtype: int64"
      ]
     },
     "execution_count": 13,
     "metadata": {},
     "output_type": "execute_result"
    }
   ],
   "source": [
    "train[\"Operating System\"].value_counts()"
   ]
  },
  {
   "cell_type": "markdown",
   "metadata": {},
   "source": [
    "### Outliers"
   ]
  },
  {
   "cell_type": "code",
   "execution_count": 14,
   "metadata": {},
   "outputs": [
    {
     "name": "stderr",
     "output_type": "stream",
     "text": [
      "C:\\Users\\DVICEPP\\anaconda3\\lib\\site-packages\\seaborn\\_decorators.py:36: FutureWarning: Pass the following variables as keyword args: x, y. From version 0.12, the only valid positional argument will be `data`, and passing other arguments without an explicit keyword will result in an error or misinterpretation.\n",
      "  warnings.warn(\n"
     ]
    },
    {
     "data": {
      "text/plain": [
       "<seaborn.axisgrid.JointGrid at 0xff74f5bdc0>"
      ]
     },
     "execution_count": 14,
     "metadata": {},
     "output_type": "execute_result"
    },
    {
     "data": {
      "image/png": "[encoded data removed]",
      "text/plain": [
       "<Figure size 432x432 with 3 Axes>"
      ]
     },
     "metadata": {},
     "output_type": "display_data"
    }
   ],
   "source": [
    "sns.jointplot(train.Rating, train[\"Selling Price\"])"
   ]
  },
  {
   "cell_type": "code",
   "execution_count": 15,
   "metadata": {},
   "outputs": [],
   "source": [
    "train = train.drop(train[(train[\"Rating\"]<2.3) & (train[\"Selling Price\"]>400000)].index).reset_index(drop=True)"
   ]
  },
  {
   "cell_type": "code",
   "execution_count": 16,
   "metadata": {},
   "outputs": [
    {
     "name": "stderr",
     "output_type": "stream",
     "text": [
      "C:\\Users\\DVICEPP\\anaconda3\\lib\\site-packages\\seaborn\\_decorators.py:36: FutureWarning: Pass the following variable as a keyword arg: x. From version 0.12, the only valid positional argument will be `data`, and passing other arguments without an explicit keyword will result in an error or misinterpretation.\n",
      "  warnings.warn(\n"
     ]
    },
    {
     "data": {
      "text/plain": [
       "<AxesSubplot:xlabel='Rating'>"
      ]
     },
     "execution_count": 16,
     "metadata": {},
     "output_type": "execute_result"
    },
    {
     "data": {
      "image/png": "[encoded data removed]",
      "text/plain": [
       "<Figure size 432x288 with 1 Axes>"
      ]
     },
     "metadata": {},
     "output_type": "display_data"
    }
   ],
   "source": [
    "sns.boxplot(train[\"Rating\"])"
   ]
  },
  {
   "cell_type": "code",
   "execution_count": 17,
   "metadata": {},
   "outputs": [
    {
     "data": {
      "text/plain": [
       "4.3    156\n",
       "4.4    121\n",
       "4.2     77\n",
       "4.1     55\n",
       "4.5     48\n",
       "4.0     38\n",
       "3.9     35\n",
       "4.7     27\n",
       "3.8     25\n",
       "3.7     23\n",
       "4.6     20\n",
       "5.0     18\n",
       "4.8     16\n",
       "3.6      9\n",
       "3.0      5\n",
       "3.3      3\n",
       "3.5      3\n",
       "2.7      3\n",
       "4.9      2\n",
       "3.4      2\n",
       "2.8      2\n",
       "2.4      1\n",
       "2.0      1\n",
       "2.5      1\n",
       "2.6      1\n",
       "Name: Rating, dtype: int64"
      ]
     },
     "execution_count": 17,
     "metadata": {},
     "output_type": "execute_result"
    }
   ],
   "source": [
    "train[\"Rating\"].value_counts()"
   ]
  },
  {
   "cell_type": "markdown",
   "metadata": {},
   "source": [
    "i will be droping raiting below 2, they stand like outliers, since machine barely make decision on insufficient data, so we can assume that costumers rarely request for product with low rating, but i will suggest that most cases, it shouldnt be treated"
   ]
  },
  {
   "cell_type": "code",
   "execution_count": 18,
   "metadata": {},
   "outputs": [],
   "source": [
    "train = train.drop(train[train[\"Rating\"]<2.6].index).reset_index(drop=True)"
   ]
  },
  {
   "cell_type": "code",
   "execution_count": 19,
   "metadata": {},
   "outputs": [
    {
     "name": "stderr",
     "output_type": "stream",
     "text": [
      "C:\\Users\\DVICEPP\\anaconda3\\lib\\site-packages\\seaborn\\_decorators.py:36: FutureWarning: Pass the following variable as a keyword arg: x. From version 0.12, the only valid positional argument will be `data`, and passing other arguments without an explicit keyword will result in an error or misinterpretation.\n",
      "  warnings.warn(\n"
     ]
    },
    {
     "data": {
      "text/plain": [
       "<AxesSubplot:xlabel='Rating'>"
      ]
     },
     "execution_count": 19,
     "metadata": {},
     "output_type": "execute_result"
    },
    {
     "data": {
      "image/png": "[encoded data removed]",
      "text/plain": [
       "<Figure size 432x288 with 1 Axes>"
      ]
     },
     "metadata": {},
     "output_type": "display_data"
    }
   ],
   "source": [
    "sns.boxplot(train[\"Rating\"])"
   ]
  },
  {
   "cell_type": "code",
   "execution_count": 20,
   "metadata": {},
   "outputs": [
    {
     "name": "stderr",
     "output_type": "stream",
     "text": [
      "C:\\Users\\DVICEPP\\anaconda3\\lib\\site-packages\\seaborn\\_decorators.py:36: FutureWarning: Pass the following variable as a keyword arg: x. From version 0.12, the only valid positional argument will be `data`, and passing other arguments without an explicit keyword will result in an error or misinterpretation.\n",
      "  warnings.warn(\n"
     ]
    },
    {
     "data": {
      "text/plain": [
       "<AxesSubplot:xlabel='Selling Price'>"
      ]
     },
     "execution_count": 20,
     "metadata": {},
     "output_type": "execute_result"
    },
    {
     "data": {
      "image/png": "[encoded data removed]",
      "text/plain": [
       "<Figure size 432x288 with 1 Axes>"
      ]
     },
     "metadata": {},
     "output_type": "display_data"
    }
   ],
   "source": [
    "sns.boxplot(train[\"Selling Price\"])"
   ]
  },
  {
   "cell_type": "code",
   "execution_count": 21,
   "metadata": {},
   "outputs": [],
   "source": [
    "train = train.drop(train[train[\"Selling Price\"]>400000].index).reset_index(drop=True)"
   ]
  },
  {
   "cell_type": "code",
   "execution_count": 22,
   "metadata": {},
   "outputs": [
    {
     "name": "stderr",
     "output_type": "stream",
     "text": [
      "C:\\Users\\DVICEPP\\anaconda3\\lib\\site-packages\\seaborn\\_decorators.py:36: FutureWarning: Pass the following variable as a keyword arg: x. From version 0.12, the only valid positional argument will be `data`, and passing other arguments without an explicit keyword will result in an error or misinterpretation.\n",
      "  warnings.warn(\n"
     ]
    },
    {
     "data": {
      "text/plain": [
       "<AxesSubplot:xlabel='Selling Price'>"
      ]
     },
     "execution_count": 22,
     "metadata": {},
     "output_type": "execute_result"
    },
    {
     "data": {
      "image/png": "[encoded data removed]",
      "text/plain": [
       "<Figure size 432x288 with 1 Axes>"
      ]
     },
     "metadata": {},
     "output_type": "display_data"
    }
   ],
   "source": [
    "sns.boxplot(train[\"Selling Price\"])"
   ]
  },
  {
   "cell_type": "code",
   "execution_count": 23,
   "metadata": {},
   "outputs": [],
   "source": [
    "train = train.drop(train[train[\"Original Price\"]>400000].index).reset_index(drop=True)"
   ]
  },
  {
   "cell_type": "code",
   "execution_count": 24,
   "metadata": {},
   "outputs": [
    {
     "name": "stderr",
     "output_type": "stream",
     "text": [
      "C:\\Users\\DVICEPP\\anaconda3\\lib\\site-packages\\seaborn\\_decorators.py:36: FutureWarning: Pass the following variable as a keyword arg: x. From version 0.12, the only valid positional argument will be `data`, and passing other arguments without an explicit keyword will result in an error or misinterpretation.\n",
      "  warnings.warn(\n"
     ]
    },
    {
     "data": {
      "text/plain": [
       "<AxesSubplot:xlabel='Original Price'>"
      ]
     },
     "execution_count": 24,
     "metadata": {},
     "output_type": "execute_result"
    },
    {
     "data": {
      "image/png": "[encoded data removed]",
      "text/plain": [
       "<Figure size 432x288 with 1 Axes>"
      ]
     },
     "metadata": {},
     "output_type": "display_data"
    }
   ],
   "source": [
    "sns.boxplot(train[\"Original Price\"])"
   ]
  },
  {
   "cell_type": "code",
   "execution_count": 25,
   "metadata": {},
   "outputs": [
    {
     "name": "stderr",
     "output_type": "stream",
     "text": [
      "C:\\Users\\DVICEPP\\anaconda3\\lib\\site-packages\\seaborn\\_decorators.py:36: FutureWarning: Pass the following variable as a keyword arg: x. From version 0.12, the only valid positional argument will be `data`, and passing other arguments without an explicit keyword will result in an error or misinterpretation.\n",
      "  warnings.warn(\n"
     ]
    },
    {
     "data": {
      "text/plain": [
       "<AxesSubplot:xlabel='Size '>"
      ]
     },
     "execution_count": 25,
     "metadata": {},
     "output_type": "execute_result"
    },
    {
     "data": {
      "image/png": "[encoded data removed]",
      "text/plain": [
       "<Figure size 432x288 with 1 Axes>"
      ]
     },
     "metadata": {},
     "output_type": "display_data"
    }
   ],
   "source": [
    "sns.boxplot(train[\"Size \"])"
   ]
  },
  {
   "cell_type": "markdown",
   "metadata": {},
   "source": [
    "### Missing Data"
   ]
  },
  {
   "cell_type": "code",
   "execution_count": 26,
   "metadata": {},
   "outputs": [],
   "source": [
    "df = train.copy()"
   ]
  },
  {
   "cell_type": "code",
   "execution_count": 27,
   "metadata": {},
   "outputs": [
    {
     "data": {
      "text/plain": [
       "Rating              213\n",
       "Operating System     11\n",
       "Brand                 0\n",
       "Resolution            0\n",
       "Size                  0\n",
       "Selling Price         0\n",
       "Original Price        0\n",
       "O-S Price             0\n",
       "dtype: int64"
      ]
     },
     "execution_count": 27,
     "metadata": {},
     "output_type": "execute_result"
    }
   ],
   "source": [
    "train.isna().sum().sort_values(ascending=False)"
   ]
  },
  {
   "cell_type": "code",
   "execution_count": 28,
   "metadata": {},
   "outputs": [],
   "source": [
    "from sklearn.impute import SimpleImputer"
   ]
  },
  {
   "cell_type": "code",
   "execution_count": 29,
   "metadata": {},
   "outputs": [],
   "source": [
    "mis_cols=df[\"Rating\"].mean()\n",
    "df[\"Rating\"].fillna(mis_cols, inplace=True)"
   ]
  },
  {
   "cell_type": "code",
   "execution_count": 30,
   "metadata": {},
   "outputs": [
    {
     "data": {
      "text/html": [
       "<div>\n",
       "<style scoped>\n",
       "    .dataframe tbody tr th:only-of-type {\n",
       "        vertical-align: middle;\n",
       "    }\n",
       "\n",
       "    .dataframe tbody tr th {\n",
       "        vertical-align: top;\n",
       "    }\n",
       "\n",
       "    .dataframe thead th {\n",
       "        text-align: right;\n",
       "    }\n",
       "</style>\n",
       "<table border=\"1\" class=\"dataframe\">\n",
       "  <thead>\n",
       "    <tr style=\"text-align: right;\">\n",
       "      <th></th>\n",
       "      <th>Brand</th>\n",
       "      <th>Resolution</th>\n",
       "      <th>Operating System</th>\n",
       "      <th>Rating</th>\n",
       "      <th>Size</th>\n",
       "      <th>Selling Price</th>\n",
       "      <th>Original Price</th>\n",
       "      <th>O-S Price</th>\n",
       "    </tr>\n",
       "  </thead>\n",
       "  <tbody>\n",
       "    <tr>\n",
       "      <th>180</th>\n",
       "      <td>LG</td>\n",
       "      <td>Ultra HD LED</td>\n",
       "      <td>WebOS</td>\n",
       "      <td>4.800000</td>\n",
       "      <td>55</td>\n",
       "      <td>76197</td>\n",
       "      <td>129990</td>\n",
       "      <td>53793</td>\n",
       "    </tr>\n",
       "    <tr>\n",
       "      <th>181</th>\n",
       "      <td>realme</td>\n",
       "      <td>Full HD LED</td>\n",
       "      <td>Android</td>\n",
       "      <td>4.200000</td>\n",
       "      <td>32</td>\n",
       "      <td>17999</td>\n",
       "      <td>23999</td>\n",
       "      <td>6000</td>\n",
       "    </tr>\n",
       "    <tr>\n",
       "      <th>182</th>\n",
       "      <td>Micromax</td>\n",
       "      <td>Full HD LED</td>\n",
       "      <td>Android</td>\n",
       "      <td>3.900000</td>\n",
       "      <td>43</td>\n",
       "      <td>22999</td>\n",
       "      <td>26990</td>\n",
       "      <td>3991</td>\n",
       "    </tr>\n",
       "    <tr>\n",
       "      <th>183</th>\n",
       "      <td>SAMSUNG</td>\n",
       "      <td>QLED Ultra HD</td>\n",
       "      <td>Tizen</td>\n",
       "      <td>4.400000</td>\n",
       "      <td>55</td>\n",
       "      <td>159500</td>\n",
       "      <td>244900</td>\n",
       "      <td>85400</td>\n",
       "    </tr>\n",
       "    <tr>\n",
       "      <th>184</th>\n",
       "      <td>Micromax</td>\n",
       "      <td>Full HD LED</td>\n",
       "      <td>Android</td>\n",
       "      <td>4.300000</td>\n",
       "      <td>43</td>\n",
       "      <td>23990</td>\n",
       "      <td>33000</td>\n",
       "      <td>9010</td>\n",
       "    </tr>\n",
       "    <tr>\n",
       "      <th>185</th>\n",
       "      <td>LG</td>\n",
       "      <td>Ultra HD LED</td>\n",
       "      <td>WebOS</td>\n",
       "      <td>4.500000</td>\n",
       "      <td>43</td>\n",
       "      <td>47499</td>\n",
       "      <td>75343</td>\n",
       "      <td>27844</td>\n",
       "    </tr>\n",
       "    <tr>\n",
       "      <th>186</th>\n",
       "      <td>LG</td>\n",
       "      <td>Ultra HD LED</td>\n",
       "      <td>WebOS</td>\n",
       "      <td>4.241314</td>\n",
       "      <td>43</td>\n",
       "      <td>46969</td>\n",
       "      <td>64990</td>\n",
       "      <td>18021</td>\n",
       "    </tr>\n",
       "    <tr>\n",
       "      <th>187</th>\n",
       "      <td>TCL</td>\n",
       "      <td>Full HD LED</td>\n",
       "      <td>Android</td>\n",
       "      <td>4.300000</td>\n",
       "      <td>75</td>\n",
       "      <td>144790</td>\n",
       "      <td>259990</td>\n",
       "      <td>115200</td>\n",
       "    </tr>\n",
       "    <tr>\n",
       "      <th>188</th>\n",
       "      <td>LG</td>\n",
       "      <td>HD LED</td>\n",
       "      <td>WebOS</td>\n",
       "      <td>4.300000</td>\n",
       "      <td>32</td>\n",
       "      <td>22200</td>\n",
       "      <td>25999</td>\n",
       "      <td>3799</td>\n",
       "    </tr>\n",
       "    <tr>\n",
       "      <th>189</th>\n",
       "      <td>Candes</td>\n",
       "      <td>HD LED</td>\n",
       "      <td>Android</td>\n",
       "      <td>4.100000</td>\n",
       "      <td>24</td>\n",
       "      <td>9999</td>\n",
       "      <td>17990</td>\n",
       "      <td>7991</td>\n",
       "    </tr>\n",
       "    <tr>\n",
       "      <th>190</th>\n",
       "      <td>SAMSUNG</td>\n",
       "      <td>Ultra HD LED</td>\n",
       "      <td>Tizen</td>\n",
       "      <td>4.241314</td>\n",
       "      <td>50</td>\n",
       "      <td>55790</td>\n",
       "      <td>69900</td>\n",
       "      <td>14110</td>\n",
       "    </tr>\n",
       "    <tr>\n",
       "      <th>191</th>\n",
       "      <td>SAMSUNG</td>\n",
       "      <td>QLED Ultra HD</td>\n",
       "      <td>Tizen</td>\n",
       "      <td>4.241314</td>\n",
       "      <td>55</td>\n",
       "      <td>89390</td>\n",
       "      <td>134900</td>\n",
       "      <td>45510</td>\n",
       "    </tr>\n",
       "    <tr>\n",
       "      <th>192</th>\n",
       "      <td>LG</td>\n",
       "      <td>Ultra HD LED</td>\n",
       "      <td>WebOS</td>\n",
       "      <td>4.500000</td>\n",
       "      <td>43</td>\n",
       "      <td>46590</td>\n",
       "      <td>59990</td>\n",
       "      <td>13400</td>\n",
       "    </tr>\n",
       "    <tr>\n",
       "      <th>193</th>\n",
       "      <td>LG</td>\n",
       "      <td>Full HD LED</td>\n",
       "      <td>WebOS</td>\n",
       "      <td>4.200000</td>\n",
       "      <td>55</td>\n",
       "      <td>103990</td>\n",
       "      <td>103990</td>\n",
       "      <td>0</td>\n",
       "    </tr>\n",
       "    <tr>\n",
       "      <th>194</th>\n",
       "      <td>SAMSUNG</td>\n",
       "      <td>Ultra HD LED</td>\n",
       "      <td>Tizen</td>\n",
       "      <td>4.300000</td>\n",
       "      <td>65</td>\n",
       "      <td>85990</td>\n",
       "      <td>116900</td>\n",
       "      <td>30910</td>\n",
       "    </tr>\n",
       "    <tr>\n",
       "      <th>195</th>\n",
       "      <td>SAMSUNG</td>\n",
       "      <td>QLED Ultra HD</td>\n",
       "      <td>Tizen</td>\n",
       "      <td>4.241314</td>\n",
       "      <td>65</td>\n",
       "      <td>318700</td>\n",
       "      <td>399900</td>\n",
       "      <td>81200</td>\n",
       "    </tr>\n",
       "    <tr>\n",
       "      <th>196</th>\n",
       "      <td>SAMSUNG</td>\n",
       "      <td>Ultra HD LED</td>\n",
       "      <td>Tizen</td>\n",
       "      <td>4.241314</td>\n",
       "      <td>43</td>\n",
       "      <td>44870</td>\n",
       "      <td>54900</td>\n",
       "      <td>10030</td>\n",
       "    </tr>\n",
       "    <tr>\n",
       "      <th>197</th>\n",
       "      <td>SAMSUNG</td>\n",
       "      <td>Ultra HD LED</td>\n",
       "      <td>Tizen</td>\n",
       "      <td>4.300000</td>\n",
       "      <td>43</td>\n",
       "      <td>38999</td>\n",
       "      <td>48900</td>\n",
       "      <td>9901</td>\n",
       "    </tr>\n",
       "    <tr>\n",
       "      <th>198</th>\n",
       "      <td>Mi</td>\n",
       "      <td>HD LED</td>\n",
       "      <td>Android</td>\n",
       "      <td>4.400000</td>\n",
       "      <td>32</td>\n",
       "      <td>14999</td>\n",
       "      <td>14999</td>\n",
       "      <td>0</td>\n",
       "    </tr>\n",
       "    <tr>\n",
       "      <th>199</th>\n",
       "      <td>LG</td>\n",
       "      <td>Ultra HD LED</td>\n",
       "      <td>WebOS</td>\n",
       "      <td>4.241314</td>\n",
       "      <td>55</td>\n",
       "      <td>57200</td>\n",
       "      <td>84990</td>\n",
       "      <td>27790</td>\n",
       "    </tr>\n",
       "  </tbody>\n",
       "</table>\n",
       "</div>"
      ],
      "text/plain": [
       "        Brand     Resolution Operating System    Rating  Size   Selling Price  \\\n",
       "180       LG    Ultra HD LED            WebOS  4.800000     55          76197   \n",
       "181   realme     Full HD LED          Android  4.200000     32          17999   \n",
       "182  Micromax    Full HD LED          Android  3.900000     43          22999   \n",
       "183   SAMSUNG  QLED Ultra HD            Tizen  4.400000     55         159500   \n",
       "184  Micromax    Full HD LED          Android  4.300000     43          23990   \n",
       "185       LG    Ultra HD LED            WebOS  4.500000     43          47499   \n",
       "186       LG    Ultra HD LED            WebOS  4.241314     43          46969   \n",
       "187      TCL     Full HD LED          Android  4.300000     75         144790   \n",
       "188       LG          HD LED            WebOS  4.300000     32          22200   \n",
       "189   Candes          HD LED          Android  4.100000     24           9999   \n",
       "190   SAMSUNG   Ultra HD LED            Tizen  4.241314     50          55790   \n",
       "191   SAMSUNG  QLED Ultra HD            Tizen  4.241314     55          89390   \n",
       "192       LG    Ultra HD LED            WebOS  4.500000     43          46590   \n",
       "193       LG     Full HD LED            WebOS  4.200000     55         103990   \n",
       "194   SAMSUNG   Ultra HD LED            Tizen  4.300000     65          85990   \n",
       "195   SAMSUNG  QLED Ultra HD            Tizen  4.241314     65         318700   \n",
       "196   SAMSUNG   Ultra HD LED            Tizen  4.241314     43          44870   \n",
       "197   SAMSUNG   Ultra HD LED            Tizen  4.300000     43          38999   \n",
       "198       Mi          HD LED          Android  4.400000     32          14999   \n",
       "199       LG    Ultra HD LED            WebOS  4.241314     55          57200   \n",
       "\n",
       "     Original Price  O-S Price  \n",
       "180          129990      53793  \n",
       "181           23999       6000  \n",
       "182           26990       3991  \n",
       "183          244900      85400  \n",
       "184           33000       9010  \n",
       "185           75343      27844  \n",
       "186           64990      18021  \n",
       "187          259990     115200  \n",
       "188           25999       3799  \n",
       "189           17990       7991  \n",
       "190           69900      14110  \n",
       "191          134900      45510  \n",
       "192           59990      13400  \n",
       "193          103990          0  \n",
       "194          116900      30910  \n",
       "195          399900      81200  \n",
       "196           54900      10030  \n",
       "197           48900       9901  \n",
       "198           14999          0  \n",
       "199           84990      27790  "
      ]
     },
     "execution_count": 30,
     "metadata": {},
     "output_type": "execute_result"
    }
   ],
   "source": [
    "df[180:200]"
   ]
  },
  {
   "cell_type": "code",
   "execution_count": 31,
   "metadata": {},
   "outputs": [
    {
     "data": {
      "text/plain": [
       "Android      469\n",
       "Tizen        142\n",
       "Linux        124\n",
       "WebOS        106\n",
       "HomeOS        28\n",
       "VIDAA         13\n",
       "FireTV OS      5\n",
       "Name: Operating System, dtype: int64"
      ]
     },
     "execution_count": 31,
     "metadata": {},
     "output_type": "execute_result"
    }
   ],
   "source": [
    "df[\"Operating System\"].value_counts()"
   ]
  },
  {
   "cell_type": "markdown",
   "metadata": {},
   "source": [
    "i have taking time to go through the 11 missing value on Operating system, the major of them is an android "
   ]
  },
  {
   "cell_type": "code",
   "execution_count": 32,
   "metadata": {},
   "outputs": [],
   "source": [
    "df[\"Operating System\"].fillna(\"Android\", inplace=True)"
   ]
  },
  {
   "cell_type": "code",
   "execution_count": 33,
   "metadata": {},
   "outputs": [
    {
     "data": {
      "text/plain": [
       "Brand               0\n",
       "Resolution          0\n",
       "Operating System    0\n",
       "Rating              0\n",
       "Size                0\n",
       "Selling Price       0\n",
       "Original Price      0\n",
       "O-S Price           0\n",
       "dtype: int64"
      ]
     },
     "execution_count": 33,
     "metadata": {},
     "output_type": "execute_result"
    }
   ],
   "source": [
    "df.isna().sum()"
   ]
  },
  {
   "cell_type": "markdown",
   "metadata": {},
   "source": [
    " we have completely clear the missing values"
   ]
  },
  {
   "cell_type": "markdown",
   "metadata": {},
   "source": [
    "### Lebel the data, since ML Understand value"
   ]
  },
  {
   "cell_type": "code",
   "execution_count": 34,
   "metadata": {},
   "outputs": [],
   "source": [
    "from sklearn.preprocessing import LabelEncoder"
   ]
  },
  {
   "cell_type": "code",
   "execution_count": 35,
   "metadata": {},
   "outputs": [
    {
     "data": {
      "text/html": [
       "<div>\n",
       "<style scoped>\n",
       "    .dataframe tbody tr th:only-of-type {\n",
       "        vertical-align: middle;\n",
       "    }\n",
       "\n",
       "    .dataframe tbody tr th {\n",
       "        vertical-align: top;\n",
       "    }\n",
       "\n",
       "    .dataframe thead th {\n",
       "        text-align: right;\n",
       "    }\n",
       "</style>\n",
       "<table border=\"1\" class=\"dataframe\">\n",
       "  <thead>\n",
       "    <tr style=\"text-align: right;\">\n",
       "      <th></th>\n",
       "      <th>Brand</th>\n",
       "      <th>Resolution</th>\n",
       "      <th>Operating System</th>\n",
       "      <th>Rating</th>\n",
       "      <th>Size</th>\n",
       "      <th>Selling Price</th>\n",
       "      <th>Original Price</th>\n",
       "      <th>O-S Price</th>\n",
       "    </tr>\n",
       "  </thead>\n",
       "  <tbody>\n",
       "    <tr>\n",
       "      <th>0</th>\n",
       "      <td>TOSHIBA</td>\n",
       "      <td>Ultra HD LED</td>\n",
       "      <td>VIDAA</td>\n",
       "      <td>4.3</td>\n",
       "      <td>55</td>\n",
       "      <td>37999</td>\n",
       "      <td>54990</td>\n",
       "      <td>16991</td>\n",
       "    </tr>\n",
       "    <tr>\n",
       "      <th>1</th>\n",
       "      <td>TCL</td>\n",
       "      <td>QLED Ultra HD</td>\n",
       "      <td>Android</td>\n",
       "      <td>4.4</td>\n",
       "      <td>55</td>\n",
       "      <td>52999</td>\n",
       "      <td>129990</td>\n",
       "      <td>76991</td>\n",
       "    </tr>\n",
       "    <tr>\n",
       "      <th>2</th>\n",
       "      <td>realme</td>\n",
       "      <td>HD LED</td>\n",
       "      <td>Android</td>\n",
       "      <td>4.3</td>\n",
       "      <td>32</td>\n",
       "      <td>13999</td>\n",
       "      <td>17999</td>\n",
       "      <td>4000</td>\n",
       "    </tr>\n",
       "    <tr>\n",
       "      <th>3</th>\n",
       "      <td>Mi</td>\n",
       "      <td>HD LED</td>\n",
       "      <td>Android</td>\n",
       "      <td>4.4</td>\n",
       "      <td>32</td>\n",
       "      <td>14999</td>\n",
       "      <td>19999</td>\n",
       "      <td>5000</td>\n",
       "    </tr>\n",
       "    <tr>\n",
       "      <th>4</th>\n",
       "      <td>realme</td>\n",
       "      <td>HD LED</td>\n",
       "      <td>Android</td>\n",
       "      <td>4.3</td>\n",
       "      <td>32</td>\n",
       "      <td>12999</td>\n",
       "      <td>21999</td>\n",
       "      <td>9000</td>\n",
       "    </tr>\n",
       "    <tr>\n",
       "      <th>...</th>\n",
       "      <td>...</td>\n",
       "      <td>...</td>\n",
       "      <td>...</td>\n",
       "      <td>...</td>\n",
       "      <td>...</td>\n",
       "      <td>...</td>\n",
       "      <td>...</td>\n",
       "      <td>...</td>\n",
       "    </tr>\n",
       "    <tr>\n",
       "      <th>893</th>\n",
       "      <td>SONY</td>\n",
       "      <td>Full HD LED</td>\n",
       "      <td>Linux</td>\n",
       "      <td>4.4</td>\n",
       "      <td>43</td>\n",
       "      <td>44999</td>\n",
       "      <td>57900</td>\n",
       "      <td>12901</td>\n",
       "    </tr>\n",
       "    <tr>\n",
       "      <th>894</th>\n",
       "      <td>SONY</td>\n",
       "      <td>Full HD LED</td>\n",
       "      <td>Linux</td>\n",
       "      <td>4.6</td>\n",
       "      <td>40</td>\n",
       "      <td>41499</td>\n",
       "      <td>51900</td>\n",
       "      <td>10401</td>\n",
       "    </tr>\n",
       "    <tr>\n",
       "      <th>895</th>\n",
       "      <td>SONY</td>\n",
       "      <td>Ultra HD LED</td>\n",
       "      <td>Linux</td>\n",
       "      <td>4.3</td>\n",
       "      <td>65</td>\n",
       "      <td>149990</td>\n",
       "      <td>184990</td>\n",
       "      <td>35000</td>\n",
       "    </tr>\n",
       "    <tr>\n",
       "      <th>896</th>\n",
       "      <td>SONY</td>\n",
       "      <td>HD LED</td>\n",
       "      <td>Linux</td>\n",
       "      <td>4.4</td>\n",
       "      <td>32</td>\n",
       "      <td>32900</td>\n",
       "      <td>32900</td>\n",
       "      <td>0</td>\n",
       "    </tr>\n",
       "    <tr>\n",
       "      <th>897</th>\n",
       "      <td>SONY</td>\n",
       "      <td>Full HD LED</td>\n",
       "      <td>Linux</td>\n",
       "      <td>4.6</td>\n",
       "      <td>43</td>\n",
       "      <td>56900</td>\n",
       "      <td>56900</td>\n",
       "      <td>0</td>\n",
       "    </tr>\n",
       "  </tbody>\n",
       "</table>\n",
       "<p>898 rows × 8 columns</p>\n",
       "</div>"
      ],
      "text/plain": [
       "       Brand     Resolution Operating System  Rating  Size   Selling Price  \\\n",
       "0    TOSHIBA   Ultra HD LED            VIDAA     4.3     55          37999   \n",
       "1       TCL   QLED Ultra HD          Android     4.4     55          52999   \n",
       "2    realme          HD LED          Android     4.3     32          13999   \n",
       "3        Mi          HD LED          Android     4.4     32          14999   \n",
       "4    realme          HD LED          Android     4.3     32          12999   \n",
       "..       ...            ...              ...     ...    ...            ...   \n",
       "893    SONY     Full HD LED            Linux     4.4     43          44999   \n",
       "894    SONY     Full HD LED            Linux     4.6     40          41499   \n",
       "895    SONY    Ultra HD LED            Linux     4.3     65         149990   \n",
       "896    SONY          HD LED            Linux     4.4     32          32900   \n",
       "897    SONY     Full HD LED            Linux     4.6     43          56900   \n",
       "\n",
       "     Original Price  O-S Price  \n",
       "0             54990      16991  \n",
       "1            129990      76991  \n",
       "2             17999       4000  \n",
       "3             19999       5000  \n",
       "4             21999       9000  \n",
       "..              ...        ...  \n",
       "893           57900      12901  \n",
       "894           51900      10401  \n",
       "895          184990      35000  \n",
       "896           32900          0  \n",
       "897           56900          0  \n",
       "\n",
       "[898 rows x 8 columns]"
      ]
     },
     "execution_count": 35,
     "metadata": {},
     "output_type": "execute_result"
    }
   ],
   "source": [
    "df"
   ]
  },
  {
   "cell_type": "code",
   "execution_count": 36,
   "metadata": {},
   "outputs": [],
   "source": [
    "ibe= LabelEncoder()\n",
    "cols= (\"Operating System\", \"Resolution\")\n",
    "for i in cols:\n",
    "    df[i] = ibe.fit_transform(list(df[i].values))"
   ]
  },
  {
   "cell_type": "code",
   "execution_count": 37,
   "metadata": {},
   "outputs": [
    {
     "data": {
      "text/html": [
       "<div>\n",
       "<style scoped>\n",
       "    .dataframe tbody tr th:only-of-type {\n",
       "        vertical-align: middle;\n",
       "    }\n",
       "\n",
       "    .dataframe tbody tr th {\n",
       "        vertical-align: top;\n",
       "    }\n",
       "\n",
       "    .dataframe thead th {\n",
       "        text-align: right;\n",
       "    }\n",
       "</style>\n",
       "<table border=\"1\" class=\"dataframe\">\n",
       "  <thead>\n",
       "    <tr style=\"text-align: right;\">\n",
       "      <th></th>\n",
       "      <th>Brand</th>\n",
       "      <th>Resolution</th>\n",
       "      <th>Operating System</th>\n",
       "      <th>Rating</th>\n",
       "      <th>Size</th>\n",
       "      <th>Selling Price</th>\n",
       "      <th>Original Price</th>\n",
       "      <th>O-S Price</th>\n",
       "    </tr>\n",
       "  </thead>\n",
       "  <tbody>\n",
       "    <tr>\n",
       "      <th>0</th>\n",
       "      <td>TOSHIBA</td>\n",
       "      <td>4</td>\n",
       "      <td>5</td>\n",
       "      <td>4.3</td>\n",
       "      <td>55</td>\n",
       "      <td>37999</td>\n",
       "      <td>54990</td>\n",
       "      <td>16991</td>\n",
       "    </tr>\n",
       "    <tr>\n",
       "      <th>1</th>\n",
       "      <td>TCL</td>\n",
       "      <td>3</td>\n",
       "      <td>0</td>\n",
       "      <td>4.4</td>\n",
       "      <td>55</td>\n",
       "      <td>52999</td>\n",
       "      <td>129990</td>\n",
       "      <td>76991</td>\n",
       "    </tr>\n",
       "    <tr>\n",
       "      <th>2</th>\n",
       "      <td>realme</td>\n",
       "      <td>1</td>\n",
       "      <td>0</td>\n",
       "      <td>4.3</td>\n",
       "      <td>32</td>\n",
       "      <td>13999</td>\n",
       "      <td>17999</td>\n",
       "      <td>4000</td>\n",
       "    </tr>\n",
       "    <tr>\n",
       "      <th>3</th>\n",
       "      <td>Mi</td>\n",
       "      <td>1</td>\n",
       "      <td>0</td>\n",
       "      <td>4.4</td>\n",
       "      <td>32</td>\n",
       "      <td>14999</td>\n",
       "      <td>19999</td>\n",
       "      <td>5000</td>\n",
       "    </tr>\n",
       "    <tr>\n",
       "      <th>4</th>\n",
       "      <td>realme</td>\n",
       "      <td>1</td>\n",
       "      <td>0</td>\n",
       "      <td>4.3</td>\n",
       "      <td>32</td>\n",
       "      <td>12999</td>\n",
       "      <td>21999</td>\n",
       "      <td>9000</td>\n",
       "    </tr>\n",
       "    <tr>\n",
       "      <th>...</th>\n",
       "      <td>...</td>\n",
       "      <td>...</td>\n",
       "      <td>...</td>\n",
       "      <td>...</td>\n",
       "      <td>...</td>\n",
       "      <td>...</td>\n",
       "      <td>...</td>\n",
       "      <td>...</td>\n",
       "    </tr>\n",
       "    <tr>\n",
       "      <th>893</th>\n",
       "      <td>SONY</td>\n",
       "      <td>0</td>\n",
       "      <td>3</td>\n",
       "      <td>4.4</td>\n",
       "      <td>43</td>\n",
       "      <td>44999</td>\n",
       "      <td>57900</td>\n",
       "      <td>12901</td>\n",
       "    </tr>\n",
       "    <tr>\n",
       "      <th>894</th>\n",
       "      <td>SONY</td>\n",
       "      <td>0</td>\n",
       "      <td>3</td>\n",
       "      <td>4.6</td>\n",
       "      <td>40</td>\n",
       "      <td>41499</td>\n",
       "      <td>51900</td>\n",
       "      <td>10401</td>\n",
       "    </tr>\n",
       "    <tr>\n",
       "      <th>895</th>\n",
       "      <td>SONY</td>\n",
       "      <td>4</td>\n",
       "      <td>3</td>\n",
       "      <td>4.3</td>\n",
       "      <td>65</td>\n",
       "      <td>149990</td>\n",
       "      <td>184990</td>\n",
       "      <td>35000</td>\n",
       "    </tr>\n",
       "    <tr>\n",
       "      <th>896</th>\n",
       "      <td>SONY</td>\n",
       "      <td>1</td>\n",
       "      <td>3</td>\n",
       "      <td>4.4</td>\n",
       "      <td>32</td>\n",
       "      <td>32900</td>\n",
       "      <td>32900</td>\n",
       "      <td>0</td>\n",
       "    </tr>\n",
       "    <tr>\n",
       "      <th>897</th>\n",
       "      <td>SONY</td>\n",
       "      <td>0</td>\n",
       "      <td>3</td>\n",
       "      <td>4.6</td>\n",
       "      <td>43</td>\n",
       "      <td>56900</td>\n",
       "      <td>56900</td>\n",
       "      <td>0</td>\n",
       "    </tr>\n",
       "  </tbody>\n",
       "</table>\n",
       "<p>898 rows × 8 columns</p>\n",
       "</div>"
      ],
      "text/plain": [
       "       Brand  Resolution  Operating System  Rating  Size   Selling Price  \\\n",
       "0    TOSHIBA           4                 5     4.3     55          37999   \n",
       "1       TCL            3                 0     4.4     55          52999   \n",
       "2    realme            1                 0     4.3     32          13999   \n",
       "3        Mi            1                 0     4.4     32          14999   \n",
       "4    realme            1                 0     4.3     32          12999   \n",
       "..       ...         ...               ...     ...    ...            ...   \n",
       "893    SONY            0                 3     4.4     43          44999   \n",
       "894    SONY            0                 3     4.6     40          41499   \n",
       "895    SONY            4                 3     4.3     65         149990   \n",
       "896    SONY            1                 3     4.4     32          32900   \n",
       "897    SONY            0                 3     4.6     43          56900   \n",
       "\n",
       "     Original Price  O-S Price  \n",
       "0             54990      16991  \n",
       "1            129990      76991  \n",
       "2             17999       4000  \n",
       "3             19999       5000  \n",
       "4             21999       9000  \n",
       "..              ...        ...  \n",
       "893           57900      12901  \n",
       "894           51900      10401  \n",
       "895          184990      35000  \n",
       "896           32900          0  \n",
       "897           56900          0  \n",
       "\n",
       "[898 rows x 8 columns]"
      ]
     },
     "execution_count": 37,
     "metadata": {},
     "output_type": "execute_result"
    }
   ],
   "source": [
    "df"
   ]
  },
  {
   "cell_type": "code",
   "execution_count": 38,
   "metadata": {},
   "outputs": [],
   "source": [
    "corrmat=df.corr()"
   ]
  },
  {
   "cell_type": "code",
   "execution_count": 39,
   "metadata": {},
   "outputs": [
    {
     "data": {
      "text/plain": [
       "Selling Price       1.000000\n",
       "Original Price      0.931340\n",
       "Size                0.674223\n",
       "Operating System    0.433770\n",
       "O-S Price           0.429307\n",
       "Resolution          0.344897\n",
       "Rating              0.122372\n",
       "Name: Selling Price, dtype: float64"
      ]
     },
     "execution_count": 39,
     "metadata": {},
     "output_type": "execute_result"
    }
   ],
   "source": [
    "corrmat[\"Selling Price\"].sort_values(ascending=False)"
   ]
  },
  {
   "cell_type": "markdown",
   "metadata": {},
   "source": [
    "cols = df.columns\n",
    "sns.pairplot(df[(cols)])"
   ]
  },
  {
   "cell_type": "code",
   "execution_count": 40,
   "metadata": {},
   "outputs": [],
   "source": [
    "df[\"Selling Price\"] = np.log1p(df[\"Selling Price\"])"
   ]
  },
  {
   "cell_type": "code",
   "execution_count": 41,
   "metadata": {},
   "outputs": [],
   "source": [
    "df[\"Original Price\"] = np.log1p(df[\"Original Price\"])"
   ]
  },
  {
   "cell_type": "code",
   "execution_count": 42,
   "metadata": {},
   "outputs": [
    {
     "data": {
      "text/html": [
       "<div>\n",
       "<style scoped>\n",
       "    .dataframe tbody tr th:only-of-type {\n",
       "        vertical-align: middle;\n",
       "    }\n",
       "\n",
       "    .dataframe tbody tr th {\n",
       "        vertical-align: top;\n",
       "    }\n",
       "\n",
       "    .dataframe thead th {\n",
       "        text-align: right;\n",
       "    }\n",
       "</style>\n",
       "<table border=\"1\" class=\"dataframe\">\n",
       "  <thead>\n",
       "    <tr style=\"text-align: right;\">\n",
       "      <th></th>\n",
       "      <th>Brand</th>\n",
       "      <th>Resolution</th>\n",
       "      <th>Operating System</th>\n",
       "      <th>Rating</th>\n",
       "      <th>Size</th>\n",
       "      <th>Selling Price</th>\n",
       "      <th>Original Price</th>\n",
       "      <th>O-S Price</th>\n",
       "    </tr>\n",
       "  </thead>\n",
       "  <tbody>\n",
       "    <tr>\n",
       "      <th>0</th>\n",
       "      <td>TOSHIBA</td>\n",
       "      <td>4</td>\n",
       "      <td>5</td>\n",
       "      <td>4.3</td>\n",
       "      <td>55</td>\n",
       "      <td>10.545341</td>\n",
       "      <td>10.914925</td>\n",
       "      <td>16991</td>\n",
       "    </tr>\n",
       "    <tr>\n",
       "      <th>1</th>\n",
       "      <td>TCL</td>\n",
       "      <td>3</td>\n",
       "      <td>0</td>\n",
       "      <td>4.4</td>\n",
       "      <td>55</td>\n",
       "      <td>10.878047</td>\n",
       "      <td>11.775220</td>\n",
       "      <td>76991</td>\n",
       "    </tr>\n",
       "    <tr>\n",
       "      <th>2</th>\n",
       "      <td>realme</td>\n",
       "      <td>1</td>\n",
       "      <td>0</td>\n",
       "      <td>4.3</td>\n",
       "      <td>32</td>\n",
       "      <td>9.546813</td>\n",
       "      <td>9.798127</td>\n",
       "      <td>4000</td>\n",
       "    </tr>\n",
       "    <tr>\n",
       "      <th>3</th>\n",
       "      <td>Mi</td>\n",
       "      <td>1</td>\n",
       "      <td>0</td>\n",
       "      <td>4.4</td>\n",
       "      <td>32</td>\n",
       "      <td>9.615805</td>\n",
       "      <td>9.903488</td>\n",
       "      <td>5000</td>\n",
       "    </tr>\n",
       "    <tr>\n",
       "      <th>4</th>\n",
       "      <td>realme</td>\n",
       "      <td>1</td>\n",
       "      <td>0</td>\n",
       "      <td>4.3</td>\n",
       "      <td>32</td>\n",
       "      <td>9.472705</td>\n",
       "      <td>9.998798</td>\n",
       "      <td>9000</td>\n",
       "    </tr>\n",
       "    <tr>\n",
       "      <th>...</th>\n",
       "      <td>...</td>\n",
       "      <td>...</td>\n",
       "      <td>...</td>\n",
       "      <td>...</td>\n",
       "      <td>...</td>\n",
       "      <td>...</td>\n",
       "      <td>...</td>\n",
       "      <td>...</td>\n",
       "    </tr>\n",
       "    <tr>\n",
       "      <th>893</th>\n",
       "      <td>SONY</td>\n",
       "      <td>0</td>\n",
       "      <td>3</td>\n",
       "      <td>4.4</td>\n",
       "      <td>43</td>\n",
       "      <td>10.714418</td>\n",
       "      <td>10.966490</td>\n",
       "      <td>12901</td>\n",
       "    </tr>\n",
       "    <tr>\n",
       "      <th>894</th>\n",
       "      <td>SONY</td>\n",
       "      <td>0</td>\n",
       "      <td>3</td>\n",
       "      <td>4.6</td>\n",
       "      <td>40</td>\n",
       "      <td>10.633449</td>\n",
       "      <td>10.857093</td>\n",
       "      <td>10401</td>\n",
       "    </tr>\n",
       "    <tr>\n",
       "      <th>895</th>\n",
       "      <td>SONY</td>\n",
       "      <td>4</td>\n",
       "      <td>3</td>\n",
       "      <td>4.3</td>\n",
       "      <td>65</td>\n",
       "      <td>11.918331</td>\n",
       "      <td>12.128062</td>\n",
       "      <td>35000</td>\n",
       "    </tr>\n",
       "    <tr>\n",
       "      <th>896</th>\n",
       "      <td>SONY</td>\n",
       "      <td>1</td>\n",
       "      <td>3</td>\n",
       "      <td>4.4</td>\n",
       "      <td>32</td>\n",
       "      <td>10.401258</td>\n",
       "      <td>10.401258</td>\n",
       "      <td>0</td>\n",
       "    </tr>\n",
       "    <tr>\n",
       "      <th>897</th>\n",
       "      <td>SONY</td>\n",
       "      <td>0</td>\n",
       "      <td>3</td>\n",
       "      <td>4.6</td>\n",
       "      <td>43</td>\n",
       "      <td>10.949068</td>\n",
       "      <td>10.949068</td>\n",
       "      <td>0</td>\n",
       "    </tr>\n",
       "  </tbody>\n",
       "</table>\n",
       "<p>898 rows × 8 columns</p>\n",
       "</div>"
      ],
      "text/plain": [
       "       Brand  Resolution  Operating System  Rating  Size   Selling Price  \\\n",
       "0    TOSHIBA           4                 5     4.3     55      10.545341   \n",
       "1       TCL            3                 0     4.4     55      10.878047   \n",
       "2    realme            1                 0     4.3     32       9.546813   \n",
       "3        Mi            1                 0     4.4     32       9.615805   \n",
       "4    realme            1                 0     4.3     32       9.472705   \n",
       "..       ...         ...               ...     ...    ...            ...   \n",
       "893    SONY            0                 3     4.4     43      10.714418   \n",
       "894    SONY            0                 3     4.6     40      10.633449   \n",
       "895    SONY            4                 3     4.3     65      11.918331   \n",
       "896    SONY            1                 3     4.4     32      10.401258   \n",
       "897    SONY            0                 3     4.6     43      10.949068   \n",
       "\n",
       "     Original Price  O-S Price  \n",
       "0         10.914925      16991  \n",
       "1         11.775220      76991  \n",
       "2          9.798127       4000  \n",
       "3          9.903488       5000  \n",
       "4          9.998798       9000  \n",
       "..              ...        ...  \n",
       "893       10.966490      12901  \n",
       "894       10.857093      10401  \n",
       "895       12.128062      35000  \n",
       "896       10.401258          0  \n",
       "897       10.949068          0  \n",
       "\n",
       "[898 rows x 8 columns]"
      ]
     },
     "execution_count": 42,
     "metadata": {},
     "output_type": "execute_result"
    }
   ],
   "source": [
    "df"
   ]
  },
  {
   "cell_type": "code",
   "execution_count": 43,
   "metadata": {},
   "outputs": [
    {
     "data": {
      "text/html": [
       "<div>\n",
       "<style scoped>\n",
       "    .dataframe tbody tr th:only-of-type {\n",
       "        vertical-align: middle;\n",
       "    }\n",
       "\n",
       "    .dataframe tbody tr th {\n",
       "        vertical-align: top;\n",
       "    }\n",
       "\n",
       "    .dataframe thead th {\n",
       "        text-align: right;\n",
       "    }\n",
       "</style>\n",
       "<table border=\"1\" class=\"dataframe\">\n",
       "  <thead>\n",
       "    <tr style=\"text-align: right;\">\n",
       "      <th></th>\n",
       "      <th>Skewed Feautures</th>\n",
       "    </tr>\n",
       "  </thead>\n",
       "  <tbody>\n",
       "    <tr>\n",
       "      <th>O-S Price</th>\n",
       "      <td>2.701722</td>\n",
       "    </tr>\n",
       "    <tr>\n",
       "      <th>Operating System</th>\n",
       "      <td>0.605622</td>\n",
       "    </tr>\n",
       "    <tr>\n",
       "      <th>Original Price</th>\n",
       "      <td>0.195060</td>\n",
       "    </tr>\n",
       "    <tr>\n",
       "      <th>Selling Price</th>\n",
       "      <td>0.151473</td>\n",
       "    </tr>\n",
       "    <tr>\n",
       "      <th>Size</th>\n",
       "      <td>0.044730</td>\n",
       "    </tr>\n",
       "    <tr>\n",
       "      <th>Resolution</th>\n",
       "      <td>-0.086588</td>\n",
       "    </tr>\n",
       "    <tr>\n",
       "      <th>Rating</th>\n",
       "      <td>-1.269118</td>\n",
       "    </tr>\n",
       "  </tbody>\n",
       "</table>\n",
       "</div>"
      ],
      "text/plain": [
       "                  Skewed Feautures\n",
       "O-S Price                 2.701722\n",
       "Operating System          0.605622\n",
       "Original Price            0.195060\n",
       "Selling Price             0.151473\n",
       "Size                      0.044730\n",
       "Resolution               -0.086588\n",
       "Rating                   -1.269118"
      ]
     },
     "execution_count": 43,
     "metadata": {},
     "output_type": "execute_result"
    }
   ],
   "source": [
    "from scipy.stats import skew\n",
    "numeric= df.dtypes[df.dtypes != \"object\"].index\n",
    "skewed_var = df[numeric].apply(lambda x: skew(x.dropna())).sort_values(ascending=False)\n",
    "skewness=pd.DataFrame({\"Skewed Feautures\" : skewed_var})\n",
    "skewness"
   ]
  },
  {
   "cell_type": "code",
   "execution_count": 44,
   "metadata": {},
   "outputs": [],
   "source": [
    "from scipy.special import boxcox1p\n",
    "skewness= skewness[abs(skewness) > 0.75]\n",
    "skew_var2 = skewness.index\n",
    "for i in skew_var2 :\n",
    "    df[i] = boxcox1p(df[i], 0.15)\n",
    "    df[i] +=1"
   ]
  },
  {
   "cell_type": "code",
   "execution_count": 45,
   "metadata": {},
   "outputs": [
    {
     "data": {
      "text/plain": [
       "Index(['Brand', 'Resolution', 'Operating System', 'Rating', 'Size ',\n",
       "       'Selling Price', 'Original Price', 'O-S Price'],\n",
       "      dtype='object')"
      ]
     },
     "execution_count": 45,
     "metadata": {},
     "output_type": "execute_result"
    }
   ],
   "source": [
    "df.columns"
   ]
  },
  {
   "cell_type": "code",
   "execution_count": 46,
   "metadata": {},
   "outputs": [],
   "source": [
    "from statsmodels.stats.outliers_influence import variance_inflation_factor\n",
    "import statsmodels.api as sm\n",
    "x= df[['Resolution', 'Operating System', 'Rating', 'Size ']]\n",
    "x1= sm.add_constant(x)\n",
    "vif = pd.DataFrame()\n",
    "vif[\"VIF\"] =[variance_inflation_factor(x1.values, 1) for i in range (x1.shape[1])]\n",
    "vif[\"features\"]= x1.columns"
   ]
  },
  {
   "cell_type": "code",
   "execution_count": 47,
   "metadata": {},
   "outputs": [
    {
     "data": {
      "text/html": [
       "<div>\n",
       "<style scoped>\n",
       "    .dataframe tbody tr th:only-of-type {\n",
       "        vertical-align: middle;\n",
       "    }\n",
       "\n",
       "    .dataframe tbody tr th {\n",
       "        vertical-align: top;\n",
       "    }\n",
       "\n",
       "    .dataframe thead th {\n",
       "        text-align: right;\n",
       "    }\n",
       "</style>\n",
       "<table border=\"1\" class=\"dataframe\">\n",
       "  <thead>\n",
       "    <tr style=\"text-align: right;\">\n",
       "      <th></th>\n",
       "      <th>VIF</th>\n",
       "      <th>features</th>\n",
       "    </tr>\n",
       "  </thead>\n",
       "  <tbody>\n",
       "    <tr>\n",
       "      <th>0</th>\n",
       "      <td>1.385846</td>\n",
       "      <td>const</td>\n",
       "    </tr>\n",
       "    <tr>\n",
       "      <th>1</th>\n",
       "      <td>1.385846</td>\n",
       "      <td>Resolution</td>\n",
       "    </tr>\n",
       "    <tr>\n",
       "      <th>2</th>\n",
       "      <td>1.385846</td>\n",
       "      <td>Operating System</td>\n",
       "    </tr>\n",
       "    <tr>\n",
       "      <th>3</th>\n",
       "      <td>1.385846</td>\n",
       "      <td>Rating</td>\n",
       "    </tr>\n",
       "    <tr>\n",
       "      <th>4</th>\n",
       "      <td>1.385846</td>\n",
       "      <td>Size</td>\n",
       "    </tr>\n",
       "  </tbody>\n",
       "</table>\n",
       "</div>"
      ],
      "text/plain": [
       "        VIF          features\n",
       "0  1.385846             const\n",
       "1  1.385846        Resolution\n",
       "2  1.385846  Operating System\n",
       "3  1.385846            Rating\n",
       "4  1.385846             Size "
      ]
     },
     "execution_count": 47,
     "metadata": {},
     "output_type": "execute_result"
    }
   ],
   "source": [
    "vif"
   ]
  },
  {
   "cell_type": "markdown",
   "metadata": {},
   "source": [
    "this is vif since its below 5"
   ]
  },
  {
   "cell_type": "code",
   "execution_count": 48,
   "metadata": {},
   "outputs": [],
   "source": [
    "df = pd.get_dummies(df)"
   ]
  },
  {
   "cell_type": "code",
   "execution_count": 49,
   "metadata": {},
   "outputs": [
    {
     "data": {
      "text/html": [
       "<div>\n",
       "<style scoped>\n",
       "    .dataframe tbody tr th:only-of-type {\n",
       "        vertical-align: middle;\n",
       "    }\n",
       "\n",
       "    .dataframe tbody tr th {\n",
       "        vertical-align: top;\n",
       "    }\n",
       "\n",
       "    .dataframe thead th {\n",
       "        text-align: right;\n",
       "    }\n",
       "</style>\n",
       "<table border=\"1\" class=\"dataframe\">\n",
       "  <thead>\n",
       "    <tr style=\"text-align: right;\">\n",
       "      <th></th>\n",
       "      <th>Resolution</th>\n",
       "      <th>Operating System</th>\n",
       "      <th>Rating</th>\n",
       "      <th>Size</th>\n",
       "      <th>Selling Price</th>\n",
       "      <th>Original Price</th>\n",
       "      <th>O-S Price</th>\n",
       "      <th>Brand_AISEN</th>\n",
       "      <th>Brand_Acer</th>\n",
       "      <th>Brand_Adsun</th>\n",
       "      <th>...</th>\n",
       "      <th>Brand_Sun King</th>\n",
       "      <th>Brand_T-Series</th>\n",
       "      <th>Brand_TCL</th>\n",
       "      <th>Brand_TOSHIBA</th>\n",
       "      <th>Brand_Thomson</th>\n",
       "      <th>Brand_VG</th>\n",
       "      <th>Brand_Vu</th>\n",
       "      <th>Brand_Weston</th>\n",
       "      <th>Brand_iFFALCON by TCL</th>\n",
       "      <th>Brand_realme</th>\n",
       "    </tr>\n",
       "  </thead>\n",
       "  <tbody>\n",
       "    <tr>\n",
       "      <th>0</th>\n",
       "      <td>2.820334</td>\n",
       "      <td>3.055642</td>\n",
       "      <td>2.894838</td>\n",
       "      <td>6.527074</td>\n",
       "      <td>3.955431</td>\n",
       "      <td>4.001017</td>\n",
       "      <td>23.070597</td>\n",
       "      <td>0</td>\n",
       "      <td>0</td>\n",
       "      <td>0</td>\n",
       "      <td>...</td>\n",
       "      <td>0</td>\n",
       "      <td>0</td>\n",
       "      <td>0</td>\n",
       "      <td>1</td>\n",
       "      <td>0</td>\n",
       "      <td>0</td>\n",
       "      <td>0</td>\n",
       "      <td>0</td>\n",
       "      <td>0</td>\n",
       "      <td>0</td>\n",
       "    </tr>\n",
       "    <tr>\n",
       "      <th>1</th>\n",
       "      <td>2.540963</td>\n",
       "      <td>1.000000</td>\n",
       "      <td>2.918877</td>\n",
       "      <td>6.527074</td>\n",
       "      <td>3.996523</td>\n",
       "      <td>4.102646</td>\n",
       "      <td>30.380869</td>\n",
       "      <td>0</td>\n",
       "      <td>0</td>\n",
       "      <td>0</td>\n",
       "      <td>...</td>\n",
       "      <td>0</td>\n",
       "      <td>0</td>\n",
       "      <td>1</td>\n",
       "      <td>0</td>\n",
       "      <td>0</td>\n",
       "      <td>0</td>\n",
       "      <td>0</td>\n",
       "      <td>0</td>\n",
       "      <td>0</td>\n",
       "      <td>0</td>\n",
       "    </tr>\n",
       "    <tr>\n",
       "      <th>2</th>\n",
       "      <td>1.730463</td>\n",
       "      <td>1.000000</td>\n",
       "      <td>2.894838</td>\n",
       "      <td>5.597157</td>\n",
       "      <td>3.825753</td>\n",
       "      <td>3.859343</td>\n",
       "      <td>17.466443</td>\n",
       "      <td>0</td>\n",
       "      <td>0</td>\n",
       "      <td>0</td>\n",
       "      <td>...</td>\n",
       "      <td>0</td>\n",
       "      <td>0</td>\n",
       "      <td>0</td>\n",
       "      <td>0</td>\n",
       "      <td>0</td>\n",
       "      <td>0</td>\n",
       "      <td>0</td>\n",
       "      <td>0</td>\n",
       "      <td>0</td>\n",
       "      <td>1</td>\n",
       "    </tr>\n",
       "    <tr>\n",
       "      <th>3</th>\n",
       "      <td>1.730463</td>\n",
       "      <td>1.000000</td>\n",
       "      <td>2.918877</td>\n",
       "      <td>5.597157</td>\n",
       "      <td>3.835041</td>\n",
       "      <td>3.873227</td>\n",
       "      <td>18.253669</td>\n",
       "      <td>0</td>\n",
       "      <td>0</td>\n",
       "      <td>0</td>\n",
       "      <td>...</td>\n",
       "      <td>0</td>\n",
       "      <td>0</td>\n",
       "      <td>0</td>\n",
       "      <td>0</td>\n",
       "      <td>0</td>\n",
       "      <td>0</td>\n",
       "      <td>0</td>\n",
       "      <td>0</td>\n",
       "      <td>0</td>\n",
       "      <td>0</td>\n",
       "    </tr>\n",
       "    <tr>\n",
       "      <th>4</th>\n",
       "      <td>1.730463</td>\n",
       "      <td>1.000000</td>\n",
       "      <td>2.894838</td>\n",
       "      <td>5.597157</td>\n",
       "      <td>3.815718</td>\n",
       "      <td>3.885690</td>\n",
       "      <td>20.458096</td>\n",
       "      <td>0</td>\n",
       "      <td>0</td>\n",
       "      <td>0</td>\n",
       "      <td>...</td>\n",
       "      <td>0</td>\n",
       "      <td>0</td>\n",
       "      <td>0</td>\n",
       "      <td>0</td>\n",
       "      <td>0</td>\n",
       "      <td>0</td>\n",
       "      <td>0</td>\n",
       "      <td>0</td>\n",
       "      <td>0</td>\n",
       "      <td>1</td>\n",
       "    </tr>\n",
       "    <tr>\n",
       "      <th>...</th>\n",
       "      <td>...</td>\n",
       "      <td>...</td>\n",
       "      <td>...</td>\n",
       "      <td>...</td>\n",
       "      <td>...</td>\n",
       "      <td>...</td>\n",
       "      <td>...</td>\n",
       "      <td>...</td>\n",
       "      <td>...</td>\n",
       "      <td>...</td>\n",
       "      <td>...</td>\n",
       "      <td>...</td>\n",
       "      <td>...</td>\n",
       "      <td>...</td>\n",
       "      <td>...</td>\n",
       "      <td>...</td>\n",
       "      <td>...</td>\n",
       "      <td>...</td>\n",
       "      <td>...</td>\n",
       "      <td>...</td>\n",
       "      <td>...</td>\n",
       "    </tr>\n",
       "    <tr>\n",
       "      <th>893</th>\n",
       "      <td>1.000000</td>\n",
       "      <td>2.540963</td>\n",
       "      <td>2.918877</td>\n",
       "      <td>6.093857</td>\n",
       "      <td>3.976437</td>\n",
       "      <td>4.007282</td>\n",
       "      <td>21.907811</td>\n",
       "      <td>0</td>\n",
       "      <td>0</td>\n",
       "      <td>0</td>\n",
       "      <td>...</td>\n",
       "      <td>0</td>\n",
       "      <td>0</td>\n",
       "      <td>0</td>\n",
       "      <td>0</td>\n",
       "      <td>0</td>\n",
       "      <td>0</td>\n",
       "      <td>0</td>\n",
       "      <td>0</td>\n",
       "      <td>0</td>\n",
       "      <td>0</td>\n",
       "    </tr>\n",
       "    <tr>\n",
       "      <th>894</th>\n",
       "      <td>1.000000</td>\n",
       "      <td>2.540963</td>\n",
       "      <td>2.965840</td>\n",
       "      <td>5.969939</td>\n",
       "      <td>3.966410</td>\n",
       "      <td>3.993964</td>\n",
       "      <td>21.031182</td>\n",
       "      <td>0</td>\n",
       "      <td>0</td>\n",
       "      <td>0</td>\n",
       "      <td>...</td>\n",
       "      <td>0</td>\n",
       "      <td>0</td>\n",
       "      <td>0</td>\n",
       "      <td>0</td>\n",
       "      <td>0</td>\n",
       "      <td>0</td>\n",
       "      <td>0</td>\n",
       "      <td>0</td>\n",
       "      <td>0</td>\n",
       "      <td>0</td>\n",
       "    </tr>\n",
       "    <tr>\n",
       "      <th>895</th>\n",
       "      <td>2.820334</td>\n",
       "      <td>2.540963</td>\n",
       "      <td>2.894838</td>\n",
       "      <td>6.831328</td>\n",
       "      <td>4.118984</td>\n",
       "      <td>4.142652</td>\n",
       "      <td>26.360669</td>\n",
       "      <td>0</td>\n",
       "      <td>0</td>\n",
       "      <td>0</td>\n",
       "      <td>...</td>\n",
       "      <td>0</td>\n",
       "      <td>0</td>\n",
       "      <td>0</td>\n",
       "      <td>0</td>\n",
       "      <td>0</td>\n",
       "      <td>0</td>\n",
       "      <td>0</td>\n",
       "      <td>0</td>\n",
       "      <td>0</td>\n",
       "      <td>0</td>\n",
       "    </tr>\n",
       "    <tr>\n",
       "      <th>896</th>\n",
       "      <td>1.730463</td>\n",
       "      <td>2.540963</td>\n",
       "      <td>2.918877</td>\n",
       "      <td>5.597157</td>\n",
       "      <td>3.937322</td>\n",
       "      <td>3.937322</td>\n",
       "      <td>1.000000</td>\n",
       "      <td>0</td>\n",
       "      <td>0</td>\n",
       "      <td>0</td>\n",
       "      <td>...</td>\n",
       "      <td>0</td>\n",
       "      <td>0</td>\n",
       "      <td>0</td>\n",
       "      <td>0</td>\n",
       "      <td>0</td>\n",
       "      <td>0</td>\n",
       "      <td>0</td>\n",
       "      <td>0</td>\n",
       "      <td>0</td>\n",
       "      <td>0</td>\n",
       "    </tr>\n",
       "    <tr>\n",
       "      <th>897</th>\n",
       "      <td>1.000000</td>\n",
       "      <td>2.540963</td>\n",
       "      <td>2.965840</td>\n",
       "      <td>6.093857</td>\n",
       "      <td>4.005168</td>\n",
       "      <td>4.005168</td>\n",
       "      <td>1.000000</td>\n",
       "      <td>0</td>\n",
       "      <td>0</td>\n",
       "      <td>0</td>\n",
       "      <td>...</td>\n",
       "      <td>0</td>\n",
       "      <td>0</td>\n",
       "      <td>0</td>\n",
       "      <td>0</td>\n",
       "      <td>0</td>\n",
       "      <td>0</td>\n",
       "      <td>0</td>\n",
       "      <td>0</td>\n",
       "      <td>0</td>\n",
       "      <td>0</td>\n",
       "    </tr>\n",
       "  </tbody>\n",
       "</table>\n",
       "<p>898 rows × 66 columns</p>\n",
       "</div>"
      ],
      "text/plain": [
       "     Resolution  Operating System    Rating     Size   Selling Price  \\\n",
       "0      2.820334          3.055642  2.894838  6.527074       3.955431   \n",
       "1      2.540963          1.000000  2.918877  6.527074       3.996523   \n",
       "2      1.730463          1.000000  2.894838  5.597157       3.825753   \n",
       "3      1.730463          1.000000  2.918877  5.597157       3.835041   \n",
       "4      1.730463          1.000000  2.894838  5.597157       3.815718   \n",
       "..          ...               ...       ...       ...            ...   \n",
       "893    1.000000          2.540963  2.918877  6.093857       3.976437   \n",
       "894    1.000000          2.540963  2.965840  5.969939       3.966410   \n",
       "895    2.820334          2.540963  2.894838  6.831328       4.118984   \n",
       "896    1.730463          2.540963  2.918877  5.597157       3.937322   \n",
       "897    1.000000          2.540963  2.965840  6.093857       4.005168   \n",
       "\n",
       "     Original Price  O-S Price  Brand_AISEN    Brand_Acer  Brand_Adsun  ...  \\\n",
       "0          4.001017  23.070597              0           0            0  ...   \n",
       "1          4.102646  30.380869              0           0            0  ...   \n",
       "2          3.859343  17.466443              0           0            0  ...   \n",
       "3          3.873227  18.253669              0           0            0  ...   \n",
       "4          3.885690  20.458096              0           0            0  ...   \n",
       "..              ...        ...            ...         ...          ...  ...   \n",
       "893        4.007282  21.907811              0           0            0  ...   \n",
       "894        3.993964  21.031182              0           0            0  ...   \n",
       "895        4.142652  26.360669              0           0            0  ...   \n",
       "896        3.937322   1.000000              0           0            0  ...   \n",
       "897        4.005168   1.000000              0           0            0  ...   \n",
       "\n",
       "     Brand_Sun King  Brand_T-Series  Brand_TCL   Brand_TOSHIBA  Brand_Thomson  \\\n",
       "0                 0               0           0              1              0   \n",
       "1                 0               0           1              0              0   \n",
       "2                 0               0           0              0              0   \n",
       "3                 0               0           0              0              0   \n",
       "4                 0               0           0              0              0   \n",
       "..              ...             ...         ...            ...            ...   \n",
       "893               0               0           0              0              0   \n",
       "894               0               0           0              0              0   \n",
       "895               0               0           0              0              0   \n",
       "896               0               0           0              0              0   \n",
       "897               0               0           0              0              0   \n",
       "\n",
       "     Brand_VG   Brand_Vu  Brand_Weston   Brand_iFFALCON by TCL  Brand_realme   \n",
       "0            0         0              0                      0              0  \n",
       "1            0         0              0                      0              0  \n",
       "2            0         0              0                      0              1  \n",
       "3            0         0              0                      0              0  \n",
       "4            0         0              0                      0              1  \n",
       "..         ...       ...            ...                    ...            ...  \n",
       "893          0         0              0                      0              0  \n",
       "894          0         0              0                      0              0  \n",
       "895          0         0              0                      0              0  \n",
       "896          0         0              0                      0              0  \n",
       "897          0         0              0                      0              0  \n",
       "\n",
       "[898 rows x 66 columns]"
      ]
     },
     "execution_count": 49,
     "metadata": {},
     "output_type": "execute_result"
    }
   ],
   "source": [
    "df"
   ]
  },
  {
   "cell_type": "code",
   "execution_count": 50,
   "metadata": {},
   "outputs": [],
   "source": [
    "target=df[\"Selling Price\"]"
   ]
  },
  {
   "cell_type": "code",
   "execution_count": 51,
   "metadata": {},
   "outputs": [],
   "source": [
    "inputs= df.drop([\"Selling Price\", \"Original Price\"], axis=1)"
   ]
  },
  {
   "cell_type": "code",
   "execution_count": 52,
   "metadata": {},
   "outputs": [],
   "source": [
    "from sklearn.preprocessing import StandardScaler"
   ]
  },
  {
   "cell_type": "code",
   "execution_count": 53,
   "metadata": {},
   "outputs": [],
   "source": [
    "scaler= StandardScaler()\n",
    "scaller = scaler.fit_transform(inputs)"
   ]
  },
  {
   "cell_type": "code",
   "execution_count": 54,
   "metadata": {},
   "outputs": [],
   "source": [
    "from sklearn.model_selection import train_test_split"
   ]
  },
  {
   "cell_type": "code",
   "execution_count": 55,
   "metadata": {},
   "outputs": [],
   "source": [
    "x_train, x_test, y_train, y_test = train_test_split(scaller, target, random_state=42, test_size=0.2)"
   ]
  },
  {
   "cell_type": "code",
   "execution_count": 56,
   "metadata": {},
   "outputs": [
    {
     "data": {
      "text/plain": [
       "(898, 64)"
      ]
     },
     "execution_count": 56,
     "metadata": {},
     "output_type": "execute_result"
    }
   ],
   "source": [
    "scaller.shape"
   ]
  },
  {
   "cell_type": "code",
   "execution_count": 57,
   "metadata": {},
   "outputs": [
    {
     "data": {
      "text/plain": [
       "(898,)"
      ]
     },
     "execution_count": 57,
     "metadata": {},
     "output_type": "execute_result"
    }
   ],
   "source": [
    "target.shape"
   ]
  },
  {
   "cell_type": "code",
   "execution_count": 58,
   "metadata": {},
   "outputs": [
    {
     "data": {
      "text/plain": [
       "LinearRegression()"
      ]
     },
     "execution_count": 58,
     "metadata": {},
     "output_type": "execute_result"
    }
   ],
   "source": [
    "from sklearn.linear_model import LinearRegression\n",
    "lin_reg= LinearRegression()\n",
    "lin_reg.fit(x_train, y_train)"
   ]
  },
  {
   "cell_type": "code",
   "execution_count": 59,
   "metadata": {},
   "outputs": [],
   "source": [
    "y_hat = lin_reg.predict(x_train)"
   ]
  },
  {
   "cell_type": "code",
   "execution_count": 60,
   "metadata": {},
   "outputs": [
    {
     "data": {
      "text/plain": [
       "3.9506296385295303"
      ]
     },
     "execution_count": 60,
     "metadata": {},
     "output_type": "execute_result"
    }
   ],
   "source": [
    "lin_reg.intercept_"
   ]
  },
  {
   "cell_type": "code",
   "execution_count": 61,
   "metadata": {
    "scrolled": true
   },
   "outputs": [
    {
     "data": {
      "text/plain": [
       "Index(['Resolution', 'Operating System', 'Rating', 'Size ', 'O-S Price',\n",
       "       'Brand_AISEN  ', 'Brand_Acer', 'Brand_Adsun', 'Brand_Akai ',\n",
       "       'Brand_BPL ', 'Brand_Blaupunkt', 'Brand_Candes ', 'Brand_CloudWalker',\n",
       "       'Brand_Compaq ', 'Brand_Coocaa ', 'Brand_Croma ', 'Brand_DETEL ',\n",
       "       'Brand_Dektron', 'Brand_Dyanora', 'Brand_G-TEN ', 'Brand_HUIDI ',\n",
       "       'Brand_Haier ', 'Brand_Hisense', 'Brand_IMPEX ', 'Brand_Infinix',\n",
       "       'Brand_Intex ', 'Brand_JVC', 'Brand_KODAK ', 'Brand_KRISONS',\n",
       "       'Brand_LG ', 'Brand_Lloyd ', 'Brand_LumX ', 'Brand_MOTOROLA',\n",
       "       'Brand_MURPHY ', 'Brand_MarQ by Flipkart', 'Brand_Maser ', 'Brand_Mi ',\n",
       "       'Brand_Micromax', 'Brand_Nokia ', 'Brand_OnePlus', 'Brand_Onida',\n",
       "       'Brand_Onix ', 'Brand_Oxygen ', 'Brand_PHILIPS', 'Brand_Panasonic',\n",
       "       'Brand_Power Guard', 'Brand_RGL ', 'Brand_SAMSUNG', 'Brand_SONY ',\n",
       "       'Brand_Samsung', 'Brand_Sansui ', 'Brand_Sanyo ', 'Brand_Sharp ',\n",
       "       'Brand_Skyworth', 'Brand_Sun King', 'Brand_T-Series', 'Brand_TCL ',\n",
       "       'Brand_TOSHIBA', 'Brand_Thomson', 'Brand_VG ', 'Brand_Vu',\n",
       "       'Brand_Weston ', 'Brand_iFFALCON by TCL', 'Brand_realme '],\n",
       "      dtype='object')"
      ]
     },
     "execution_count": 61,
     "metadata": {},
     "output_type": "execute_result"
    }
   ],
   "source": [
    "inputs.columns"
   ]
  },
  {
   "cell_type": "code",
   "execution_count": 62,
   "metadata": {},
   "outputs": [
    {
     "data": {
      "text/plain": [
       "array([ 7.72968229e-03, -8.75862901e-03,  1.83417691e-03,  8.87444244e-02,\n",
       "       -2.40179895e-02, -1.09515528e+11, -1.16093483e+11, -1.02499932e+11,\n",
       "       -9.49497352e+10, -7.76129982e+10, -1.49369417e+11, -1.33826830e+11,\n",
       "       -1.16093483e+11, -8.67254251e+10, -1.16093483e+11, -1.33826830e+11,\n",
       "       -6.72524098e+10, -7.76129982e+10, -8.67254251e+10, -1.09515528e+11,\n",
       "       -9.49497352e+10, -1.63347802e+11, -1.16093483e+11, -1.39212751e+11,\n",
       "       -6.72524098e+10, -1.02499932e+11, -9.49497352e+10, -1.49369417e+11,\n",
       "       -6.72524098e+10, -3.93753122e+11, -1.76134792e+11, -9.49497352e+10,\n",
       "       -1.49369417e+11, -7.76129982e+10, -1.09515528e+11, -3.88715562e+10,\n",
       "       -1.67728531e+11, -1.91740048e+11, -1.28201722e+11, -1.16093483e+11,\n",
       "       -1.33826830e+11, -1.09515528e+11, -6.72524098e+10, -1.58835700e+11,\n",
       "       -2.09438344e+11, -1.28201722e+11, -1.16093483e+11, -4.19071684e+11,\n",
       "       -2.88763762e+11, -9.49497352e+10, -1.63347802e+11, -5.49420308e+10,\n",
       "       -1.02499932e+11, -3.88715562e+10, -3.88715562e+10, -1.28201722e+11,\n",
       "       -2.51588612e+11, -1.39212751e+11, -1.63347802e+11, -7.76129982e+10,\n",
       "       -1.84121138e+11, -8.67254251e+10, -1.67728531e+11, -1.02499932e+11])"
      ]
     },
     "execution_count": 62,
     "metadata": {},
     "output_type": "execute_result"
    }
   ],
   "source": [
    "lin_reg.coef_"
   ]
  },
  {
   "cell_type": "code",
   "execution_count": 63,
   "metadata": {},
   "outputs": [
    {
     "data": {
      "text/plain": [
       "<matplotlib.legend.Legend at 0xff783d1850>"
      ]
     },
     "execution_count": 63,
     "metadata": {},
     "output_type": "execute_result"
    },
    {
     "data": {
      "image/png": "[encoded data removed]",
      "text/plain": [
       "<Figure size 432x288 with 1 Axes>"
      ]
     },
     "metadata": {},
     "output_type": "display_data"
    }
   ],
   "source": [
    "plt.scatter(y_train, y_hat, label=\"Test Data\")\n",
    "\n",
    "plt.xlabel(\"Target (y_train)\", size=20)\n",
    "\n",
    "\n",
    "plt.ylabel(\"Predicted (y_hat)\", size=20)\n",
    "plt.ylim(3.5,4.3)\n",
    "plt.xlim(3.5,4.3)\n",
    "plt.legend(loc=5)"
   ]
  },
  {
   "cell_type": "code",
   "execution_count": 64,
   "metadata": {},
   "outputs": [
    {
     "name": "stderr",
     "output_type": "stream",
     "text": [
      "C:\\Users\\DVICEPP\\anaconda3\\lib\\site-packages\\seaborn\\distributions.py:2619: FutureWarning: `distplot` is a deprecated function and will be removed in a future version. Please adapt your code to use either `displot` (a figure-level function with similar flexibility) or `histplot` (an axes-level function for histograms).\n",
      "  warnings.warn(msg, FutureWarning)\n"
     ]
    },
    {
     "data": {
      "text/plain": [
       "Text(0.5, 1.0, 'Residual PDF')"
      ]
     },
     "execution_count": 64,
     "metadata": {},
     "output_type": "execute_result"
    },
    {
     "data": {
      "image/png": "[encoded data removed]",
      "text/plain": [
       "<Figure size 432x288 with 1 Axes>"
      ]
     },
     "metadata": {},
     "output_type": "display_data"
    }
   ],
   "source": [
    "sns.distplot(y_train - y_hat)\n",
    "plt.title(\"Residual PDF\", size=20)"
   ]
  },
  {
   "cell_type": "code",
   "execution_count": 65,
   "metadata": {},
   "outputs": [
    {
     "data": {
      "text/plain": [
       "0.9121866514371362"
      ]
     },
     "execution_count": 65,
     "metadata": {},
     "output_type": "execute_result"
    }
   ],
   "source": [
    "lin_reg.score(x_train,y_train)"
   ]
  },
  {
   "cell_type": "code",
   "execution_count": 66,
   "metadata": {},
   "outputs": [],
   "source": [
    "### Manually Check Accuracy"
   ]
  },
  {
   "cell_type": "code",
   "execution_count": 67,
   "metadata": {},
   "outputs": [
    {
     "data": {
      "text/plain": [
       "array([4., 4., 4., 4., 4., 4., 4., 4., 4., 4., 4., 4., 4., 4., 4., 4., 4.,\n",
       "       4., 4., 4., 4., 4., 4., 4., 4., 4., 4., 4., 4., 4., 4., 4., 4., 4.,\n",
       "       4., 4., 4., 4., 4., 4., 4., 4., 4., 4., 4., 4., 4., 4., 4., 4., 4.,\n",
       "       4., 4., 4., 4., 4., 4., 4., 4., 4., 4., 4., 4., 4., 4., 4., 4., 4.,\n",
       "       4., 4., 4., 4., 4., 4., 4., 4., 4., 4., 4., 4., 4., 4., 4., 4., 4.,\n",
       "       4., 4., 4., 4., 4., 4., 4., 4., 4., 4., 4., 4., 4., 4., 4., 4., 4.,\n",
       "       4., 4., 4., 4., 4., 4., 4., 4., 4., 4., 4., 4., 4., 4., 4., 4., 4.,\n",
       "       4., 4., 4., 4., 4., 4., 4., 4., 4., 4., 4., 4., 4., 4., 4., 4., 4.,\n",
       "       4., 4., 4., 4., 4., 4., 4., 4., 4., 4., 4., 4., 4., 4., 4., 4., 4.,\n",
       "       4., 4., 4., 4., 4., 4., 4., 4., 4., 4., 4., 4., 4., 4., 4., 4., 4.,\n",
       "       4., 4., 4., 4., 4., 4., 4., 4., 4., 4., 4., 4., 4., 4., 4., 4., 4.,\n",
       "       4., 4., 4., 4., 4., 4., 4., 4., 4., 4., 4., 4., 4., 4., 4., 4., 4.,\n",
       "       4., 4., 4., 4., 4., 4., 4., 4., 4., 4., 4., 4., 4., 4., 4., 4., 4.,\n",
       "       4., 4., 4., 4., 4., 4., 4., 4., 4., 4., 4., 4., 4., 4., 4., 4., 4.,\n",
       "       4., 4., 4., 4., 4., 4., 4., 4., 4., 4., 4., 4., 4., 4., 4., 4., 4.,\n",
       "       4., 4., 4., 4., 4., 4., 4., 4., 4., 4., 4., 4., 4., 4., 4., 4., 4.,\n",
       "       4., 4., 4., 4., 4., 4., 4., 4., 4., 4., 4., 4., 4., 4., 4., 4., 4.,\n",
       "       4., 4., 4., 4., 4., 4., 4., 4., 4., 4., 4., 4., 4., 4., 4., 4., 4.,\n",
       "       4., 4., 4., 4., 4., 4., 4., 4., 4., 4., 4., 4., 4., 4., 4., 4., 4.,\n",
       "       4., 4., 4., 4., 4., 4., 4., 4., 4., 4., 4., 4., 4., 4., 4., 4., 4.,\n",
       "       4., 4., 4., 4., 4., 4., 4., 4., 4., 4., 4., 4., 4., 4., 4., 4., 4.,\n",
       "       4., 4., 4., 4., 4., 4., 4., 4., 4., 4., 4., 4., 4., 4., 4., 4., 4.,\n",
       "       4., 4., 4., 4., 4., 4., 4., 4., 4., 4., 4., 4., 4., 4., 4., 4., 4.,\n",
       "       4., 4., 4., 4., 4., 4., 4., 4., 4., 4., 4., 4., 4., 4., 4., 4., 4.,\n",
       "       4., 4., 4., 4., 4., 4., 4., 4., 4., 4., 4., 4., 4., 4., 4., 4., 4.,\n",
       "       4., 4., 4., 4., 4., 4., 4., 4., 4., 4., 4., 4., 4., 4., 4., 4., 4.,\n",
       "       4., 4., 4., 4., 4., 4., 4., 4., 4., 4., 4., 4., 4., 4., 4., 4., 4.,\n",
       "       4., 4., 4., 4., 4., 4., 4., 4., 4., 4., 4., 4., 4., 4., 4., 4., 4.,\n",
       "       4., 4., 4., 4., 4., 4., 4., 4., 4., 4., 4., 4., 4., 4., 4., 4., 4.,\n",
       "       4., 4., 4., 4., 4., 4., 4., 4., 4., 4., 4., 4., 4., 4., 4., 4., 4.,\n",
       "       4., 4., 4., 4., 4., 4., 4., 4., 4., 4., 4., 4., 4., 4., 4., 4., 4.,\n",
       "       4., 4., 4., 4., 4., 4., 4., 4., 4., 4., 4., 4., 4., 4., 4., 4., 4.,\n",
       "       4., 4., 4., 4., 4., 4., 4., 4., 4., 4., 4., 4., 4., 4., 4., 4., 4.,\n",
       "       4., 4., 4., 4., 4., 4., 4., 4., 4., 4., 4., 4., 4., 4., 4., 4., 4.,\n",
       "       4., 4., 4., 4., 4., 4., 4., 4., 4., 4., 4., 4., 4., 4., 4., 4., 4.,\n",
       "       4., 4., 4., 4., 4., 4., 4., 4., 4., 4., 4., 4., 4., 4., 4., 4., 4.,\n",
       "       4., 4., 4., 4., 4., 4., 4., 4., 4., 4., 4., 4., 4., 4., 4., 4., 4.,\n",
       "       4., 4., 4., 4., 4., 4., 4., 4., 4., 4., 4., 4., 4., 4., 4., 4., 4.,\n",
       "       4., 4., 4., 4., 4., 4., 4., 4., 4., 4., 4., 4., 4., 4., 4., 4., 4.,\n",
       "       4., 4., 4., 4., 4., 4., 4., 4., 4., 4., 4., 4., 4., 4., 4., 4., 4.,\n",
       "       4., 4., 4., 4., 4., 4., 4., 4., 4., 4., 4., 4., 4., 4., 4., 4., 4.,\n",
       "       4., 4., 4., 4., 4., 4., 4., 4., 4., 4., 4., 4., 4., 4., 4., 4., 4.,\n",
       "       4., 4., 4., 4.])"
      ]
     },
     "execution_count": 67,
     "metadata": {},
     "output_type": "execute_result"
    }
   ],
   "source": [
    "model_output =lin_reg.predict(x_train).round()\n",
    "model_output"
   ]
  },
  {
   "cell_type": "code",
   "execution_count": 68,
   "metadata": {},
   "outputs": [
    {
     "data": {
      "text/plain": [
       "880    3.98\n",
       "740    3.92\n",
       "231    3.86\n",
       "388    3.82\n",
       "118    3.95\n",
       "       ... \n",
       "106    3.96\n",
       "270    3.93\n",
       "860    3.85\n",
       "435    3.83\n",
       "102    4.01\n",
       "Name: Selling Price, Length: 718, dtype: float64"
      ]
     },
     "execution_count": 68,
     "metadata": {},
     "output_type": "execute_result"
    }
   ],
   "source": [
    "y_train.round(2)"
   ]
  },
  {
   "cell_type": "code",
   "execution_count": 69,
   "metadata": {},
   "outputs": [
    {
     "data": {
      "text/plain": [
       "880    True\n",
       "740    True\n",
       "231    True\n",
       "388    True\n",
       "118    True\n",
       "       ... \n",
       "106    True\n",
       "270    True\n",
       "860    True\n",
       "435    True\n",
       "102    True\n",
       "Name: Selling Price, Length: 718, dtype: bool"
      ]
     },
     "execution_count": 69,
     "metadata": {},
     "output_type": "execute_result"
    }
   ],
   "source": [
    "model_output == y_train.round()"
   ]
  },
  {
   "cell_type": "code",
   "execution_count": 70,
   "metadata": {},
   "outputs": [
    {
     "data": {
      "text/plain": [
       "718"
      ]
     },
     "execution_count": 70,
     "metadata": {},
     "output_type": "execute_result"
    }
   ],
   "source": [
    "np.sum(model_output == y_train.round())"
   ]
  },
  {
   "cell_type": "code",
   "execution_count": 71,
   "metadata": {},
   "outputs": [
    {
     "data": {
      "text/plain": [
       "(718,)"
      ]
     },
     "execution_count": 71,
     "metadata": {},
     "output_type": "execute_result"
    }
   ],
   "source": [
    "model_output.shape"
   ]
  },
  {
   "cell_type": "code",
   "execution_count": 72,
   "metadata": {},
   "outputs": [
    {
     "data": {
      "text/plain": [
       "1.0"
      ]
     },
     "execution_count": 72,
     "metadata": {},
     "output_type": "execute_result"
    }
   ],
   "source": [
    "np.sum(model_output == y_train.round()) / model_output.shape[0]"
   ]
  },
  {
   "cell_type": "code",
   "execution_count": 73,
   "metadata": {},
   "outputs": [
    {
     "data": {
      "text/plain": [
       "((718, 64), (718,))"
      ]
     },
     "execution_count": 73,
     "metadata": {},
     "output_type": "execute_result"
    }
   ],
   "source": [
    "x_train.shape, y_train.shape"
   ]
  },
  {
   "cell_type": "markdown",
   "metadata": {},
   "source": [
    "from sklearn.metrics import mean_squared_error\n",
    "y_predict= lin_reg.predict(x_train)\n",
    "error = mean_squared_error(x_train, y_predict.T)\n",
    "s_error= np.sqrt(error)\n",
    "s_error"
   ]
  },
  {
   "cell_type": "markdown",
   "metadata": {},
   "source": [
    "the R- square is good but not better, let's see if we can improve it"
   ]
  },
  {
   "cell_type": "code",
   "execution_count": 74,
   "metadata": {},
   "outputs": [
    {
     "data": {
      "text/plain": [
       "DecisionTreeRegressor()"
      ]
     },
     "execution_count": 74,
     "metadata": {},
     "output_type": "execute_result"
    }
   ],
   "source": [
    "from sklearn.tree import DecisionTreeRegressor\n",
    "tree_reg = DecisionTreeRegressor()\n",
    "tree_reg.fit(x_train, y_train)"
   ]
  },
  {
   "cell_type": "code",
   "execution_count": null,
   "metadata": {},
   "outputs": [],
   "source": []
  },
  {
   "cell_type": "code",
   "execution_count": 75,
   "metadata": {},
   "outputs": [
    {
     "data": {
      "text/plain": [
       "0.9997205125859577"
      ]
     },
     "execution_count": 75,
     "metadata": {},
     "output_type": "execute_result"
    }
   ],
   "source": [
    "tree_reg.score(x_train, y_train)"
   ]
  },
  {
   "cell_type": "code",
   "execution_count": 76,
   "metadata": {},
   "outputs": [],
   "source": [
    "y_hat2 = tree_reg.predict(x_train)"
   ]
  },
  {
   "cell_type": "code",
   "execution_count": 77,
   "metadata": {
    "scrolled": true
   },
   "outputs": [
    {
     "name": "stderr",
     "output_type": "stream",
     "text": [
      "C:\\Users\\DVICEPP\\anaconda3\\lib\\site-packages\\seaborn\\distributions.py:2619: FutureWarning: `distplot` is a deprecated function and will be removed in a future version. Please adapt your code to use either `displot` (a figure-level function with similar flexibility) or `histplot` (an axes-level function for histograms).\n",
      "  warnings.warn(msg, FutureWarning)\n"
     ]
    },
    {
     "data": {
      "text/plain": [
       "Text(0.5, 1.0, 'Residual PDF')"
      ]
     },
     "execution_count": 77,
     "metadata": {},
     "output_type": "execute_result"
    },
    {
     "data": {
      "image/png": "[encoded data removed]",
      "text/plain": [
       "<Figure size 432x288 with 1 Axes>"
      ]
     },
     "metadata": {},
     "output_type": "display_data"
    }
   ],
   "source": [
    "sns.distplot(y_train - y_hat2)\n",
    "plt.title(\"Residual PDF\", size=20)"
   ]
  },
  {
   "cell_type": "code",
   "execution_count": 78,
   "metadata": {},
   "outputs": [],
   "source": [
    "y_hat= lin_reg.predict(x_train)"
   ]
  },
  {
   "cell_type": "code",
   "execution_count": 79,
   "metadata": {},
   "outputs": [
    {
     "data": {
      "text/plain": [
       "(3.5, 4.3)"
      ]
     },
     "execution_count": 79,
     "metadata": {},
     "output_type": "execute_result"
    },
    {
     "data": {
      "image/png": "[encoded data removed]",
      "text/plain": [
       "<Figure size 432x288 with 1 Axes>"
      ]
     },
     "metadata": {},
     "output_type": "display_data"
    }
   ],
   "source": [
    "plt.scatter(y_train, y_hat)\n",
    "\n",
    "plt.xlabel(\"Target (y_train)\", size=20)\n",
    "\n",
    "plt.ylabel(\"Predicted (y_hat)\", size=20)\n",
    "plt.ylim(3.5,4.3)\n",
    "plt.xlim(3.5,4.3)"
   ]
  },
  {
   "cell_type": "code",
   "execution_count": 80,
   "metadata": {},
   "outputs": [
    {
     "data": {
      "text/plain": [
       "(3.5, 4.3)"
      ]
     },
     "execution_count": 80,
     "metadata": {},
     "output_type": "execute_result"
    },
    {
     "data": {
      "image/png": "[encoded data removed]",
      "text/plain": [
       "<Figure size 432x288 with 1 Axes>"
      ]
     },
     "metadata": {},
     "output_type": "display_data"
    }
   ],
   "source": [
    "plt.scatter(y_train, y_hat2)\n",
    "\n",
    "plt.xlabel(\"Target (y_train)\", size=20)\n",
    "\n",
    "plt.ylabel(\"Predicted (y_hat)\", size=20)\n",
    "plt.ylim(3.5,4.3)\n",
    "plt.xlim(3.5,4.3)"
   ]
  },
  {
   "cell_type": "code",
   "execution_count": 81,
   "metadata": {},
   "outputs": [],
   "source": [
    "from sklearn.model_selection import cross_val_score"
   ]
  },
  {
   "cell_type": "code",
   "execution_count": 83,
   "metadata": {},
   "outputs": [],
   "source": [
    "score1 = cross_val_score(tree_reg, x_train, y_train, cv=10, scoring=\"neg_mean_squared_error\")"
   ]
  },
  {
   "cell_type": "code",
   "execution_count": 84,
   "metadata": {},
   "outputs": [],
   "source": [
    "tree_cvs =np.sqrt(-score1)"
   ]
  },
  {
   "cell_type": "code",
   "execution_count": 85,
   "metadata": {
    "scrolled": true
   },
   "outputs": [
    {
     "data": {
      "text/plain": [
       "array([0.03999372, 0.03802293, 0.042119  , 0.04540466, 0.05451645,\n",
       "       0.04453896, 0.04186918, 0.0502407 , 0.03911189, 0.03722489])"
      ]
     },
     "execution_count": 85,
     "metadata": {},
     "output_type": "execute_result"
    }
   ],
   "source": [
    "tree_cvs"
   ]
  },
  {
   "cell_type": "code",
   "execution_count": 86,
   "metadata": {},
   "outputs": [
    {
     "data": {
      "text/plain": [
       "(0.04330423905530909, 0.005259416369269672)"
      ]
     },
     "execution_count": 86,
     "metadata": {},
     "output_type": "execute_result"
    }
   ],
   "source": [
    "np.mean(tree_cvs), np.std(tree_cvs)"
   ]
  },
  {
   "cell_type": "code",
   "execution_count": null,
   "metadata": {},
   "outputs": [],
   "source": []
  },
  {
   "cell_type": "code",
   "execution_count": 87,
   "metadata": {},
   "outputs": [
    {
     "name": "stdout",
     "output_type": "stream",
     "text": [
      "Scores: [0.03999372 0.03802293 0.042119   0.04540466 0.05451645 0.04453896\n",
      " 0.04186918 0.0502407  0.03911189 0.03722489]\n",
      "Mean: 0.04330423905530909\n",
      "Standard deviation: 0.005259416369269672\n"
     ]
    }
   ],
   "source": [
    "def display_scores(scores):\n",
    "    print(\"Scores:\", scores)\n",
    "    print(\"Mean:\", scores.mean())\n",
    "    print(\"Standard deviation:\", scores.std())\n",
    "\n",
    "display_scores(tree_cvs)\n"
   ]
  },
  {
   "cell_type": "code",
   "execution_count": 88,
   "metadata": {},
   "outputs": [],
   "source": [
    "b= [0.04413217, 0.04228039, 0.04089118, 0.04611245, 0.05118645, 0.05283442,\n",
    " 0.04816304, 0.05172952, 0.04218179, 0.04362818]"
   ]
  },
  {
   "cell_type": "code",
   "execution_count": 89,
   "metadata": {
    "scrolled": true
   },
   "outputs": [],
   "source": [
    "score2 = cross_val_score(lin_reg, x_train, y_train, cv=10, scoring=\"neg_mean_squared_error\")\n",
    "lin_cvs =np.sqrt(-score2)\n",
    "lin_cvs\n",
    "d=[0.03765696, 0.01356296, 0.01361114, 0.01366524, 0.01383534,\n",
    "       0.01337146, 0.01348806, 0.01337857, 0.0133967 , 0.01393744]"
   ]
  },
  {
   "cell_type": "code",
   "execution_count": 90,
   "metadata": {},
   "outputs": [
    {
     "data": {
      "text/plain": [
       "(15912640688.042978, 26936827941.29346)"
      ]
     },
     "execution_count": 90,
     "metadata": {},
     "output_type": "execute_result"
    }
   ],
   "source": [
    "np.mean(lin_cvs), np.std(lin_cvs)"
   ]
  },
  {
   "cell_type": "markdown",
   "metadata": {},
   "source": [
    "### Validation curve"
   ]
  },
  {
   "cell_type": "code",
   "execution_count": 91,
   "metadata": {},
   "outputs": [],
   "source": [
    "from sklearn.model_selection import validation_curve"
   ]
  },
  {
   "cell_type": "code",
   "execution_count": 92,
   "metadata": {},
   "outputs": [
    {
     "data": {
      "text/plain": [
       "0.002801003035509634"
      ]
     },
     "execution_count": 92,
     "metadata": {},
     "output_type": "execute_result"
    }
   ],
   "source": [
    "np.mean(x_train)"
   ]
  },
  {
   "cell_type": "markdown",
   "metadata": {},
   "source": [
    "x_train, y_train = validation_curve(tree_reg, x_train,y_train, param_name=\"max_depth\", param_range=range(1,len(x_train)), cv=10)\n",
    "plt.plot(tree_reg, np.mean(x_train, 1), color=\"blue\")\n",
    "plt.plot(tree_reg, np.mean(tree_cvs, 1), color=\"red\")"
   ]
  },
  {
   "cell_type": "code",
   "execution_count": 93,
   "metadata": {},
   "outputs": [],
   "source": [
    "from sklearn.ensemble import RandomForestRegressor"
   ]
  },
  {
   "cell_type": "code",
   "execution_count": 94,
   "metadata": {},
   "outputs": [
    {
     "data": {
      "text/plain": [
       "RandomForestRegressor()"
      ]
     },
     "execution_count": 94,
     "metadata": {},
     "output_type": "execute_result"
    }
   ],
   "source": [
    "forest_reg= RandomForestRegressor()\n",
    "forest_reg.fit(x_train,y_train)"
   ]
  },
  {
   "cell_type": "code",
   "execution_count": 95,
   "metadata": {},
   "outputs": [],
   "source": [
    "score3 = cross_val_score(forest_reg, x_train, y_train, cv=10, scoring=\"neg_mean_squared_error\")\n",
    "forest_cvs =np.sqrt(-score3)\n",
    "forest_cvs\n",
    "c=[0.03460192, 0.03093604, 0.02822074, 0.03304305, 0.03708905,\n",
    "       0.03341002, 0.03300783, 0.03236916, 0.03333704, 0.03080104]"
   ]
  },
  {
   "cell_type": "code",
   "execution_count": 96,
   "metadata": {},
   "outputs": [
    {
     "data": {
      "text/plain": [
       "0.03206170567662565"
      ]
     },
     "execution_count": 96,
     "metadata": {},
     "output_type": "execute_result"
    }
   ],
   "source": [
    "np.mean(forest_cvs)"
   ]
  },
  {
   "cell_type": "code",
   "execution_count": 97,
   "metadata": {},
   "outputs": [
    {
     "data": {
      "text/plain": [
       "0.0016215107021353922"
      ]
     },
     "execution_count": 97,
     "metadata": {},
     "output_type": "execute_result"
    }
   ],
   "source": [
    "np.std(forest_cvs)"
   ]
  },
  {
   "cell_type": "code",
   "execution_count": 98,
   "metadata": {},
   "outputs": [],
   "source": [
    "from sklearn.linear_model import SGDRegressor"
   ]
  },
  {
   "cell_type": "code",
   "execution_count": 99,
   "metadata": {},
   "outputs": [
    {
     "data": {
      "text/plain": [
       "SGDRegressor()"
      ]
     },
     "execution_count": 99,
     "metadata": {},
     "output_type": "execute_result"
    }
   ],
   "source": [
    "sgd_reg = SGDRegressor()\n",
    "sgd_reg.fit(x_train, y_train)"
   ]
  },
  {
   "cell_type": "code",
   "execution_count": 100,
   "metadata": {},
   "outputs": [
    {
     "data": {
      "text/plain": [
       "0.9118115581431836"
      ]
     },
     "execution_count": 100,
     "metadata": {},
     "output_type": "execute_result"
    }
   ],
   "source": [
    "sgd_reg.score(x_train,y_train)"
   ]
  },
  {
   "cell_type": "code",
   "execution_count": 101,
   "metadata": {},
   "outputs": [
    {
     "data": {
      "text/plain": [
       "0.9121866514371362"
      ]
     },
     "execution_count": 101,
     "metadata": {},
     "output_type": "execute_result"
    }
   ],
   "source": [
    "lin_reg.score(x_train,y_train)"
   ]
  },
  {
   "cell_type": "code",
   "execution_count": 102,
   "metadata": {},
   "outputs": [
    {
     "data": {
      "text/plain": [
       "array([0.03333965, 0.46015239, 0.46847366, 0.03843392, 0.03743093,\n",
       "       0.03941739, 0.46734955, 0.04110293, 0.4790706 , 0.03076703])"
      ]
     },
     "execution_count": 102,
     "metadata": {},
     "output_type": "execute_result"
    }
   ],
   "source": [
    "score4 = cross_val_score(sgd_reg, x_train, y_train, cv=10, scoring=\"neg_mean_squared_error\")\n",
    "sgd_cvs =np.sqrt(-score4)\n",
    "sgd_cvs"
   ]
  },
  {
   "cell_type": "code",
   "execution_count": 103,
   "metadata": {},
   "outputs": [
    {
     "data": {
      "text/plain": [
       "0.04205495099999999"
      ]
     },
     "execution_count": 103,
     "metadata": {},
     "output_type": "execute_result"
    }
   ],
   "source": [
    "a= [0.03986527, 0.03617853, 0.03768528, 0.04504103, 0.04998168,\n",
    "       0.04718049, 0.04252464, 0.04116121, 0.04002029, 0.04091109]\n",
    "np.mean(a)"
   ]
  },
  {
   "cell_type": "code",
   "execution_count": 104,
   "metadata": {},
   "outputs": [],
   "source": [
    "summ = pd.DataFrame([[\"Linear\", np.mean(d), np.std(d)], \n",
    "                     [\"SGD_Reg\", np.mean(a), np.std(a)], \n",
    "                     [\"Forest_Reg\", np.mean(c), np.std(c)], \n",
    "                     [\"Tree_Reg\", np.mean(b), np.std(b)]], \n",
    "                    columns=[[\"Model\", \"Mean\",\"Standard Deviation\"], ])"
   ]
  },
  {
   "cell_type": "code",
   "execution_count": 105,
   "metadata": {},
   "outputs": [
    {
     "data": {
      "text/html": [
       "<div>\n",
       "<style scoped>\n",
       "    .dataframe tbody tr th:only-of-type {\n",
       "        vertical-align: middle;\n",
       "    }\n",
       "\n",
       "    .dataframe tbody tr th {\n",
       "        vertical-align: top;\n",
       "    }\n",
       "\n",
       "    .dataframe thead tr th {\n",
       "        text-align: left;\n",
       "    }\n",
       "</style>\n",
       "<table border=\"1\" class=\"dataframe\">\n",
       "  <thead>\n",
       "    <tr>\n",
       "      <th></th>\n",
       "      <th>Model</th>\n",
       "      <th>Mean</th>\n",
       "      <th>Standard Deviation</th>\n",
       "    </tr>\n",
       "  </thead>\n",
       "  <tbody>\n",
       "    <tr>\n",
       "      <th>0</th>\n",
       "      <td>Linear</td>\n",
       "      <td>0.015990</td>\n",
       "      <td>0.007224</td>\n",
       "    </tr>\n",
       "    <tr>\n",
       "      <th>1</th>\n",
       "      <td>SGD_Reg</td>\n",
       "      <td>0.042055</td>\n",
       "      <td>0.004036</td>\n",
       "    </tr>\n",
       "    <tr>\n",
       "      <th>2</th>\n",
       "      <td>Forest_Reg</td>\n",
       "      <td>0.032682</td>\n",
       "      <td>0.002256</td>\n",
       "    </tr>\n",
       "    <tr>\n",
       "      <th>3</th>\n",
       "      <td>Tree_Reg</td>\n",
       "      <td>0.046314</td>\n",
       "      <td>0.004169</td>\n",
       "    </tr>\n",
       "  </tbody>\n",
       "</table>\n",
       "</div>"
      ],
      "text/plain": [
       "        Model      Mean Standard Deviation\n",
       "0      Linear  0.015990           0.007224\n",
       "1     SGD_Reg  0.042055           0.004036\n",
       "2  Forest_Reg  0.032682           0.002256\n",
       "3    Tree_Reg  0.046314           0.004169"
      ]
     },
     "execution_count": 105,
     "metadata": {},
     "output_type": "execute_result"
    }
   ],
   "source": [
    "summ"
   ]
  },
  {
   "cell_type": "markdown",
   "metadata": {},
   "source": [
    "As we can see, Linear Regression is the best model to use for This regression, as others may cost overfitting on our model, since it has the lowest cross_val_score mean...meaning the mean_squared_error will also be low, for we can begin  to fine tune our algorithm"
   ]
  },
  {
   "cell_type": "code",
   "execution_count": 106,
   "metadata": {},
   "outputs": [],
   "source": [
    "yhat3 = forest_reg.predict(x_train)"
   ]
  },
  {
   "cell_type": "code",
   "execution_count": 107,
   "metadata": {},
   "outputs": [],
   "source": [
    "yhat4= sgd_reg.predict(x_train)"
   ]
  },
  {
   "cell_type": "code",
   "execution_count": 108,
   "metadata": {},
   "outputs": [
    {
     "data": {
      "text/plain": [
       "Text(0.5, 1.0, 'TreeRegressor')"
      ]
     },
     "execution_count": 108,
     "metadata": {},
     "output_type": "execute_result"
    },
    {
     "data": {
      "image/png": "[encoded data removed]",
      "text/plain": [
       "<Figure size 1440x216 with 4 Axes>"
      ]
     },
     "metadata": {},
     "output_type": "display_data"
    }
   ],
   "source": [
    "f, (x1, x2, x3, x4) = plt.subplots(1, 4, sharey= True, figsize=(20,3))\n",
    "x1.scatter(y_train, y_hat, alpha= 0.5)\n",
    "x1.set_title(\"Mult-Linear Regression\")\n",
    "\n",
    "x2.scatter(y_train, y_hat2)\n",
    "x2.set_title(\"DecisionTreeRegression\")\n",
    "\n",
    "x3.scatter(y_train, yhat3)\n",
    "x3.set_title(\"RandomForest Regressor\")\n",
    "\n",
    "x4.scatter(y_train, yhat4)\n",
    "x4.set_title(\"TreeRegressor\")"
   ]
  },
  {
   "cell_type": "code",
   "execution_count": 109,
   "metadata": {},
   "outputs": [
    {
     "data": {
      "text/html": [
       "<div>\n",
       "<style scoped>\n",
       "    .dataframe tbody tr th:only-of-type {\n",
       "        vertical-align: middle;\n",
       "    }\n",
       "\n",
       "    .dataframe tbody tr th {\n",
       "        vertical-align: top;\n",
       "    }\n",
       "\n",
       "    .dataframe thead th {\n",
       "        text-align: right;\n",
       "    }\n",
       "</style>\n",
       "<table border=\"1\" class=\"dataframe\">\n",
       "  <thead>\n",
       "    <tr style=\"text-align: right;\">\n",
       "      <th></th>\n",
       "      <th>Features</th>\n",
       "      <th>Weights</th>\n",
       "    </tr>\n",
       "  </thead>\n",
       "  <tbody>\n",
       "    <tr>\n",
       "      <th>3</th>\n",
       "      <td>Size</td>\n",
       "      <td>8.874442e-02</td>\n",
       "    </tr>\n",
       "    <tr>\n",
       "      <th>0</th>\n",
       "      <td>Resolution</td>\n",
       "      <td>7.729682e-03</td>\n",
       "    </tr>\n",
       "    <tr>\n",
       "      <th>2</th>\n",
       "      <td>Rating</td>\n",
       "      <td>1.834177e-03</td>\n",
       "    </tr>\n",
       "    <tr>\n",
       "      <th>1</th>\n",
       "      <td>Operating System</td>\n",
       "      <td>-8.758629e-03</td>\n",
       "    </tr>\n",
       "    <tr>\n",
       "      <th>4</th>\n",
       "      <td>O-S Price</td>\n",
       "      <td>-2.401799e-02</td>\n",
       "    </tr>\n",
       "    <tr>\n",
       "      <th>54</th>\n",
       "      <td>Brand_Sun King</td>\n",
       "      <td>-3.887156e+10</td>\n",
       "    </tr>\n",
       "    <tr>\n",
       "      <th>53</th>\n",
       "      <td>Brand_Skyworth</td>\n",
       "      <td>-3.887156e+10</td>\n",
       "    </tr>\n",
       "    <tr>\n",
       "      <th>35</th>\n",
       "      <td>Brand_Maser</td>\n",
       "      <td>-3.887156e+10</td>\n",
       "    </tr>\n",
       "    <tr>\n",
       "      <th>51</th>\n",
       "      <td>Brand_Sanyo</td>\n",
       "      <td>-5.494203e+10</td>\n",
       "    </tr>\n",
       "    <tr>\n",
       "      <th>28</th>\n",
       "      <td>Brand_KRISONS</td>\n",
       "      <td>-6.725241e+10</td>\n",
       "    </tr>\n",
       "    <tr>\n",
       "      <th>42</th>\n",
       "      <td>Brand_Oxygen</td>\n",
       "      <td>-6.725241e+10</td>\n",
       "    </tr>\n",
       "    <tr>\n",
       "      <th>24</th>\n",
       "      <td>Brand_Infinix</td>\n",
       "      <td>-6.725241e+10</td>\n",
       "    </tr>\n",
       "    <tr>\n",
       "      <th>16</th>\n",
       "      <td>Brand_DETEL</td>\n",
       "      <td>-6.725241e+10</td>\n",
       "    </tr>\n",
       "    <tr>\n",
       "      <th>17</th>\n",
       "      <td>Brand_Dektron</td>\n",
       "      <td>-7.761300e+10</td>\n",
       "    </tr>\n",
       "    <tr>\n",
       "      <th>9</th>\n",
       "      <td>Brand_BPL</td>\n",
       "      <td>-7.761300e+10</td>\n",
       "    </tr>\n",
       "    <tr>\n",
       "      <th>33</th>\n",
       "      <td>Brand_MURPHY</td>\n",
       "      <td>-7.761300e+10</td>\n",
       "    </tr>\n",
       "    <tr>\n",
       "      <th>59</th>\n",
       "      <td>Brand_VG</td>\n",
       "      <td>-7.761300e+10</td>\n",
       "    </tr>\n",
       "    <tr>\n",
       "      <th>13</th>\n",
       "      <td>Brand_Compaq</td>\n",
       "      <td>-8.672543e+10</td>\n",
       "    </tr>\n",
       "    <tr>\n",
       "      <th>61</th>\n",
       "      <td>Brand_Weston</td>\n",
       "      <td>-8.672543e+10</td>\n",
       "    </tr>\n",
       "    <tr>\n",
       "      <th>18</th>\n",
       "      <td>Brand_Dyanora</td>\n",
       "      <td>-8.672543e+10</td>\n",
       "    </tr>\n",
       "    <tr>\n",
       "      <th>49</th>\n",
       "      <td>Brand_Samsung</td>\n",
       "      <td>-9.494974e+10</td>\n",
       "    </tr>\n",
       "    <tr>\n",
       "      <th>8</th>\n",
       "      <td>Brand_Akai</td>\n",
       "      <td>-9.494974e+10</td>\n",
       "    </tr>\n",
       "    <tr>\n",
       "      <th>26</th>\n",
       "      <td>Brand_JVC</td>\n",
       "      <td>-9.494974e+10</td>\n",
       "    </tr>\n",
       "    <tr>\n",
       "      <th>31</th>\n",
       "      <td>Brand_LumX</td>\n",
       "      <td>-9.494974e+10</td>\n",
       "    </tr>\n",
       "    <tr>\n",
       "      <th>20</th>\n",
       "      <td>Brand_HUIDI</td>\n",
       "      <td>-9.494974e+10</td>\n",
       "    </tr>\n",
       "    <tr>\n",
       "      <th>52</th>\n",
       "      <td>Brand_Sharp</td>\n",
       "      <td>-1.024999e+11</td>\n",
       "    </tr>\n",
       "    <tr>\n",
       "      <th>63</th>\n",
       "      <td>Brand_realme</td>\n",
       "      <td>-1.024999e+11</td>\n",
       "    </tr>\n",
       "    <tr>\n",
       "      <th>25</th>\n",
       "      <td>Brand_Intex</td>\n",
       "      <td>-1.024999e+11</td>\n",
       "    </tr>\n",
       "    <tr>\n",
       "      <th>7</th>\n",
       "      <td>Brand_Adsun</td>\n",
       "      <td>-1.024999e+11</td>\n",
       "    </tr>\n",
       "    <tr>\n",
       "      <th>41</th>\n",
       "      <td>Brand_Onix</td>\n",
       "      <td>-1.095155e+11</td>\n",
       "    </tr>\n",
       "    <tr>\n",
       "      <th>5</th>\n",
       "      <td>Brand_AISEN</td>\n",
       "      <td>-1.095155e+11</td>\n",
       "    </tr>\n",
       "    <tr>\n",
       "      <th>34</th>\n",
       "      <td>Brand_MarQ by Flipkart</td>\n",
       "      <td>-1.095155e+11</td>\n",
       "    </tr>\n",
       "    <tr>\n",
       "      <th>19</th>\n",
       "      <td>Brand_G-TEN</td>\n",
       "      <td>-1.095155e+11</td>\n",
       "    </tr>\n",
       "    <tr>\n",
       "      <th>46</th>\n",
       "      <td>Brand_RGL</td>\n",
       "      <td>-1.160935e+11</td>\n",
       "    </tr>\n",
       "    <tr>\n",
       "      <th>39</th>\n",
       "      <td>Brand_OnePlus</td>\n",
       "      <td>-1.160935e+11</td>\n",
       "    </tr>\n",
       "    <tr>\n",
       "      <th>22</th>\n",
       "      <td>Brand_Hisense</td>\n",
       "      <td>-1.160935e+11</td>\n",
       "    </tr>\n",
       "    <tr>\n",
       "      <th>6</th>\n",
       "      <td>Brand_Acer</td>\n",
       "      <td>-1.160935e+11</td>\n",
       "    </tr>\n",
       "    <tr>\n",
       "      <th>14</th>\n",
       "      <td>Brand_Coocaa</td>\n",
       "      <td>-1.160935e+11</td>\n",
       "    </tr>\n",
       "    <tr>\n",
       "      <th>12</th>\n",
       "      <td>Brand_CloudWalker</td>\n",
       "      <td>-1.160935e+11</td>\n",
       "    </tr>\n",
       "    <tr>\n",
       "      <th>45</th>\n",
       "      <td>Brand_Power Guard</td>\n",
       "      <td>-1.282017e+11</td>\n",
       "    </tr>\n",
       "    <tr>\n",
       "      <th>55</th>\n",
       "      <td>Brand_T-Series</td>\n",
       "      <td>-1.282017e+11</td>\n",
       "    </tr>\n",
       "    <tr>\n",
       "      <th>38</th>\n",
       "      <td>Brand_Nokia</td>\n",
       "      <td>-1.282017e+11</td>\n",
       "    </tr>\n",
       "    <tr>\n",
       "      <th>15</th>\n",
       "      <td>Brand_Croma</td>\n",
       "      <td>-1.338268e+11</td>\n",
       "    </tr>\n",
       "    <tr>\n",
       "      <th>40</th>\n",
       "      <td>Brand_Onida</td>\n",
       "      <td>-1.338268e+11</td>\n",
       "    </tr>\n",
       "    <tr>\n",
       "      <th>11</th>\n",
       "      <td>Brand_Candes</td>\n",
       "      <td>-1.338268e+11</td>\n",
       "    </tr>\n",
       "    <tr>\n",
       "      <th>23</th>\n",
       "      <td>Brand_IMPEX</td>\n",
       "      <td>-1.392128e+11</td>\n",
       "    </tr>\n",
       "    <tr>\n",
       "      <th>57</th>\n",
       "      <td>Brand_TOSHIBA</td>\n",
       "      <td>-1.392128e+11</td>\n",
       "    </tr>\n",
       "    <tr>\n",
       "      <th>32</th>\n",
       "      <td>Brand_MOTOROLA</td>\n",
       "      <td>-1.493694e+11</td>\n",
       "    </tr>\n",
       "    <tr>\n",
       "      <th>27</th>\n",
       "      <td>Brand_KODAK</td>\n",
       "      <td>-1.493694e+11</td>\n",
       "    </tr>\n",
       "    <tr>\n",
       "      <th>10</th>\n",
       "      <td>Brand_Blaupunkt</td>\n",
       "      <td>-1.493694e+11</td>\n",
       "    </tr>\n",
       "  </tbody>\n",
       "</table>\n",
       "</div>"
      ],
      "text/plain": [
       "                  Features       Weights\n",
       "3                    Size   8.874442e-02\n",
       "0               Resolution  7.729682e-03\n",
       "2                   Rating  1.834177e-03\n",
       "1         Operating System -8.758629e-03\n",
       "4                O-S Price -2.401799e-02\n",
       "54          Brand_Sun King -3.887156e+10\n",
       "53          Brand_Skyworth -3.887156e+10\n",
       "35            Brand_Maser  -3.887156e+10\n",
       "51            Brand_Sanyo  -5.494203e+10\n",
       "28           Brand_KRISONS -6.725241e+10\n",
       "42           Brand_Oxygen  -6.725241e+10\n",
       "24           Brand_Infinix -6.725241e+10\n",
       "16            Brand_DETEL  -6.725241e+10\n",
       "17           Brand_Dektron -7.761300e+10\n",
       "9               Brand_BPL  -7.761300e+10\n",
       "33           Brand_MURPHY  -7.761300e+10\n",
       "59               Brand_VG  -7.761300e+10\n",
       "13           Brand_Compaq  -8.672543e+10\n",
       "61           Brand_Weston  -8.672543e+10\n",
       "18           Brand_Dyanora -8.672543e+10\n",
       "49           Brand_Samsung -9.494974e+10\n",
       "8              Brand_Akai  -9.494974e+10\n",
       "26               Brand_JVC -9.494974e+10\n",
       "31             Brand_LumX  -9.494974e+10\n",
       "20            Brand_HUIDI  -9.494974e+10\n",
       "52            Brand_Sharp  -1.024999e+11\n",
       "63           Brand_realme  -1.024999e+11\n",
       "25            Brand_Intex  -1.024999e+11\n",
       "7              Brand_Adsun -1.024999e+11\n",
       "41             Brand_Onix  -1.095155e+11\n",
       "5            Brand_AISEN   -1.095155e+11\n",
       "34  Brand_MarQ by Flipkart -1.095155e+11\n",
       "19            Brand_G-TEN  -1.095155e+11\n",
       "46              Brand_RGL  -1.160935e+11\n",
       "39           Brand_OnePlus -1.160935e+11\n",
       "22           Brand_Hisense -1.160935e+11\n",
       "6               Brand_Acer -1.160935e+11\n",
       "14           Brand_Coocaa  -1.160935e+11\n",
       "12       Brand_CloudWalker -1.160935e+11\n",
       "45       Brand_Power Guard -1.282017e+11\n",
       "55          Brand_T-Series -1.282017e+11\n",
       "38            Brand_Nokia  -1.282017e+11\n",
       "15            Brand_Croma  -1.338268e+11\n",
       "40             Brand_Onida -1.338268e+11\n",
       "11           Brand_Candes  -1.338268e+11\n",
       "23            Brand_IMPEX  -1.392128e+11\n",
       "57           Brand_TOSHIBA -1.392128e+11\n",
       "32          Brand_MOTOROLA -1.493694e+11\n",
       "27            Brand_KODAK  -1.493694e+11\n",
       "10         Brand_Blaupunkt -1.493694e+11"
      ]
     },
     "execution_count": 109,
     "metadata": {},
     "output_type": "execute_result"
    }
   ],
   "source": [
    "lin_regsum= pd.DataFrame(inputs.columns.values, columns=[\"Features\"])\n",
    "lin_regsum[\"Weights\"] = lin_reg.coef_\n",
    "lin_regsum.sort_values(by=[\"Weights\"], ascending=False).head(50)"
   ]
  },
  {
   "cell_type": "code",
   "execution_count": null,
   "metadata": {},
   "outputs": [],
   "source": []
  },
  {
   "cell_type": "code",
   "execution_count": 110,
   "metadata": {},
   "outputs": [
    {
     "data": {
      "text/plain": [
       "array(['TOSHIBA', 'TCL ', 'realme ', 'Mi ', 'OnePlus', 'Hisense', 'LG ',\n",
       "       'MarQ by Flipkart', 'iFFALCON by TCL', 'Coocaa ', 'SAMSUNG',\n",
       "       'Infinix', 'Vu', 'Nokia ', 'Thomson', 'SONY ', 'KODAK ',\n",
       "       'MOTOROLA', 'PHILIPS', 'Acer', 'Blaupunkt', 'Adsun', 'T-Series',\n",
       "       'Panasonic', 'Micromax', 'Sansui ', 'Croma ', 'Candes ', 'Dyanora',\n",
       "       'Haier ', 'Onida', 'RGL ', 'Lloyd ', 'LumX ', 'Onix ', 'IMPEX ',\n",
       "       'BPL ', 'CloudWalker', 'Oxygen ', 'Power Guard', 'Akai ', 'VG ',\n",
       "       'Sun King', 'Compaq ', 'HUIDI ', 'Intex ', 'DETEL ', 'JVC',\n",
       "       'G-TEN ', 'Skyworth', 'Maser ', 'Sanyo ', 'MURPHY ', 'Samsung',\n",
       "       'Dektron', 'Sharp ', 'KRISONS', 'Weston ', 'AISEN  '], dtype=object)"
      ]
     },
     "execution_count": 110,
     "metadata": {},
     "output_type": "execute_result"
    }
   ],
   "source": [
    "train[\"Brand\"].unique()"
   ]
  },
  {
   "cell_type": "markdown",
   "metadata": {},
   "source": [
    "## Testing our Model"
   ]
  },
  {
   "cell_type": "code",
   "execution_count": 111,
   "metadata": {},
   "outputs": [],
   "source": [
    "y_hat_test = lin_reg.predict(x_test)"
   ]
  },
  {
   "cell_type": "code",
   "execution_count": 112,
   "metadata": {},
   "outputs": [
    {
     "data": {
      "text/plain": [
       "(3.5, 4.3)"
      ]
     },
     "execution_count": 112,
     "metadata": {},
     "output_type": "execute_result"
    },
    {
     "data": {
      "image/png": "[encoded data removed]",
      "text/plain": [
       "<Figure size 432x288 with 1 Axes>"
      ]
     },
     "metadata": {},
     "output_type": "display_data"
    }
   ],
   "source": [
    "plt.scatter(y_test, y_hat_test, alpha=0.5)\n",
    "\n",
    "plt.xlabel(\"Target (y_test)\", size=20)\n",
    "\n",
    "plt.ylabel(\"Predicted (y_test)\", size=20)\n",
    "plt.ylim(3.5,4.3)\n",
    "plt.xlim(3.5,4.3)"
   ]
  },
  {
   "cell_type": "code",
   "execution_count": 113,
   "metadata": {},
   "outputs": [
    {
     "data": {
      "text/html": [
       "<div>\n",
       "<style scoped>\n",
       "    .dataframe tbody tr th:only-of-type {\n",
       "        vertical-align: middle;\n",
       "    }\n",
       "\n",
       "    .dataframe tbody tr th {\n",
       "        vertical-align: top;\n",
       "    }\n",
       "\n",
       "    .dataframe thead th {\n",
       "        text-align: right;\n",
       "    }\n",
       "</style>\n",
       "<table border=\"1\" class=\"dataframe\">\n",
       "  <thead>\n",
       "    <tr style=\"text-align: right;\">\n",
       "      <th></th>\n",
       "      <th>Prediction</th>\n",
       "    </tr>\n",
       "  </thead>\n",
       "  <tbody>\n",
       "    <tr>\n",
       "      <th>0</th>\n",
       "      <td>54167.034813</td>\n",
       "    </tr>\n",
       "    <tr>\n",
       "      <th>1</th>\n",
       "      <td>48825.450758</td>\n",
       "    </tr>\n",
       "    <tr>\n",
       "      <th>2</th>\n",
       "      <td>55814.895117</td>\n",
       "    </tr>\n",
       "    <tr>\n",
       "      <th>3</th>\n",
       "      <td>45255.489353</td>\n",
       "    </tr>\n",
       "    <tr>\n",
       "      <th>4</th>\n",
       "      <td>51727.573022</td>\n",
       "    </tr>\n",
       "  </tbody>\n",
       "</table>\n",
       "</div>"
      ],
      "text/plain": [
       "     Prediction\n",
       "0  54167.034813\n",
       "1  48825.450758\n",
       "2  55814.895117\n",
       "3  45255.489353\n",
       "4  51727.573022"
      ]
     },
     "execution_count": 113,
     "metadata": {},
     "output_type": "execute_result"
    }
   ],
   "source": [
    "df_pf = pd.DataFrame(np.exp(y_hat_test)*1000, columns=[\"Prediction\"])\n",
    "df_pf.head()"
   ]
  },
  {
   "cell_type": "code",
   "execution_count": 114,
   "metadata": {},
   "outputs": [],
   "source": [
    "y_test = y_test.reset_index(drop=True)\n",
    "df_pf[\"Target\"] = np.exp(y_test)*1000"
   ]
  },
  {
   "cell_type": "code",
   "execution_count": 115,
   "metadata": {},
   "outputs": [
    {
     "data": {
      "text/html": [
       "<div>\n",
       "<style scoped>\n",
       "    .dataframe tbody tr th:only-of-type {\n",
       "        vertical-align: middle;\n",
       "    }\n",
       "\n",
       "    .dataframe tbody tr th {\n",
       "        vertical-align: top;\n",
       "    }\n",
       "\n",
       "    .dataframe thead th {\n",
       "        text-align: right;\n",
       "    }\n",
       "</style>\n",
       "<table border=\"1\" class=\"dataframe\">\n",
       "  <thead>\n",
       "    <tr style=\"text-align: right;\">\n",
       "      <th></th>\n",
       "      <th>Prediction</th>\n",
       "      <th>Target</th>\n",
       "    </tr>\n",
       "  </thead>\n",
       "  <tbody>\n",
       "    <tr>\n",
       "      <th>0</th>\n",
       "      <td>54167.034813</td>\n",
       "      <td>54021.136261</td>\n",
       "    </tr>\n",
       "    <tr>\n",
       "      <th>1</th>\n",
       "      <td>48825.450758</td>\n",
       "      <td>49514.299173</td>\n",
       "    </tr>\n",
       "    <tr>\n",
       "      <th>2</th>\n",
       "      <td>55814.895117</td>\n",
       "      <td>56267.860307</td>\n",
       "    </tr>\n",
       "    <tr>\n",
       "      <th>3</th>\n",
       "      <td>45255.489353</td>\n",
       "      <td>44543.456729</td>\n",
       "    </tr>\n",
       "    <tr>\n",
       "      <th>4</th>\n",
       "      <td>51727.573022</td>\n",
       "      <td>51300.578648</td>\n",
       "    </tr>\n",
       "    <tr>\n",
       "      <th>...</th>\n",
       "      <td>...</td>\n",
       "      <td>...</td>\n",
       "    </tr>\n",
       "    <tr>\n",
       "      <th>175</th>\n",
       "      <td>51557.364843</td>\n",
       "      <td>51865.734910</td>\n",
       "    </tr>\n",
       "    <tr>\n",
       "      <th>176</th>\n",
       "      <td>44050.928717</td>\n",
       "      <td>44383.780166</td>\n",
       "    </tr>\n",
       "    <tr>\n",
       "      <th>177</th>\n",
       "      <td>57309.648429</td>\n",
       "      <td>56911.938642</td>\n",
       "    </tr>\n",
       "    <tr>\n",
       "      <th>178</th>\n",
       "      <td>50050.474302</td>\n",
       "      <td>50240.327941</td>\n",
       "    </tr>\n",
       "    <tr>\n",
       "      <th>179</th>\n",
       "      <td>63057.691704</td>\n",
       "      <td>61948.408744</td>\n",
       "    </tr>\n",
       "  </tbody>\n",
       "</table>\n",
       "<p>180 rows × 2 columns</p>\n",
       "</div>"
      ],
      "text/plain": [
       "       Prediction        Target\n",
       "0    54167.034813  54021.136261\n",
       "1    48825.450758  49514.299173\n",
       "2    55814.895117  56267.860307\n",
       "3    45255.489353  44543.456729\n",
       "4    51727.573022  51300.578648\n",
       "..            ...           ...\n",
       "175  51557.364843  51865.734910\n",
       "176  44050.928717  44383.780166\n",
       "177  57309.648429  56911.938642\n",
       "178  50050.474302  50240.327941\n",
       "179  63057.691704  61948.408744\n",
       "\n",
       "[180 rows x 2 columns]"
      ]
     },
     "execution_count": 115,
     "metadata": {},
     "output_type": "execute_result"
    }
   ],
   "source": [
    "df_pf"
   ]
  },
  {
   "cell_type": "code",
   "execution_count": 116,
   "metadata": {},
   "outputs": [],
   "source": [
    "df_pf[\"Residual\"] = df_pf[\"Target\"] - df_pf[\"Prediction\"]"
   ]
  },
  {
   "cell_type": "code",
   "execution_count": 117,
   "metadata": {},
   "outputs": [],
   "source": [
    "df_pf[\"Different%\"] =np.abs( df_pf[\"Residual\"]/df_pf[\"Target\"]*100)"
   ]
  },
  {
   "cell_type": "code",
   "execution_count": 118,
   "metadata": {},
   "outputs": [
    {
     "data": {
      "text/html": [
       "<div>\n",
       "<style scoped>\n",
       "    .dataframe tbody tr th:only-of-type {\n",
       "        vertical-align: middle;\n",
       "    }\n",
       "\n",
       "    .dataframe tbody tr th {\n",
       "        vertical-align: top;\n",
       "    }\n",
       "\n",
       "    .dataframe thead th {\n",
       "        text-align: right;\n",
       "    }\n",
       "</style>\n",
       "<table border=\"1\" class=\"dataframe\">\n",
       "  <thead>\n",
       "    <tr style=\"text-align: right;\">\n",
       "      <th></th>\n",
       "      <th>Prediction</th>\n",
       "      <th>Target</th>\n",
       "      <th>Residual</th>\n",
       "      <th>Different%</th>\n",
       "    </tr>\n",
       "  </thead>\n",
       "  <tbody>\n",
       "    <tr>\n",
       "      <th>0</th>\n",
       "      <td>54167.034813</td>\n",
       "      <td>54021.136261</td>\n",
       "      <td>-145.898551</td>\n",
       "      <td>0.270077</td>\n",
       "    </tr>\n",
       "    <tr>\n",
       "      <th>1</th>\n",
       "      <td>48825.450758</td>\n",
       "      <td>49514.299173</td>\n",
       "      <td>688.848415</td>\n",
       "      <td>1.391211</td>\n",
       "    </tr>\n",
       "    <tr>\n",
       "      <th>2</th>\n",
       "      <td>55814.895117</td>\n",
       "      <td>56267.860307</td>\n",
       "      <td>452.965190</td>\n",
       "      <td>0.805016</td>\n",
       "    </tr>\n",
       "    <tr>\n",
       "      <th>3</th>\n",
       "      <td>45255.489353</td>\n",
       "      <td>44543.456729</td>\n",
       "      <td>-712.032625</td>\n",
       "      <td>1.598512</td>\n",
       "    </tr>\n",
       "    <tr>\n",
       "      <th>4</th>\n",
       "      <td>51727.573022</td>\n",
       "      <td>51300.578648</td>\n",
       "      <td>-426.994373</td>\n",
       "      <td>0.832338</td>\n",
       "    </tr>\n",
       "    <tr>\n",
       "      <th>...</th>\n",
       "      <td>...</td>\n",
       "      <td>...</td>\n",
       "      <td>...</td>\n",
       "      <td>...</td>\n",
       "    </tr>\n",
       "    <tr>\n",
       "      <th>175</th>\n",
       "      <td>51557.364843</td>\n",
       "      <td>51865.734910</td>\n",
       "      <td>308.370067</td>\n",
       "      <td>0.594555</td>\n",
       "    </tr>\n",
       "    <tr>\n",
       "      <th>176</th>\n",
       "      <td>44050.928717</td>\n",
       "      <td>44383.780166</td>\n",
       "      <td>332.851449</td>\n",
       "      <td>0.749939</td>\n",
       "    </tr>\n",
       "    <tr>\n",
       "      <th>177</th>\n",
       "      <td>57309.648429</td>\n",
       "      <td>56911.938642</td>\n",
       "      <td>-397.709787</td>\n",
       "      <td>0.698816</td>\n",
       "    </tr>\n",
       "    <tr>\n",
       "      <th>178</th>\n",
       "      <td>50050.474302</td>\n",
       "      <td>50240.327941</td>\n",
       "      <td>189.853639</td>\n",
       "      <td>0.377891</td>\n",
       "    </tr>\n",
       "    <tr>\n",
       "      <th>179</th>\n",
       "      <td>63057.691704</td>\n",
       "      <td>61948.408744</td>\n",
       "      <td>-1109.282960</td>\n",
       "      <td>1.790656</td>\n",
       "    </tr>\n",
       "  </tbody>\n",
       "</table>\n",
       "<p>180 rows × 4 columns</p>\n",
       "</div>"
      ],
      "text/plain": [
       "       Prediction        Target     Residual  Different%\n",
       "0    54167.034813  54021.136261  -145.898551    0.270077\n",
       "1    48825.450758  49514.299173   688.848415    1.391211\n",
       "2    55814.895117  56267.860307   452.965190    0.805016\n",
       "3    45255.489353  44543.456729  -712.032625    1.598512\n",
       "4    51727.573022  51300.578648  -426.994373    0.832338\n",
       "..            ...           ...          ...         ...\n",
       "175  51557.364843  51865.734910   308.370067    0.594555\n",
       "176  44050.928717  44383.780166   332.851449    0.749939\n",
       "177  57309.648429  56911.938642  -397.709787    0.698816\n",
       "178  50050.474302  50240.327941   189.853639    0.377891\n",
       "179  63057.691704  61948.408744 -1109.282960    1.790656\n",
       "\n",
       "[180 rows x 4 columns]"
      ]
     },
     "execution_count": 118,
     "metadata": {},
     "output_type": "execute_result"
    }
   ],
   "source": [
    "df_pf"
   ]
  },
  {
   "cell_type": "code",
   "execution_count": 119,
   "metadata": {},
   "outputs": [
    {
     "data": {
      "text/html": [
       "<div>\n",
       "<style scoped>\n",
       "    .dataframe tbody tr th:only-of-type {\n",
       "        vertical-align: middle;\n",
       "    }\n",
       "\n",
       "    .dataframe tbody tr th {\n",
       "        vertical-align: top;\n",
       "    }\n",
       "\n",
       "    .dataframe thead th {\n",
       "        text-align: right;\n",
       "    }\n",
       "</style>\n",
       "<table border=\"1\" class=\"dataframe\">\n",
       "  <thead>\n",
       "    <tr style=\"text-align: right;\">\n",
       "      <th></th>\n",
       "      <th>Prediction</th>\n",
       "      <th>Target</th>\n",
       "      <th>Residual</th>\n",
       "      <th>Different%</th>\n",
       "    </tr>\n",
       "  </thead>\n",
       "  <tbody>\n",
       "    <tr>\n",
       "      <th>count</th>\n",
       "      <td>180.000000</td>\n",
       "      <td>180.000000</td>\n",
       "      <td>180.000000</td>\n",
       "      <td>180.000000</td>\n",
       "    </tr>\n",
       "    <tr>\n",
       "      <th>mean</th>\n",
       "      <td>52817.153483</td>\n",
       "      <td>52888.286956</td>\n",
       "      <td>71.133474</td>\n",
       "      <td>2.353030</td>\n",
       "    </tr>\n",
       "    <tr>\n",
       "      <th>std</th>\n",
       "      <td>5591.434161</td>\n",
       "      <td>5965.820555</td>\n",
       "      <td>1747.966066</td>\n",
       "      <td>2.041884</td>\n",
       "    </tr>\n",
       "    <tr>\n",
       "      <th>min</th>\n",
       "      <td>40366.697544</td>\n",
       "      <td>40083.190500</td>\n",
       "      <td>-4497.048783</td>\n",
       "      <td>0.003188</td>\n",
       "    </tr>\n",
       "    <tr>\n",
       "      <th>25%</th>\n",
       "      <td>49008.323666</td>\n",
       "      <td>48358.999061</td>\n",
       "      <td>-924.848940</td>\n",
       "      <td>0.752963</td>\n",
       "    </tr>\n",
       "    <tr>\n",
       "      <th>50%</th>\n",
       "      <td>52925.176510</td>\n",
       "      <td>52250.089590</td>\n",
       "      <td>-91.837987</td>\n",
       "      <td>1.830113</td>\n",
       "    </tr>\n",
       "    <tr>\n",
       "      <th>75%</th>\n",
       "      <td>56754.560427</td>\n",
       "      <td>56315.315548</td>\n",
       "      <td>903.936033</td>\n",
       "      <td>3.312980</td>\n",
       "    </tr>\n",
       "    <tr>\n",
       "      <th>max</th>\n",
       "      <td>65417.722811</td>\n",
       "      <td>68241.584470</td>\n",
       "      <td>6095.895008</td>\n",
       "      <td>11.105342</td>\n",
       "    </tr>\n",
       "  </tbody>\n",
       "</table>\n",
       "</div>"
      ],
      "text/plain": [
       "         Prediction        Target     Residual  Different%\n",
       "count    180.000000    180.000000   180.000000  180.000000\n",
       "mean   52817.153483  52888.286956    71.133474    2.353030\n",
       "std     5591.434161   5965.820555  1747.966066    2.041884\n",
       "min    40366.697544  40083.190500 -4497.048783    0.003188\n",
       "25%    49008.323666  48358.999061  -924.848940    0.752963\n",
       "50%    52925.176510  52250.089590   -91.837987    1.830113\n",
       "75%    56754.560427  56315.315548   903.936033    3.312980\n",
       "max    65417.722811  68241.584470  6095.895008   11.105342"
      ]
     },
     "execution_count": 119,
     "metadata": {},
     "output_type": "execute_result"
    }
   ],
   "source": [
    "df_pf.describe()"
   ]
  },
  {
   "cell_type": "code",
   "execution_count": 120,
   "metadata": {},
   "outputs": [
    {
     "data": {
      "text/html": [
       "<div>\n",
       "<style scoped>\n",
       "    .dataframe tbody tr th:only-of-type {\n",
       "        vertical-align: middle;\n",
       "    }\n",
       "\n",
       "    .dataframe tbody tr th {\n",
       "        vertical-align: top;\n",
       "    }\n",
       "\n",
       "    .dataframe thead th {\n",
       "        text-align: right;\n",
       "    }\n",
       "</style>\n",
       "<table border=\"1\" class=\"dataframe\">\n",
       "  <thead>\n",
       "    <tr style=\"text-align: right;\">\n",
       "      <th></th>\n",
       "      <th>Prediction</th>\n",
       "      <th>Target</th>\n",
       "      <th>Residual</th>\n",
       "      <th>Different%</th>\n",
       "    </tr>\n",
       "  </thead>\n",
       "  <tbody>\n",
       "    <tr>\n",
       "      <th>87</th>\n",
       "      <td>40740.4491</td>\n",
       "      <td>40741.7481</td>\n",
       "      <td>1.2989</td>\n",
       "      <td>0.0032</td>\n",
       "    </tr>\n",
       "    <tr>\n",
       "      <th>88</th>\n",
       "      <td>49256.4721</td>\n",
       "      <td>49251.4438</td>\n",
       "      <td>-5.0283</td>\n",
       "      <td>0.0102</td>\n",
       "    </tr>\n",
       "    <tr>\n",
       "      <th>169</th>\n",
       "      <td>47916.1631</td>\n",
       "      <td>47934.4286</td>\n",
       "      <td>18.2655</td>\n",
       "      <td>0.0381</td>\n",
       "    </tr>\n",
       "    <tr>\n",
       "      <th>25</th>\n",
       "      <td>61166.1239</td>\n",
       "      <td>61139.1608</td>\n",
       "      <td>-26.9631</td>\n",
       "      <td>0.0441</td>\n",
       "    </tr>\n",
       "    <tr>\n",
       "      <th>7</th>\n",
       "      <td>53350.0415</td>\n",
       "      <td>53325.3890</td>\n",
       "      <td>-24.6525</td>\n",
       "      <td>0.0462</td>\n",
       "    </tr>\n",
       "    <tr>\n",
       "      <th>38</th>\n",
       "      <td>49897.9652</td>\n",
       "      <td>49856.7650</td>\n",
       "      <td>-41.2002</td>\n",
       "      <td>0.0826</td>\n",
       "    </tr>\n",
       "    <tr>\n",
       "      <th>45</th>\n",
       "      <td>52980.1200</td>\n",
       "      <td>53027.6991</td>\n",
       "      <td>47.5791</td>\n",
       "      <td>0.0897</td>\n",
       "    </tr>\n",
       "    <tr>\n",
       "      <th>94</th>\n",
       "      <td>52928.4068</td>\n",
       "      <td>52873.2107</td>\n",
       "      <td>-55.1961</td>\n",
       "      <td>0.1044</td>\n",
       "    </tr>\n",
       "    <tr>\n",
       "      <th>143</th>\n",
       "      <td>41394.6486</td>\n",
       "      <td>41351.0268</td>\n",
       "      <td>-43.6218</td>\n",
       "      <td>0.1055</td>\n",
       "    </tr>\n",
       "    <tr>\n",
       "      <th>20</th>\n",
       "      <td>50736.3604</td>\n",
       "      <td>50682.5015</td>\n",
       "      <td>-53.8590</td>\n",
       "      <td>0.1063</td>\n",
       "    </tr>\n",
       "    <tr>\n",
       "      <th>157</th>\n",
       "      <td>53683.2128</td>\n",
       "      <td>53613.3569</td>\n",
       "      <td>-69.8559</td>\n",
       "      <td>0.1303</td>\n",
       "    </tr>\n",
       "    <tr>\n",
       "      <th>100</th>\n",
       "      <td>57678.1077</td>\n",
       "      <td>57582.2240</td>\n",
       "      <td>-95.8837</td>\n",
       "      <td>0.1665</td>\n",
       "    </tr>\n",
       "    <tr>\n",
       "      <th>174</th>\n",
       "      <td>51368.9014</td>\n",
       "      <td>51281.1091</td>\n",
       "      <td>-87.7923</td>\n",
       "      <td>0.1712</td>\n",
       "    </tr>\n",
       "    <tr>\n",
       "      <th>30</th>\n",
       "      <td>46977.9099</td>\n",
       "      <td>47075.9365</td>\n",
       "      <td>98.0266</td>\n",
       "      <td>0.2082</td>\n",
       "    </tr>\n",
       "    <tr>\n",
       "      <th>55</th>\n",
       "      <td>61188.5277</td>\n",
       "      <td>61055.1328</td>\n",
       "      <td>-133.3949</td>\n",
       "      <td>0.2185</td>\n",
       "    </tr>\n",
       "    <tr>\n",
       "      <th>27</th>\n",
       "      <td>44812.9569</td>\n",
       "      <td>44916.7810</td>\n",
       "      <td>103.8241</td>\n",
       "      <td>0.2311</td>\n",
       "    </tr>\n",
       "    <tr>\n",
       "      <th>97</th>\n",
       "      <td>50461.5012</td>\n",
       "      <td>50331.5042</td>\n",
       "      <td>-129.9971</td>\n",
       "      <td>0.2583</td>\n",
       "    </tr>\n",
       "    <tr>\n",
       "      <th>0</th>\n",
       "      <td>54167.0348</td>\n",
       "      <td>54021.1363</td>\n",
       "      <td>-145.8986</td>\n",
       "      <td>0.2701</td>\n",
       "    </tr>\n",
       "    <tr>\n",
       "      <th>161</th>\n",
       "      <td>57826.1538</td>\n",
       "      <td>57669.0250</td>\n",
       "      <td>-157.1289</td>\n",
       "      <td>0.2725</td>\n",
       "    </tr>\n",
       "    <tr>\n",
       "      <th>104</th>\n",
       "      <td>55363.6419</td>\n",
       "      <td>55533.9594</td>\n",
       "      <td>170.3174</td>\n",
       "      <td>0.3067</td>\n",
       "    </tr>\n",
       "    <tr>\n",
       "      <th>147</th>\n",
       "      <td>45068.0506</td>\n",
       "      <td>44916.7810</td>\n",
       "      <td>-151.2696</td>\n",
       "      <td>0.3368</td>\n",
       "    </tr>\n",
       "    <tr>\n",
       "      <th>90</th>\n",
       "      <td>60295.0641</td>\n",
       "      <td>60500.6293</td>\n",
       "      <td>205.5652</td>\n",
       "      <td>0.3398</td>\n",
       "    </tr>\n",
       "    <tr>\n",
       "      <th>139</th>\n",
       "      <td>48534.2757</td>\n",
       "      <td>48700.5272</td>\n",
       "      <td>166.2515</td>\n",
       "      <td>0.3414</td>\n",
       "    </tr>\n",
       "    <tr>\n",
       "      <th>66</th>\n",
       "      <td>48109.5740</td>\n",
       "      <td>47937.6621</td>\n",
       "      <td>-171.9119</td>\n",
       "      <td>0.3586</td>\n",
       "    </tr>\n",
       "    <tr>\n",
       "      <th>178</th>\n",
       "      <td>50050.4743</td>\n",
       "      <td>50240.3279</td>\n",
       "      <td>189.8536</td>\n",
       "      <td>0.3779</td>\n",
       "    </tr>\n",
       "    <tr>\n",
       "      <th>50</th>\n",
       "      <td>49166.3633</td>\n",
       "      <td>48980.3900</td>\n",
       "      <td>-185.9733</td>\n",
       "      <td>0.3797</td>\n",
       "    </tr>\n",
       "    <tr>\n",
       "      <th>105</th>\n",
       "      <td>55549.8063</td>\n",
       "      <td>55769.7720</td>\n",
       "      <td>219.9657</td>\n",
       "      <td>0.3944</td>\n",
       "    </tr>\n",
       "    <tr>\n",
       "      <th>151</th>\n",
       "      <td>53376.0977</td>\n",
       "      <td>53141.6445</td>\n",
       "      <td>-234.4532</td>\n",
       "      <td>0.4412</td>\n",
       "    </tr>\n",
       "    <tr>\n",
       "      <th>135</th>\n",
       "      <td>53415.2058</td>\n",
       "      <td>53178.8150</td>\n",
       "      <td>-236.3909</td>\n",
       "      <td>0.4445</td>\n",
       "    </tr>\n",
       "    <tr>\n",
       "      <th>42</th>\n",
       "      <td>61668.4353</td>\n",
       "      <td>61948.4087</td>\n",
       "      <td>279.9734</td>\n",
       "      <td>0.4519</td>\n",
       "    </tr>\n",
       "    <tr>\n",
       "      <th>140</th>\n",
       "      <td>61668.4353</td>\n",
       "      <td>61948.4087</td>\n",
       "      <td>279.9734</td>\n",
       "      <td>0.4519</td>\n",
       "    </tr>\n",
       "    <tr>\n",
       "      <th>110</th>\n",
       "      <td>50714.6882</td>\n",
       "      <td>50466.0117</td>\n",
       "      <td>-248.6765</td>\n",
       "      <td>0.4928</td>\n",
       "    </tr>\n",
       "    <tr>\n",
       "      <th>93</th>\n",
       "      <td>56088.0952</td>\n",
       "      <td>55770.7009</td>\n",
       "      <td>-317.3944</td>\n",
       "      <td>0.5691</td>\n",
       "    </tr>\n",
       "    <tr>\n",
       "      <th>54</th>\n",
       "      <td>46800.4730</td>\n",
       "      <td>47075.9365</td>\n",
       "      <td>275.4635</td>\n",
       "      <td>0.5851</td>\n",
       "    </tr>\n",
       "    <tr>\n",
       "      <th>175</th>\n",
       "      <td>51557.3648</td>\n",
       "      <td>51865.7349</td>\n",
       "      <td>308.3701</td>\n",
       "      <td>0.5946</td>\n",
       "    </tr>\n",
       "    <tr>\n",
       "      <th>144</th>\n",
       "      <td>54983.1142</td>\n",
       "      <td>54654.7997</td>\n",
       "      <td>-328.3145</td>\n",
       "      <td>0.6007</td>\n",
       "    </tr>\n",
       "    <tr>\n",
       "      <th>120</th>\n",
       "      <td>50516.9703</td>\n",
       "      <td>50215.0381</td>\n",
       "      <td>-301.9323</td>\n",
       "      <td>0.6013</td>\n",
       "    </tr>\n",
       "    <tr>\n",
       "      <th>60</th>\n",
       "      <td>46198.8016</td>\n",
       "      <td>46499.3319</td>\n",
       "      <td>300.5304</td>\n",
       "      <td>0.6463</td>\n",
       "    </tr>\n",
       "    <tr>\n",
       "      <th>47</th>\n",
       "      <td>62129.3502</td>\n",
       "      <td>61721.9682</td>\n",
       "      <td>-407.3820</td>\n",
       "      <td>0.6600</td>\n",
       "    </tr>\n",
       "    <tr>\n",
       "      <th>177</th>\n",
       "      <td>57309.6484</td>\n",
       "      <td>56911.9386</td>\n",
       "      <td>-397.7098</td>\n",
       "      <td>0.6988</td>\n",
       "    </tr>\n",
       "    <tr>\n",
       "      <th>171</th>\n",
       "      <td>40366.6975</td>\n",
       "      <td>40083.1905</td>\n",
       "      <td>-283.5070</td>\n",
       "      <td>0.7073</td>\n",
       "    </tr>\n",
       "    <tr>\n",
       "      <th>76</th>\n",
       "      <td>52760.6874</td>\n",
       "      <td>52386.3630</td>\n",
       "      <td>-374.3245</td>\n",
       "      <td>0.7145</td>\n",
       "    </tr>\n",
       "    <tr>\n",
       "      <th>22</th>\n",
       "      <td>53955.8576</td>\n",
       "      <td>53555.6911</td>\n",
       "      <td>-400.1665</td>\n",
       "      <td>0.7472</td>\n",
       "    </tr>\n",
       "    <tr>\n",
       "      <th>176</th>\n",
       "      <td>44050.9287</td>\n",
       "      <td>44383.7802</td>\n",
       "      <td>332.8514</td>\n",
       "      <td>0.7499</td>\n",
       "    </tr>\n",
       "    <tr>\n",
       "      <th>127</th>\n",
       "      <td>51686.5457</td>\n",
       "      <td>51300.5786</td>\n",
       "      <td>-385.9670</td>\n",
       "      <td>0.7524</td>\n",
       "    </tr>\n",
       "    <tr>\n",
       "      <th>141</th>\n",
       "      <td>46077.7112</td>\n",
       "      <td>45733.2655</td>\n",
       "      <td>-344.4457</td>\n",
       "      <td>0.7532</td>\n",
       "    </tr>\n",
       "    <tr>\n",
       "      <th>73</th>\n",
       "      <td>45906.4762</td>\n",
       "      <td>45550.6057</td>\n",
       "      <td>-355.8705</td>\n",
       "      <td>0.7813</td>\n",
       "    </tr>\n",
       "    <tr>\n",
       "      <th>2</th>\n",
       "      <td>55814.8951</td>\n",
       "      <td>56267.8603</td>\n",
       "      <td>452.9652</td>\n",
       "      <td>0.8050</td>\n",
       "    </tr>\n",
       "    <tr>\n",
       "      <th>4</th>\n",
       "      <td>51727.5730</td>\n",
       "      <td>51300.5786</td>\n",
       "      <td>-426.9944</td>\n",
       "      <td>0.8323</td>\n",
       "    </tr>\n",
       "    <tr>\n",
       "      <th>91</th>\n",
       "      <td>51737.0455</td>\n",
       "      <td>51300.7750</td>\n",
       "      <td>-436.2705</td>\n",
       "      <td>0.8504</td>\n",
       "    </tr>\n",
       "    <tr>\n",
       "      <th>99</th>\n",
       "      <td>44526.6828</td>\n",
       "      <td>44912.1741</td>\n",
       "      <td>385.4913</td>\n",
       "      <td>0.8583</td>\n",
       "    </tr>\n",
       "    <tr>\n",
       "      <th>58</th>\n",
       "      <td>62946.1771</td>\n",
       "      <td>63503.1561</td>\n",
       "      <td>556.9791</td>\n",
       "      <td>0.8771</td>\n",
       "    </tr>\n",
       "    <tr>\n",
       "      <th>114</th>\n",
       "      <td>46458.9484</td>\n",
       "      <td>46883.9737</td>\n",
       "      <td>425.0253</td>\n",
       "      <td>0.9065</td>\n",
       "    </tr>\n",
       "    <tr>\n",
       "      <th>69</th>\n",
       "      <td>51607.7384</td>\n",
       "      <td>52089.0047</td>\n",
       "      <td>481.2662</td>\n",
       "      <td>0.9239</td>\n",
       "    </tr>\n",
       "    <tr>\n",
       "      <th>79</th>\n",
       "      <td>49181.3700</td>\n",
       "      <td>49663.6310</td>\n",
       "      <td>482.2610</td>\n",
       "      <td>0.9711</td>\n",
       "    </tr>\n",
       "    <tr>\n",
       "      <th>126</th>\n",
       "      <td>55407.5880</td>\n",
       "      <td>55973.2361</td>\n",
       "      <td>565.6480</td>\n",
       "      <td>1.0106</td>\n",
       "    </tr>\n",
       "    <tr>\n",
       "      <th>78</th>\n",
       "      <td>52203.3276</td>\n",
       "      <td>51680.8096</td>\n",
       "      <td>-522.5180</td>\n",
       "      <td>1.0110</td>\n",
       "    </tr>\n",
       "    <tr>\n",
       "      <th>156</th>\n",
       "      <td>46086.1491</td>\n",
       "      <td>46559.7129</td>\n",
       "      <td>473.5639</td>\n",
       "      <td>1.0171</td>\n",
       "    </tr>\n",
       "    <tr>\n",
       "      <th>63</th>\n",
       "      <td>42888.8994</td>\n",
       "      <td>42448.0780</td>\n",
       "      <td>-440.8214</td>\n",
       "      <td>1.0385</td>\n",
       "    </tr>\n",
       "    <tr>\n",
       "      <th>85</th>\n",
       "      <td>55675.3962</td>\n",
       "      <td>56267.8603</td>\n",
       "      <td>592.4641</td>\n",
       "      <td>1.0529</td>\n",
       "    </tr>\n",
       "    <tr>\n",
       "      <th>34</th>\n",
       "      <td>58187.2785</td>\n",
       "      <td>58846.6855</td>\n",
       "      <td>659.4071</td>\n",
       "      <td>1.1206</td>\n",
       "    </tr>\n",
       "    <tr>\n",
       "      <th>18</th>\n",
       "      <td>52728.4947</td>\n",
       "      <td>53326.7060</td>\n",
       "      <td>598.2113</td>\n",
       "      <td>1.1218</td>\n",
       "    </tr>\n",
       "    <tr>\n",
       "      <th>77</th>\n",
       "      <td>52654.5259</td>\n",
       "      <td>52044.2227</td>\n",
       "      <td>-610.3032</td>\n",
       "      <td>1.1727</td>\n",
       "    </tr>\n",
       "    <tr>\n",
       "      <th>150</th>\n",
       "      <td>57124.5591</td>\n",
       "      <td>56457.6813</td>\n",
       "      <td>-666.8778</td>\n",
       "      <td>1.1812</td>\n",
       "    </tr>\n",
       "    <tr>\n",
       "      <th>82</th>\n",
       "      <td>54678.5735</td>\n",
       "      <td>54022.3280</td>\n",
       "      <td>-656.2456</td>\n",
       "      <td>1.2148</td>\n",
       "    </tr>\n",
       "    <tr>\n",
       "      <th>111</th>\n",
       "      <td>54349.1755</td>\n",
       "      <td>53683.2093</td>\n",
       "      <td>-665.9662</td>\n",
       "      <td>1.2405</td>\n",
       "    </tr>\n",
       "    <tr>\n",
       "      <th>11</th>\n",
       "      <td>49824.9260</td>\n",
       "      <td>50466.0117</td>\n",
       "      <td>641.0857</td>\n",
       "      <td>1.2703</td>\n",
       "    </tr>\n",
       "    <tr>\n",
       "      <th>165</th>\n",
       "      <td>50615.7327</td>\n",
       "      <td>51300.5786</td>\n",
       "      <td>684.8459</td>\n",
       "      <td>1.3350</td>\n",
       "    </tr>\n",
       "    <tr>\n",
       "      <th>170</th>\n",
       "      <td>49016.5482</td>\n",
       "      <td>48369.7902</td>\n",
       "      <td>-646.7580</td>\n",
       "      <td>1.3371</td>\n",
       "    </tr>\n",
       "    <tr>\n",
       "      <th>13</th>\n",
       "      <td>65417.7228</td>\n",
       "      <td>66321.5336</td>\n",
       "      <td>903.8108</td>\n",
       "      <td>1.3628</td>\n",
       "    </tr>\n",
       "    <tr>\n",
       "      <th>1</th>\n",
       "      <td>48825.4508</td>\n",
       "      <td>49514.2992</td>\n",
       "      <td>688.8484</td>\n",
       "      <td>1.3912</td>\n",
       "    </tr>\n",
       "    <tr>\n",
       "      <th>65</th>\n",
       "      <td>51431.6459</td>\n",
       "      <td>50684.8662</td>\n",
       "      <td>-746.7797</td>\n",
       "      <td>1.4734</td>\n",
       "    </tr>\n",
       "    <tr>\n",
       "      <th>59</th>\n",
       "      <td>53807.8667</td>\n",
       "      <td>53026.3239</td>\n",
       "      <td>-781.5428</td>\n",
       "      <td>1.4739</td>\n",
       "    </tr>\n",
       "    <tr>\n",
       "      <th>23</th>\n",
       "      <td>50764.2384</td>\n",
       "      <td>50016.3666</td>\n",
       "      <td>-747.8718</td>\n",
       "      <td>1.4953</td>\n",
       "    </tr>\n",
       "    <tr>\n",
       "      <th>173</th>\n",
       "      <td>48144.8234</td>\n",
       "      <td>47434.1643</td>\n",
       "      <td>-710.6591</td>\n",
       "      <td>1.4982</td>\n",
       "    </tr>\n",
       "    <tr>\n",
       "      <th>81</th>\n",
       "      <td>53899.9021</td>\n",
       "      <td>53102.3090</td>\n",
       "      <td>-797.5931</td>\n",
       "      <td>1.5020</td>\n",
       "    </tr>\n",
       "    <tr>\n",
       "      <th>164</th>\n",
       "      <td>45993.4176</td>\n",
       "      <td>46697.1868</td>\n",
       "      <td>703.7692</td>\n",
       "      <td>1.5071</td>\n",
       "    </tr>\n",
       "    <tr>\n",
       "      <th>64</th>\n",
       "      <td>54114.1631</td>\n",
       "      <td>53307.8043</td>\n",
       "      <td>-806.3588</td>\n",
       "      <td>1.5126</td>\n",
       "    </tr>\n",
       "    <tr>\n",
       "      <th>122</th>\n",
       "      <td>41240.8169</td>\n",
       "      <td>41899.1670</td>\n",
       "      <td>658.3501</td>\n",
       "      <td>1.5713</td>\n",
       "    </tr>\n",
       "    <tr>\n",
       "      <th>124</th>\n",
       "      <td>47023.8092</td>\n",
       "      <td>46291.6148</td>\n",
       "      <td>-732.1945</td>\n",
       "      <td>1.5817</td>\n",
       "    </tr>\n",
       "    <tr>\n",
       "      <th>167</th>\n",
       "      <td>48531.3135</td>\n",
       "      <td>47771.0480</td>\n",
       "      <td>-760.2654</td>\n",
       "      <td>1.5915</td>\n",
       "    </tr>\n",
       "    <tr>\n",
       "      <th>3</th>\n",
       "      <td>45255.4894</td>\n",
       "      <td>44543.4567</td>\n",
       "      <td>-712.0326</td>\n",
       "      <td>1.5985</td>\n",
       "    </tr>\n",
       "    <tr>\n",
       "      <th>123</th>\n",
       "      <td>49873.6069</td>\n",
       "      <td>50684.4363</td>\n",
       "      <td>810.8294</td>\n",
       "      <td>1.5998</td>\n",
       "    </tr>\n",
       "    <tr>\n",
       "      <th>107</th>\n",
       "      <td>44540.2733</td>\n",
       "      <td>45265.4503</td>\n",
       "      <td>725.1770</td>\n",
       "      <td>1.6021</td>\n",
       "    </tr>\n",
       "    <tr>\n",
       "      <th>125</th>\n",
       "      <td>51664.4675</td>\n",
       "      <td>50842.5115</td>\n",
       "      <td>-821.9560</td>\n",
       "      <td>1.6167</td>\n",
       "    </tr>\n",
       "    <tr>\n",
       "      <th>162</th>\n",
       "      <td>49965.0119</td>\n",
       "      <td>50789.1683</td>\n",
       "      <td>824.1564</td>\n",
       "      <td>1.6227</td>\n",
       "    </tr>\n",
       "    <tr>\n",
       "      <th>53</th>\n",
       "      <td>51522.7615</td>\n",
       "      <td>50682.5015</td>\n",
       "      <td>-840.2601</td>\n",
       "      <td>1.6579</td>\n",
       "    </tr>\n",
       "    <tr>\n",
       "      <th>179</th>\n",
       "      <td>63057.6917</td>\n",
       "      <td>61948.4087</td>\n",
       "      <td>-1109.2830</td>\n",
       "      <td>1.7907</td>\n",
       "    </tr>\n",
       "    <tr>\n",
       "      <th>70</th>\n",
       "      <td>57502.3564</td>\n",
       "      <td>58552.4009</td>\n",
       "      <td>1050.0445</td>\n",
       "      <td>1.7933</td>\n",
       "    </tr>\n",
       "    <tr>\n",
       "      <th>148</th>\n",
       "      <td>49130.3660</td>\n",
       "      <td>48253.3399</td>\n",
       "      <td>-877.0261</td>\n",
       "      <td>1.8175</td>\n",
       "    </tr>\n",
       "    <tr>\n",
       "      <th>129</th>\n",
       "      <td>48983.6502</td>\n",
       "      <td>48097.3690</td>\n",
       "      <td>-886.2811</td>\n",
       "      <td>1.8427</td>\n",
       "    </tr>\n",
       "    <tr>\n",
       "      <th>9</th>\n",
       "      <td>55597.2935</td>\n",
       "      <td>56642.5553</td>\n",
       "      <td>1045.2618</td>\n",
       "      <td>1.8454</td>\n",
       "    </tr>\n",
       "    <tr>\n",
       "      <th>119</th>\n",
       "      <td>46766.2079</td>\n",
       "      <td>47670.5196</td>\n",
       "      <td>904.3117</td>\n",
       "      <td>1.8970</td>\n",
       "    </tr>\n",
       "    <tr>\n",
       "      <th>10</th>\n",
       "      <td>49022.5320</td>\n",
       "      <td>50006.8722</td>\n",
       "      <td>984.3402</td>\n",
       "      <td>1.9684</td>\n",
       "    </tr>\n",
       "    <tr>\n",
       "      <th>142</th>\n",
       "      <td>41059.9804</td>\n",
       "      <td>40229.1306</td>\n",
       "      <td>-830.8498</td>\n",
       "      <td>2.0653</td>\n",
       "    </tr>\n",
       "    <tr>\n",
       "      <th>21</th>\n",
       "      <td>57460.2558</td>\n",
       "      <td>58691.3909</td>\n",
       "      <td>1231.1350</td>\n",
       "      <td>2.0976</td>\n",
       "    </tr>\n",
       "    <tr>\n",
       "      <th>19</th>\n",
       "      <td>45900.8727</td>\n",
       "      <td>46889.2768</td>\n",
       "      <td>988.4041</td>\n",
       "      <td>2.1080</td>\n",
       "    </tr>\n",
       "    <tr>\n",
       "      <th>56</th>\n",
       "      <td>53493.5081</td>\n",
       "      <td>54654.7997</td>\n",
       "      <td>1161.2916</td>\n",
       "      <td>2.1248</td>\n",
       "    </tr>\n",
       "    <tr>\n",
       "      <th>163</th>\n",
       "      <td>62479.2024</td>\n",
       "      <td>63867.2174</td>\n",
       "      <td>1388.0150</td>\n",
       "      <td>2.1733</td>\n",
       "    </tr>\n",
       "    <tr>\n",
       "      <th>103</th>\n",
       "      <td>62494.4580</td>\n",
       "      <td>63897.5839</td>\n",
       "      <td>1403.1259</td>\n",
       "      <td>2.1959</td>\n",
       "    </tr>\n",
       "    <tr>\n",
       "      <th>44</th>\n",
       "      <td>47418.6622</td>\n",
       "      <td>46378.1098</td>\n",
       "      <td>-1040.5524</td>\n",
       "      <td>2.2436</td>\n",
       "    </tr>\n",
       "    <tr>\n",
       "      <th>128</th>\n",
       "      <td>51368.9014</td>\n",
       "      <td>50238.2623</td>\n",
       "      <td>-1130.6391</td>\n",
       "      <td>2.2506</td>\n",
       "    </tr>\n",
       "    <tr>\n",
       "      <th>145</th>\n",
       "      <td>54762.0701</td>\n",
       "      <td>53520.9175</td>\n",
       "      <td>-1241.1526</td>\n",
       "      <td>2.3190</td>\n",
       "    </tr>\n",
       "    <tr>\n",
       "      <th>41</th>\n",
       "      <td>42087.6006</td>\n",
       "      <td>43097.4593</td>\n",
       "      <td>1009.8588</td>\n",
       "      <td>2.3432</td>\n",
       "    </tr>\n",
       "    <tr>\n",
       "      <th>131</th>\n",
       "      <td>52203.3276</td>\n",
       "      <td>53471.5102</td>\n",
       "      <td>1268.1826</td>\n",
       "      <td>2.3717</td>\n",
       "    </tr>\n",
       "    <tr>\n",
       "      <th>159</th>\n",
       "      <td>58361.5610</td>\n",
       "      <td>56990.6561</td>\n",
       "      <td>-1370.9049</td>\n",
       "      <td>2.4055</td>\n",
       "    </tr>\n",
       "    <tr>\n",
       "      <th>117</th>\n",
       "      <td>58329.5108</td>\n",
       "      <td>59770.7766</td>\n",
       "      <td>1441.2658</td>\n",
       "      <td>2.4113</td>\n",
       "    </tr>\n",
       "    <tr>\n",
       "      <th>80</th>\n",
       "      <td>49265.4920</td>\n",
       "      <td>50483.7463</td>\n",
       "      <td>1218.2543</td>\n",
       "      <td>2.4132</td>\n",
       "    </tr>\n",
       "    <tr>\n",
       "      <th>67</th>\n",
       "      <td>48795.6592</td>\n",
       "      <td>50004.7341</td>\n",
       "      <td>1209.0749</td>\n",
       "      <td>2.4179</td>\n",
       "    </tr>\n",
       "    <tr>\n",
       "      <th>133</th>\n",
       "      <td>53314.2350</td>\n",
       "      <td>52024.9912</td>\n",
       "      <td>-1289.2438</td>\n",
       "      <td>2.4781</td>\n",
       "    </tr>\n",
       "    <tr>\n",
       "      <th>75</th>\n",
       "      <td>51532.1965</td>\n",
       "      <td>50240.3279</td>\n",
       "      <td>-1291.8686</td>\n",
       "      <td>2.5714</td>\n",
       "    </tr>\n",
       "    <tr>\n",
       "      <th>43</th>\n",
       "      <td>51050.0933</td>\n",
       "      <td>49765.0745</td>\n",
       "      <td>-1285.0189</td>\n",
       "      <td>2.5822</td>\n",
       "    </tr>\n",
       "    <tr>\n",
       "      <th>33</th>\n",
       "      <td>57688.6698</td>\n",
       "      <td>56229.2783</td>\n",
       "      <td>-1459.3915</td>\n",
       "      <td>2.5954</td>\n",
       "    </tr>\n",
       "    <tr>\n",
       "      <th>116</th>\n",
       "      <td>55964.9901</td>\n",
       "      <td>54532.7994</td>\n",
       "      <td>-1432.1906</td>\n",
       "      <td>2.6263</td>\n",
       "    </tr>\n",
       "    <tr>\n",
       "      <th>72</th>\n",
       "      <td>56067.5589</td>\n",
       "      <td>57581.5042</td>\n",
       "      <td>1513.9453</td>\n",
       "      <td>2.6292</td>\n",
       "    </tr>\n",
       "    <tr>\n",
       "      <th>31</th>\n",
       "      <td>52279.8534</td>\n",
       "      <td>50896.0653</td>\n",
       "      <td>-1383.7880</td>\n",
       "      <td>2.7189</td>\n",
       "    </tr>\n",
       "    <tr>\n",
       "      <th>106</th>\n",
       "      <td>54882.5292</td>\n",
       "      <td>53428.5294</td>\n",
       "      <td>-1453.9998</td>\n",
       "      <td>2.7214</td>\n",
       "    </tr>\n",
       "    <tr>\n",
       "      <th>40</th>\n",
       "      <td>53090.1782</td>\n",
       "      <td>51682.4813</td>\n",
       "      <td>-1407.6969</td>\n",
       "      <td>2.7237</td>\n",
       "    </tr>\n",
       "    <tr>\n",
       "      <th>101</th>\n",
       "      <td>59665.3946</td>\n",
       "      <td>61351.3349</td>\n",
       "      <td>1685.9403</td>\n",
       "      <td>2.7480</td>\n",
       "    </tr>\n",
       "    <tr>\n",
       "      <th>37</th>\n",
       "      <td>47572.3035</td>\n",
       "      <td>46295.3451</td>\n",
       "      <td>-1276.9584</td>\n",
       "      <td>2.7583</td>\n",
       "    </tr>\n",
       "    <tr>\n",
       "      <th>36</th>\n",
       "      <td>52921.9462</td>\n",
       "      <td>51494.1933</td>\n",
       "      <td>-1427.7529</td>\n",
       "      <td>2.7726</td>\n",
       "    </tr>\n",
       "    <tr>\n",
       "      <th>155</th>\n",
       "      <td>55910.3635</td>\n",
       "      <td>57542.2059</td>\n",
       "      <td>1631.8425</td>\n",
       "      <td>2.8359</td>\n",
       "    </tr>\n",
       "    <tr>\n",
       "      <th>89</th>\n",
       "      <td>57656.9892</td>\n",
       "      <td>59345.9784</td>\n",
       "      <td>1688.9892</td>\n",
       "      <td>2.8460</td>\n",
       "    </tr>\n",
       "    <tr>\n",
       "      <th>166</th>\n",
       "      <td>61173.5910</td>\n",
       "      <td>59476.2810</td>\n",
       "      <td>-1697.3099</td>\n",
       "      <td>2.8538</td>\n",
       "    </tr>\n",
       "    <tr>\n",
       "      <th>153</th>\n",
       "      <td>56479.7175</td>\n",
       "      <td>54892.6064</td>\n",
       "      <td>-1587.1111</td>\n",
       "      <td>2.8913</td>\n",
       "    </tr>\n",
       "    <tr>\n",
       "      <th>39</th>\n",
       "      <td>52587.0798</td>\n",
       "      <td>51101.3188</td>\n",
       "      <td>-1485.7610</td>\n",
       "      <td>2.9075</td>\n",
       "    </tr>\n",
       "    <tr>\n",
       "      <th>152</th>\n",
       "      <td>46354.1485</td>\n",
       "      <td>47774.0306</td>\n",
       "      <td>1419.8821</td>\n",
       "      <td>2.9721</td>\n",
       "    </tr>\n",
       "    <tr>\n",
       "      <th>49</th>\n",
       "      <td>60475.6598</td>\n",
       "      <td>62328.7613</td>\n",
       "      <td>1853.1015</td>\n",
       "      <td>2.9731</td>\n",
       "    </tr>\n",
       "    <tr>\n",
       "      <th>5</th>\n",
       "      <td>55033.4758</td>\n",
       "      <td>53440.7751</td>\n",
       "      <td>-1592.7006</td>\n",
       "      <td>2.9803</td>\n",
       "    </tr>\n",
       "    <tr>\n",
       "      <th>17</th>\n",
       "      <td>48475.0659</td>\n",
       "      <td>50006.8722</td>\n",
       "      <td>1531.8063</td>\n",
       "      <td>3.0632</td>\n",
       "    </tr>\n",
       "    <tr>\n",
       "      <th>14</th>\n",
       "      <td>51525.9063</td>\n",
       "      <td>49983.3161</td>\n",
       "      <td>-1542.5902</td>\n",
       "      <td>3.0862</td>\n",
       "    </tr>\n",
       "    <tr>\n",
       "      <th>32</th>\n",
       "      <td>58497.0781</td>\n",
       "      <td>56733.2183</td>\n",
       "      <td>-1763.8598</td>\n",
       "      <td>3.1090</td>\n",
       "    </tr>\n",
       "    <tr>\n",
       "      <th>113</th>\n",
       "      <td>55502.3597</td>\n",
       "      <td>53752.3673</td>\n",
       "      <td>-1749.9924</td>\n",
       "      <td>3.2557</td>\n",
       "    </tr>\n",
       "    <tr>\n",
       "      <th>102</th>\n",
       "      <td>62685.4673</td>\n",
       "      <td>64818.2349</td>\n",
       "      <td>2132.7676</td>\n",
       "      <td>3.2904</td>\n",
       "    </tr>\n",
       "    <tr>\n",
       "      <th>138</th>\n",
       "      <td>44766.4832</td>\n",
       "      <td>46295.3451</td>\n",
       "      <td>1528.8619</td>\n",
       "      <td>3.3024</td>\n",
       "    </tr>\n",
       "    <tr>\n",
       "      <th>118</th>\n",
       "      <td>53702.8758</td>\n",
       "      <td>55561.2268</td>\n",
       "      <td>1858.3511</td>\n",
       "      <td>3.3447</td>\n",
       "    </tr>\n",
       "    <tr>\n",
       "      <th>149</th>\n",
       "      <td>51987.1124</td>\n",
       "      <td>53888.7902</td>\n",
       "      <td>1901.6778</td>\n",
       "      <td>3.5289</td>\n",
       "    </tr>\n",
       "    <tr>\n",
       "      <th>68</th>\n",
       "      <td>49488.5079</td>\n",
       "      <td>47787.2702</td>\n",
       "      <td>-1701.2376</td>\n",
       "      <td>3.5600</td>\n",
       "    </tr>\n",
       "    <tr>\n",
       "      <th>137</th>\n",
       "      <td>49124.3690</td>\n",
       "      <td>47434.1643</td>\n",
       "      <td>-1690.2046</td>\n",
       "      <td>3.5633</td>\n",
       "    </tr>\n",
       "    <tr>\n",
       "      <th>52</th>\n",
       "      <td>61095.2326</td>\n",
       "      <td>58959.7956</td>\n",
       "      <td>-2135.4371</td>\n",
       "      <td>3.6219</td>\n",
       "    </tr>\n",
       "    <tr>\n",
       "      <th>26</th>\n",
       "      <td>53262.1957</td>\n",
       "      <td>51396.3284</td>\n",
       "      <td>-1865.8673</td>\n",
       "      <td>3.6304</td>\n",
       "    </tr>\n",
       "    <tr>\n",
       "      <th>29</th>\n",
       "      <td>54515.2894</td>\n",
       "      <td>52553.4728</td>\n",
       "      <td>-1961.8165</td>\n",
       "      <td>3.7330</td>\n",
       "    </tr>\n",
       "    <tr>\n",
       "      <th>28</th>\n",
       "      <td>56379.8357</td>\n",
       "      <td>54281.0771</td>\n",
       "      <td>-2098.7586</td>\n",
       "      <td>3.8665</td>\n",
       "    </tr>\n",
       "    <tr>\n",
       "      <th>15</th>\n",
       "      <td>55726.3919</td>\n",
       "      <td>53648.3708</td>\n",
       "      <td>-2078.0211</td>\n",
       "      <td>3.8734</td>\n",
       "    </tr>\n",
       "    <tr>\n",
       "      <th>46</th>\n",
       "      <td>55553.1969</td>\n",
       "      <td>53471.5102</td>\n",
       "      <td>-2081.6867</td>\n",
       "      <td>3.8931</td>\n",
       "    </tr>\n",
       "    <tr>\n",
       "      <th>108</th>\n",
       "      <td>50252.5003</td>\n",
       "      <td>48326.6257</td>\n",
       "      <td>-1925.8746</td>\n",
       "      <td>3.9851</td>\n",
       "    </tr>\n",
       "    <tr>\n",
       "      <th>132</th>\n",
       "      <td>45194.7623</td>\n",
       "      <td>47072.6228</td>\n",
       "      <td>1877.8606</td>\n",
       "      <td>3.9893</td>\n",
       "    </tr>\n",
       "    <tr>\n",
       "      <th>74</th>\n",
       "      <td>56074.4035</td>\n",
       "      <td>53875.2811</td>\n",
       "      <td>-2199.1225</td>\n",
       "      <td>4.0819</td>\n",
       "    </tr>\n",
       "    <tr>\n",
       "      <th>158</th>\n",
       "      <td>59599.8802</td>\n",
       "      <td>57254.1978</td>\n",
       "      <td>-2345.6824</td>\n",
       "      <td>4.0970</td>\n",
       "    </tr>\n",
       "    <tr>\n",
       "      <th>112</th>\n",
       "      <td>61868.2473</td>\n",
       "      <td>64511.3960</td>\n",
       "      <td>2643.1488</td>\n",
       "      <td>4.0972</td>\n",
       "    </tr>\n",
       "    <tr>\n",
       "      <th>96</th>\n",
       "      <td>56686.9316</td>\n",
       "      <td>54433.7694</td>\n",
       "      <td>-2253.1622</td>\n",
       "      <td>4.1393</td>\n",
       "    </tr>\n",
       "    <tr>\n",
       "      <th>134</th>\n",
       "      <td>46150.8906</td>\n",
       "      <td>44294.8400</td>\n",
       "      <td>-1856.0506</td>\n",
       "      <td>4.1902</td>\n",
       "    </tr>\n",
       "    <tr>\n",
       "      <th>136</th>\n",
       "      <td>55100.6963</td>\n",
       "      <td>52873.2107</td>\n",
       "      <td>-2227.4856</td>\n",
       "      <td>4.2129</td>\n",
       "    </tr>\n",
       "    <tr>\n",
       "      <th>168</th>\n",
       "      <td>58497.0781</td>\n",
       "      <td>56072.8133</td>\n",
       "      <td>-2424.2649</td>\n",
       "      <td>4.3234</td>\n",
       "    </tr>\n",
       "    <tr>\n",
       "      <th>172</th>\n",
       "      <td>43407.7051</td>\n",
       "      <td>45405.0776</td>\n",
       "      <td>1997.3725</td>\n",
       "      <td>4.3990</td>\n",
       "    </tr>\n",
       "    <tr>\n",
       "      <th>48</th>\n",
       "      <td>58151.7746</td>\n",
       "      <td>55698.0902</td>\n",
       "      <td>-2453.6844</td>\n",
       "      <td>4.4053</td>\n",
       "    </tr>\n",
       "    <tr>\n",
       "      <th>115</th>\n",
       "      <td>42151.8702</td>\n",
       "      <td>44100.4433</td>\n",
       "      <td>1948.5731</td>\n",
       "      <td>4.4185</td>\n",
       "    </tr>\n",
       "    <tr>\n",
       "      <th>92</th>\n",
       "      <td>53177.7403</td>\n",
       "      <td>50896.2737</td>\n",
       "      <td>-2281.4665</td>\n",
       "      <td>4.4826</td>\n",
       "    </tr>\n",
       "    <tr>\n",
       "      <th>84</th>\n",
       "      <td>57131.5327</td>\n",
       "      <td>54653.7111</td>\n",
       "      <td>-2477.8216</td>\n",
       "      <td>4.5337</td>\n",
       "    </tr>\n",
       "    <tr>\n",
       "      <th>57</th>\n",
       "      <td>46300.4242</td>\n",
       "      <td>48554.7615</td>\n",
       "      <td>2254.3373</td>\n",
       "      <td>4.6429</td>\n",
       "    </tr>\n",
       "    <tr>\n",
       "      <th>16</th>\n",
       "      <td>60490.4262</td>\n",
       "      <td>63520.8518</td>\n",
       "      <td>3030.4256</td>\n",
       "      <td>4.7708</td>\n",
       "    </tr>\n",
       "    <tr>\n",
       "      <th>62</th>\n",
       "      <td>58233.4659</td>\n",
       "      <td>55559.2067</td>\n",
       "      <td>-2674.2592</td>\n",
       "      <td>4.8134</td>\n",
       "    </tr>\n",
       "    <tr>\n",
       "      <th>146</th>\n",
       "      <td>61924.9153</td>\n",
       "      <td>59019.6220</td>\n",
       "      <td>-2905.2933</td>\n",
       "      <td>4.9226</td>\n",
       "    </tr>\n",
       "    <tr>\n",
       "      <th>98</th>\n",
       "      <td>59596.2426</td>\n",
       "      <td>62772.8034</td>\n",
       "      <td>3176.5608</td>\n",
       "      <td>5.0604</td>\n",
       "    </tr>\n",
       "    <tr>\n",
       "      <th>6</th>\n",
       "      <td>60782.8018</td>\n",
       "      <td>64197.5463</td>\n",
       "      <td>3414.7445</td>\n",
       "      <td>5.3191</td>\n",
       "    </tr>\n",
       "    <tr>\n",
       "      <th>86</th>\n",
       "      <td>45040.5517</td>\n",
       "      <td>47603.2124</td>\n",
       "      <td>2562.6607</td>\n",
       "      <td>5.3834</td>\n",
       "    </tr>\n",
       "    <tr>\n",
       "      <th>71</th>\n",
       "      <td>56438.3657</td>\n",
       "      <td>59652.3107</td>\n",
       "      <td>3213.9450</td>\n",
       "      <td>5.3878</td>\n",
       "    </tr>\n",
       "    <tr>\n",
       "      <th>24</th>\n",
       "      <td>44780.1469</td>\n",
       "      <td>47431.0251</td>\n",
       "      <td>2650.8782</td>\n",
       "      <td>5.5889</td>\n",
       "    </tr>\n",
       "    <tr>\n",
       "      <th>121</th>\n",
       "      <td>56957.4469</td>\n",
       "      <td>60398.5438</td>\n",
       "      <td>3441.0970</td>\n",
       "      <td>5.6973</td>\n",
       "    </tr>\n",
       "    <tr>\n",
       "      <th>51</th>\n",
       "      <td>55269.1071</td>\n",
       "      <td>58691.3909</td>\n",
       "      <td>3422.2837</td>\n",
       "      <td>5.8310</td>\n",
       "    </tr>\n",
       "    <tr>\n",
       "      <th>160</th>\n",
       "      <td>64203.3519</td>\n",
       "      <td>68241.5845</td>\n",
       "      <td>4038.2326</td>\n",
       "      <td>5.9176</td>\n",
       "    </tr>\n",
       "    <tr>\n",
       "      <th>130</th>\n",
       "      <td>61619.5235</td>\n",
       "      <td>66048.4646</td>\n",
       "      <td>4428.9411</td>\n",
       "      <td>6.7056</td>\n",
       "    </tr>\n",
       "    <tr>\n",
       "      <th>83</th>\n",
       "      <td>49268.4990</td>\n",
       "      <td>45877.9271</td>\n",
       "      <td>-3390.5719</td>\n",
       "      <td>7.3904</td>\n",
       "    </tr>\n",
       "    <tr>\n",
       "      <th>12</th>\n",
       "      <td>60475.6598</td>\n",
       "      <td>65391.1777</td>\n",
       "      <td>4915.5179</td>\n",
       "      <td>7.5171</td>\n",
       "    </tr>\n",
       "    <tr>\n",
       "      <th>8</th>\n",
       "      <td>57075.7674</td>\n",
       "      <td>61766.0664</td>\n",
       "      <td>4690.2989</td>\n",
       "      <td>7.5937</td>\n",
       "    </tr>\n",
       "    <tr>\n",
       "      <th>95</th>\n",
       "      <td>60365.0269</td>\n",
       "      <td>65662.0638</td>\n",
       "      <td>5297.0369</td>\n",
       "      <td>8.0671</td>\n",
       "    </tr>\n",
       "    <tr>\n",
       "      <th>154</th>\n",
       "      <td>50655.9101</td>\n",
       "      <td>46809.6623</td>\n",
       "      <td>-3846.2478</td>\n",
       "      <td>8.2168</td>\n",
       "    </tr>\n",
       "    <tr>\n",
       "      <th>35</th>\n",
       "      <td>56610.8650</td>\n",
       "      <td>52113.8162</td>\n",
       "      <td>-4497.0488</td>\n",
       "      <td>8.6293</td>\n",
       "    </tr>\n",
       "    <tr>\n",
       "      <th>109</th>\n",
       "      <td>59869.6780</td>\n",
       "      <td>65923.3158</td>\n",
       "      <td>6053.6378</td>\n",
       "      <td>9.1828</td>\n",
       "    </tr>\n",
       "    <tr>\n",
       "      <th>61</th>\n",
       "      <td>48795.6592</td>\n",
       "      <td>54891.5542</td>\n",
       "      <td>6095.8950</td>\n",
       "      <td>11.1053</td>\n",
       "    </tr>\n",
       "  </tbody>\n",
       "</table>\n",
       "</div>"
      ],
      "text/plain": [
       "     Prediction      Target   Residual  Different%\n",
       "87   40740.4491  40741.7481     1.2989      0.0032\n",
       "88   49256.4721  49251.4438    -5.0283      0.0102\n",
       "169  47916.1631  47934.4286    18.2655      0.0381\n",
       "25   61166.1239  61139.1608   -26.9631      0.0441\n",
       "7    53350.0415  53325.3890   -24.6525      0.0462\n",
       "38   49897.9652  49856.7650   -41.2002      0.0826\n",
       "45   52980.1200  53027.6991    47.5791      0.0897\n",
       "94   52928.4068  52873.2107   -55.1961      0.1044\n",
       "143  41394.6486  41351.0268   -43.6218      0.1055\n",
       "20   50736.3604  50682.5015   -53.8590      0.1063\n",
       "157  53683.2128  53613.3569   -69.8559      0.1303\n",
       "100  57678.1077  57582.2240   -95.8837      0.1665\n",
       "174  51368.9014  51281.1091   -87.7923      0.1712\n",
       "30   46977.9099  47075.9365    98.0266      0.2082\n",
       "55   61188.5277  61055.1328  -133.3949      0.2185\n",
       "27   44812.9569  44916.7810   103.8241      0.2311\n",
       "97   50461.5012  50331.5042  -129.9971      0.2583\n",
       "0    54167.0348  54021.1363  -145.8986      0.2701\n",
       "161  57826.1538  57669.0250  -157.1289      0.2725\n",
       "104  55363.6419  55533.9594   170.3174      0.3067\n",
       "147  45068.0506  44916.7810  -151.2696      0.3368\n",
       "90   60295.0641  60500.6293   205.5652      0.3398\n",
       "139  48534.2757  48700.5272   166.2515      0.3414\n",
       "66   48109.5740  47937.6621  -171.9119      0.3586\n",
       "178  50050.4743  50240.3279   189.8536      0.3779\n",
       "50   49166.3633  48980.3900  -185.9733      0.3797\n",
       "105  55549.8063  55769.7720   219.9657      0.3944\n",
       "151  53376.0977  53141.6445  -234.4532      0.4412\n",
       "135  53415.2058  53178.8150  -236.3909      0.4445\n",
       "42   61668.4353  61948.4087   279.9734      0.4519\n",
       "140  61668.4353  61948.4087   279.9734      0.4519\n",
       "110  50714.6882  50466.0117  -248.6765      0.4928\n",
       "93   56088.0952  55770.7009  -317.3944      0.5691\n",
       "54   46800.4730  47075.9365   275.4635      0.5851\n",
       "175  51557.3648  51865.7349   308.3701      0.5946\n",
       "144  54983.1142  54654.7997  -328.3145      0.6007\n",
       "120  50516.9703  50215.0381  -301.9323      0.6013\n",
       "60   46198.8016  46499.3319   300.5304      0.6463\n",
       "47   62129.3502  61721.9682  -407.3820      0.6600\n",
       "177  57309.6484  56911.9386  -397.7098      0.6988\n",
       "171  40366.6975  40083.1905  -283.5070      0.7073\n",
       "76   52760.6874  52386.3630  -374.3245      0.7145\n",
       "22   53955.8576  53555.6911  -400.1665      0.7472\n",
       "176  44050.9287  44383.7802   332.8514      0.7499\n",
       "127  51686.5457  51300.5786  -385.9670      0.7524\n",
       "141  46077.7112  45733.2655  -344.4457      0.7532\n",
       "73   45906.4762  45550.6057  -355.8705      0.7813\n",
       "2    55814.8951  56267.8603   452.9652      0.8050\n",
       "4    51727.5730  51300.5786  -426.9944      0.8323\n",
       "91   51737.0455  51300.7750  -436.2705      0.8504\n",
       "99   44526.6828  44912.1741   385.4913      0.8583\n",
       "58   62946.1771  63503.1561   556.9791      0.8771\n",
       "114  46458.9484  46883.9737   425.0253      0.9065\n",
       "69   51607.7384  52089.0047   481.2662      0.9239\n",
       "79   49181.3700  49663.6310   482.2610      0.9711\n",
       "126  55407.5880  55973.2361   565.6480      1.0106\n",
       "78   52203.3276  51680.8096  -522.5180      1.0110\n",
       "156  46086.1491  46559.7129   473.5639      1.0171\n",
       "63   42888.8994  42448.0780  -440.8214      1.0385\n",
       "85   55675.3962  56267.8603   592.4641      1.0529\n",
       "34   58187.2785  58846.6855   659.4071      1.1206\n",
       "18   52728.4947  53326.7060   598.2113      1.1218\n",
       "77   52654.5259  52044.2227  -610.3032      1.1727\n",
       "150  57124.5591  56457.6813  -666.8778      1.1812\n",
       "82   54678.5735  54022.3280  -656.2456      1.2148\n",
       "111  54349.1755  53683.2093  -665.9662      1.2405\n",
       "11   49824.9260  50466.0117   641.0857      1.2703\n",
       "165  50615.7327  51300.5786   684.8459      1.3350\n",
       "170  49016.5482  48369.7902  -646.7580      1.3371\n",
       "13   65417.7228  66321.5336   903.8108      1.3628\n",
       "1    48825.4508  49514.2992   688.8484      1.3912\n",
       "65   51431.6459  50684.8662  -746.7797      1.4734\n",
       "59   53807.8667  53026.3239  -781.5428      1.4739\n",
       "23   50764.2384  50016.3666  -747.8718      1.4953\n",
       "173  48144.8234  47434.1643  -710.6591      1.4982\n",
       "81   53899.9021  53102.3090  -797.5931      1.5020\n",
       "164  45993.4176  46697.1868   703.7692      1.5071\n",
       "64   54114.1631  53307.8043  -806.3588      1.5126\n",
       "122  41240.8169  41899.1670   658.3501      1.5713\n",
       "124  47023.8092  46291.6148  -732.1945      1.5817\n",
       "167  48531.3135  47771.0480  -760.2654      1.5915\n",
       "3    45255.4894  44543.4567  -712.0326      1.5985\n",
       "123  49873.6069  50684.4363   810.8294      1.5998\n",
       "107  44540.2733  45265.4503   725.1770      1.6021\n",
       "125  51664.4675  50842.5115  -821.9560      1.6167\n",
       "162  49965.0119  50789.1683   824.1564      1.6227\n",
       "53   51522.7615  50682.5015  -840.2601      1.6579\n",
       "179  63057.6917  61948.4087 -1109.2830      1.7907\n",
       "70   57502.3564  58552.4009  1050.0445      1.7933\n",
       "148  49130.3660  48253.3399  -877.0261      1.8175\n",
       "129  48983.6502  48097.3690  -886.2811      1.8427\n",
       "9    55597.2935  56642.5553  1045.2618      1.8454\n",
       "119  46766.2079  47670.5196   904.3117      1.8970\n",
       "10   49022.5320  50006.8722   984.3402      1.9684\n",
       "142  41059.9804  40229.1306  -830.8498      2.0653\n",
       "21   57460.2558  58691.3909  1231.1350      2.0976\n",
       "19   45900.8727  46889.2768   988.4041      2.1080\n",
       "56   53493.5081  54654.7997  1161.2916      2.1248\n",
       "163  62479.2024  63867.2174  1388.0150      2.1733\n",
       "103  62494.4580  63897.5839  1403.1259      2.1959\n",
       "44   47418.6622  46378.1098 -1040.5524      2.2436\n",
       "128  51368.9014  50238.2623 -1130.6391      2.2506\n",
       "145  54762.0701  53520.9175 -1241.1526      2.3190\n",
       "41   42087.6006  43097.4593  1009.8588      2.3432\n",
       "131  52203.3276  53471.5102  1268.1826      2.3717\n",
       "159  58361.5610  56990.6561 -1370.9049      2.4055\n",
       "117  58329.5108  59770.7766  1441.2658      2.4113\n",
       "80   49265.4920  50483.7463  1218.2543      2.4132\n",
       "67   48795.6592  50004.7341  1209.0749      2.4179\n",
       "133  53314.2350  52024.9912 -1289.2438      2.4781\n",
       "75   51532.1965  50240.3279 -1291.8686      2.5714\n",
       "43   51050.0933  49765.0745 -1285.0189      2.5822\n",
       "33   57688.6698  56229.2783 -1459.3915      2.5954\n",
       "116  55964.9901  54532.7994 -1432.1906      2.6263\n",
       "72   56067.5589  57581.5042  1513.9453      2.6292\n",
       "31   52279.8534  50896.0653 -1383.7880      2.7189\n",
       "106  54882.5292  53428.5294 -1453.9998      2.7214\n",
       "40   53090.1782  51682.4813 -1407.6969      2.7237\n",
       "101  59665.3946  61351.3349  1685.9403      2.7480\n",
       "37   47572.3035  46295.3451 -1276.9584      2.7583\n",
       "36   52921.9462  51494.1933 -1427.7529      2.7726\n",
       "155  55910.3635  57542.2059  1631.8425      2.8359\n",
       "89   57656.9892  59345.9784  1688.9892      2.8460\n",
       "166  61173.5910  59476.2810 -1697.3099      2.8538\n",
       "153  56479.7175  54892.6064 -1587.1111      2.8913\n",
       "39   52587.0798  51101.3188 -1485.7610      2.9075\n",
       "152  46354.1485  47774.0306  1419.8821      2.9721\n",
       "49   60475.6598  62328.7613  1853.1015      2.9731\n",
       "5    55033.4758  53440.7751 -1592.7006      2.9803\n",
       "17   48475.0659  50006.8722  1531.8063      3.0632\n",
       "14   51525.9063  49983.3161 -1542.5902      3.0862\n",
       "32   58497.0781  56733.2183 -1763.8598      3.1090\n",
       "113  55502.3597  53752.3673 -1749.9924      3.2557\n",
       "102  62685.4673  64818.2349  2132.7676      3.2904\n",
       "138  44766.4832  46295.3451  1528.8619      3.3024\n",
       "118  53702.8758  55561.2268  1858.3511      3.3447\n",
       "149  51987.1124  53888.7902  1901.6778      3.5289\n",
       "68   49488.5079  47787.2702 -1701.2376      3.5600\n",
       "137  49124.3690  47434.1643 -1690.2046      3.5633\n",
       "52   61095.2326  58959.7956 -2135.4371      3.6219\n",
       "26   53262.1957  51396.3284 -1865.8673      3.6304\n",
       "29   54515.2894  52553.4728 -1961.8165      3.7330\n",
       "28   56379.8357  54281.0771 -2098.7586      3.8665\n",
       "15   55726.3919  53648.3708 -2078.0211      3.8734\n",
       "46   55553.1969  53471.5102 -2081.6867      3.8931\n",
       "108  50252.5003  48326.6257 -1925.8746      3.9851\n",
       "132  45194.7623  47072.6228  1877.8606      3.9893\n",
       "74   56074.4035  53875.2811 -2199.1225      4.0819\n",
       "158  59599.8802  57254.1978 -2345.6824      4.0970\n",
       "112  61868.2473  64511.3960  2643.1488      4.0972\n",
       "96   56686.9316  54433.7694 -2253.1622      4.1393\n",
       "134  46150.8906  44294.8400 -1856.0506      4.1902\n",
       "136  55100.6963  52873.2107 -2227.4856      4.2129\n",
       "168  58497.0781  56072.8133 -2424.2649      4.3234\n",
       "172  43407.7051  45405.0776  1997.3725      4.3990\n",
       "48   58151.7746  55698.0902 -2453.6844      4.4053\n",
       "115  42151.8702  44100.4433  1948.5731      4.4185\n",
       "92   53177.7403  50896.2737 -2281.4665      4.4826\n",
       "84   57131.5327  54653.7111 -2477.8216      4.5337\n",
       "57   46300.4242  48554.7615  2254.3373      4.6429\n",
       "16   60490.4262  63520.8518  3030.4256      4.7708\n",
       "62   58233.4659  55559.2067 -2674.2592      4.8134\n",
       "146  61924.9153  59019.6220 -2905.2933      4.9226\n",
       "98   59596.2426  62772.8034  3176.5608      5.0604\n",
       "6    60782.8018  64197.5463  3414.7445      5.3191\n",
       "86   45040.5517  47603.2124  2562.6607      5.3834\n",
       "71   56438.3657  59652.3107  3213.9450      5.3878\n",
       "24   44780.1469  47431.0251  2650.8782      5.5889\n",
       "121  56957.4469  60398.5438  3441.0970      5.6973\n",
       "51   55269.1071  58691.3909  3422.2837      5.8310\n",
       "160  64203.3519  68241.5845  4038.2326      5.9176\n",
       "130  61619.5235  66048.4646  4428.9411      6.7056\n",
       "83   49268.4990  45877.9271 -3390.5719      7.3904\n",
       "12   60475.6598  65391.1777  4915.5179      7.5171\n",
       "8    57075.7674  61766.0664  4690.2989      7.5937\n",
       "95   60365.0269  65662.0638  5297.0369      8.0671\n",
       "154  50655.9101  46809.6623 -3846.2478      8.2168\n",
       "35   56610.8650  52113.8162 -4497.0488      8.6293\n",
       "109  59869.6780  65923.3158  6053.6378      9.1828\n",
       "61   48795.6592  54891.5542  6095.8950     11.1053"
      ]
     },
     "execution_count": 120,
     "metadata": {},
     "output_type": "execute_result"
    }
   ],
   "source": [
    "pd.options.display.max_rows= 999\n",
    "df_pf.round(4).sort_values(by=[\"Different%\"])"
   ]
  },
  {
   "cell_type": "code",
   "execution_count": null,
   "metadata": {},
   "outputs": [],
   "source": []
  },
  {
   "cell_type": "code",
   "execution_count": null,
   "metadata": {},
   "outputs": [],
   "source": []
  }
 ],
 "metadata": {
  "kernelspec": {
   "display_name": "Python 3 (ipykernel)",
   "language": "python",
   "name": "python3"
  },
  "language_info": {
   "codemirror_mode": {
    "name": "ipython",
    "version": 3
   },
   "file_extension": ".py",
   "mimetype": "text/x-python",
   "name": "python",
   "nbconvert_exporter": "python",
   "pygments_lexer": "ipython3",
   "version": "3.9.12"
  }
 },
 "nbformat": 4,
 "nbformat_minor": 4
}
